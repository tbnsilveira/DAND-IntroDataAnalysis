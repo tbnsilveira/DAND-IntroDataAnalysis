{
 "cells": [
  {
   "cell_type": "markdown",
   "metadata": {},
   "source": [
    "# Medical Appointment No Shows\n",
    "This analysis is part of the Udacity Data Analysis Nanodegree program and aims to explore a dataset containing aproximately 100k medical appointments from the Brazilian public health system. It is basically divided into four sections: (1) *Introduction*, where the investigation problem is set and the dataset is described; (2) *Data Wrangling*, where the acquired data are cleaned and parsed; (3) *Exploratory Data Analysis*, in which some intuition about the data are built based on the found patterns; (4) *Conclusion*, where the found insights about the problem are reviewed and communicated.  \n",
    "\n",
    "Those readers not interested in the whole data analysis process may read <a href=\"#intro\">Section 1</a>, to get familiar with the data and the investigation problem and then jump directly to <a href=\"#conclusions\">Section 4</a> to find out the analysis results.\n",
    "\n",
    "## Table of Contents\n",
    "* <a href=\"#intro\">1. Introduction</a>\n",
    "  * <a href=\"#sec1.1\"> 1.1. Initial statements </a>\n",
    "  * <a href=\"#sec1.2\"> 1.2. Understanding the data </a>\n",
    "  * <a href=\"#sec1.3\"> 1.3. Hypothesis to be explored </a>\n",
    "* <a href=\"#wrangling\">2. Data Wrangling</a>\n",
    "  * <a href=\"#sec2.1\"> 2.1. General properties </a>\n",
    "  * <a href=\"#sec2.2\"> 2.2. Numerical attributes and outliers</a>\n",
    "    * <a href=\"#sec2.2.1\"> PatientID</a>\n",
    "    * <a href=\"#sec2.2.2\"> AppointmentID</a>   \n",
    "    * <a href=\"#sec2.2.3\"> Checking the Age attribute</a>   \n",
    "    * <a href=\"#sec2.2.4\"> Checking the Handcap attribute</a>   \n",
    "  * <a href=\"#sec2.3\"> 2.3. Categorical attributes</a>\n",
    "    * <a href=\"#sec2.3.1\"> Gender attribute</a>   \n",
    "    * <a href=\"#sec2.3.2\"> Schedule and appointment date</a>\n",
    "    * <a href=\"#sec2.3.3\"> Waiting days</a>\n",
    "    * <a href=\"#sec2.3.4\"> Neighborhood names</a>\n",
    "    * <a href=\"#sec2.3.5\"> No-show class</a>\n",
    "  * <a href=\"#sec2.4\"> 2.4. Data wrangling overview</a>\n",
    "* <a href=\"#eda\">3. Exploratory Data Analysis</a>\n",
    "  * <a href=\"#EDA_question1\">3.1. Exploring no-showing appointments</a>\n",
    "    * <a href=\"#sec3.1.1\"> Waiting time between the scheduling and the appointment date </a>\n",
    "  * <a href=\"#EDA_question2\">3.2. Exploring the patient profiles</a>\n",
    "    * <a href=\"#sec3.2.1\"> </a>\n",
    "* <a href=\"#conclusions\">4. Conclusions</a>\n",
    "* <a href=\"#references\">References</a>"
   ]
  },
  {
   "cell_type": "markdown",
   "metadata": {},
   "source": [
    "<a id='intro'></a>\n",
    "## 1. Introduction\n",
    "\n",
    "The Brazilian public health system, known as SUS for *Unified Health System* in its acronym in Portuguese, is one of the largest health system in the world <a href=\"#[1]\">[1]</a>, representing government investment of more than 9% of GDP. However, its operation is not homogeneous and there are distinct perceptions of quality from citizens in different regions of the country.\n",
    "\n",
    "This analysis will use the *no-show appointments dataset* which collects information from 100k medical appointments in Brazil and is focused on the question of whether or not patients show up for their appointment, including a set of characteristics about the patient in each row:\n",
    "- ‘ScheduledDay’: tells us on which day the patient set up their appointment.  \n",
    "- ‘Neighborhood’: indicates the location of the hospital.  \n",
    "- ‘Scholarship’: indicates whether or not the patient is enrolled in Brasilian welfare program called *Bolsa Família*.\n",
    "- 'No-show': it says ‘No’ if the patient showed up to their appointment, and ‘Yes’ if they did not show up.\n",
    "\n",
    "This analysis aims to outline some possible reasons for patient no-showing at the scheduled appointments, as well as get insights about the Brazilian public health system. To accomplish this, we will first try to understand the data and the context on which they were collected. We will then proceed to data wrangling and exploratory data analysis, in an iterative process, in order to draw some conclusions about the subject."
   ]
  },
  {
   "cell_type": "markdown",
   "metadata": {},
   "source": [
    "<a id='sec1.1'></a>\n",
    "### 1.1. Initial statements\n",
    "This section sets up import statements for all the packages that will be used throughout this python notebook."
   ]
  },
  {
   "cell_type": "code",
   "execution_count": 1,
   "metadata": {
    "collapsed": false
   },
   "outputs": [
    {
     "name": "stderr",
     "output_type": "stream",
     "text": [
      "/home/tbnsilveira/anaconda3/envs/analytics3/lib/python3.6/site-packages/IPython/html.py:14: ShimWarning: The `IPython.html` package has been deprecated. You should import from `notebook` instead. `IPython.html.widgets` has moved to `ipywidgets`.\n",
      "  \"`IPython.html.widgets` has moved to `ipywidgets`.\", ShimWarning)\n"
     ]
    }
   ],
   "source": [
    "# Data analysis packages:\n",
    "import pandas as pd\n",
    "import numpy as np\n",
    "#from datetime import datetime as dt\n",
    "\n",
    "# Visualization packages:\n",
    "import seaborn as sns\n",
    "import matplotlib.pyplot as plt\n",
    "%matplotlib inline"
   ]
  },
  {
   "cell_type": "markdown",
   "metadata": {},
   "source": [
    "<a id='sec1.2'></a>\n",
    "### 1.2. Understanding the data\n",
    "Since the original dataset is available at Kaggle <a href=\"#[2]\">[2]</a>, the first step was to get additional information available on its original repository, as transcripted below:\n",
    "\n",
    ">In response here it goes: Country? Brazil. Is this from private or public service? Or both? Public Sector (Brazil). Primary, secondary, or tertiary care? Primary care, not sure about it. Only physicians? What would be the specialties? We don't have these information.\n",
    "  \n",
    ">First appointment with that specific professional? I believe first appointments are prone to \"no show\". That is a very good hint, we don't have that information yet. Part of the day? Early morning might be worse. (Perhaps in the next version we can include it.\n",
    "\n",
    "Another relevant point is that any information is provided about the source of data. I.e., did these data come from a government agency or were they a compilation from each health unit? Furthermore, besides it is known the data is about public health unit, it is not said from which government sphere they belong to (municipal, state or federal). \n",
    "The absence of such information can result in a biased analysis, since the complex and decentralized Brazilian health system brings inevitable conflicts and contradictions between its associated entities, as identified in <a href=\"#[3]\">[3]</a>.\n",
    "\n",
    "This question regarding the data source was made at the Kaggle discussion forum (available at https://goo.gl/JB4P4d), on which the following answer were given: \n",
    "> This is at municipal level combining the appointments occurred in more then 45 units. As far as we know, the city has 20 million loss a year with no-shows. After so many studies happening in this data the average no-show now is 20%. Its important to mention that all services offered to the municipality were free of charge."
   ]
  },
  {
   "cell_type": "markdown",
   "metadata": {},
   "source": [
    "In order to define the hypotheses that will lead this analysis, it is first needed to know which information is available in the dataset (attributes). Thus, the first lines of the dataset are shown below:"
   ]
  },
  {
   "cell_type": "code",
   "execution_count": 2,
   "metadata": {
    "collapsed": false
   },
   "outputs": [
    {
     "data": {
      "text/html": [
       "<div>\n",
       "<style scoped>\n",
       "    .dataframe tbody tr th:only-of-type {\n",
       "        vertical-align: middle;\n",
       "    }\n",
       "\n",
       "    .dataframe tbody tr th {\n",
       "        vertical-align: top;\n",
       "    }\n",
       "\n",
       "    .dataframe thead th {\n",
       "        text-align: right;\n",
       "    }\n",
       "</style>\n",
       "<table border=\"1\" class=\"dataframe\">\n",
       "  <thead>\n",
       "    <tr style=\"text-align: right;\">\n",
       "      <th></th>\n",
       "      <th>PatientId</th>\n",
       "      <th>AppointmentID</th>\n",
       "      <th>Gender</th>\n",
       "      <th>ScheduledDay</th>\n",
       "      <th>AppointmentDay</th>\n",
       "      <th>Age</th>\n",
       "      <th>Neighbourhood</th>\n",
       "      <th>Scholarship</th>\n",
       "      <th>Hipertension</th>\n",
       "      <th>Diabetes</th>\n",
       "      <th>Alcoholism</th>\n",
       "      <th>Handcap</th>\n",
       "      <th>SMS_received</th>\n",
       "      <th>No-show</th>\n",
       "    </tr>\n",
       "  </thead>\n",
       "  <tbody>\n",
       "    <tr>\n",
       "      <th>0</th>\n",
       "      <td>2.987250e+13</td>\n",
       "      <td>5642903</td>\n",
       "      <td>F</td>\n",
       "      <td>2016-04-29T18:38:08Z</td>\n",
       "      <td>2016-04-29T00:00:00Z</td>\n",
       "      <td>62</td>\n",
       "      <td>JARDIM DA PENHA</td>\n",
       "      <td>0</td>\n",
       "      <td>1</td>\n",
       "      <td>0</td>\n",
       "      <td>0</td>\n",
       "      <td>0</td>\n",
       "      <td>0</td>\n",
       "      <td>No</td>\n",
       "    </tr>\n",
       "    <tr>\n",
       "      <th>1</th>\n",
       "      <td>5.589978e+14</td>\n",
       "      <td>5642503</td>\n",
       "      <td>M</td>\n",
       "      <td>2016-04-29T16:08:27Z</td>\n",
       "      <td>2016-04-29T00:00:00Z</td>\n",
       "      <td>56</td>\n",
       "      <td>JARDIM DA PENHA</td>\n",
       "      <td>0</td>\n",
       "      <td>0</td>\n",
       "      <td>0</td>\n",
       "      <td>0</td>\n",
       "      <td>0</td>\n",
       "      <td>0</td>\n",
       "      <td>No</td>\n",
       "    </tr>\n",
       "    <tr>\n",
       "      <th>2</th>\n",
       "      <td>4.262962e+12</td>\n",
       "      <td>5642549</td>\n",
       "      <td>F</td>\n",
       "      <td>2016-04-29T16:19:04Z</td>\n",
       "      <td>2016-04-29T00:00:00Z</td>\n",
       "      <td>62</td>\n",
       "      <td>MATA DA PRAIA</td>\n",
       "      <td>0</td>\n",
       "      <td>0</td>\n",
       "      <td>0</td>\n",
       "      <td>0</td>\n",
       "      <td>0</td>\n",
       "      <td>0</td>\n",
       "      <td>No</td>\n",
       "    </tr>\n",
       "    <tr>\n",
       "      <th>3</th>\n",
       "      <td>8.679512e+11</td>\n",
       "      <td>5642828</td>\n",
       "      <td>F</td>\n",
       "      <td>2016-04-29T17:29:31Z</td>\n",
       "      <td>2016-04-29T00:00:00Z</td>\n",
       "      <td>8</td>\n",
       "      <td>PONTAL DE CAMBURI</td>\n",
       "      <td>0</td>\n",
       "      <td>0</td>\n",
       "      <td>0</td>\n",
       "      <td>0</td>\n",
       "      <td>0</td>\n",
       "      <td>0</td>\n",
       "      <td>No</td>\n",
       "    </tr>\n",
       "    <tr>\n",
       "      <th>4</th>\n",
       "      <td>8.841186e+12</td>\n",
       "      <td>5642494</td>\n",
       "      <td>F</td>\n",
       "      <td>2016-04-29T16:07:23Z</td>\n",
       "      <td>2016-04-29T00:00:00Z</td>\n",
       "      <td>56</td>\n",
       "      <td>JARDIM DA PENHA</td>\n",
       "      <td>0</td>\n",
       "      <td>1</td>\n",
       "      <td>1</td>\n",
       "      <td>0</td>\n",
       "      <td>0</td>\n",
       "      <td>0</td>\n",
       "      <td>No</td>\n",
       "    </tr>\n",
       "  </tbody>\n",
       "</table>\n",
       "</div>"
      ],
      "text/plain": [
       "      PatientId  AppointmentID Gender          ScheduledDay  \\\n",
       "0  2.987250e+13        5642903      F  2016-04-29T18:38:08Z   \n",
       "1  5.589978e+14        5642503      M  2016-04-29T16:08:27Z   \n",
       "2  4.262962e+12        5642549      F  2016-04-29T16:19:04Z   \n",
       "3  8.679512e+11        5642828      F  2016-04-29T17:29:31Z   \n",
       "4  8.841186e+12        5642494      F  2016-04-29T16:07:23Z   \n",
       "\n",
       "         AppointmentDay  Age      Neighbourhood  Scholarship  Hipertension  \\\n",
       "0  2016-04-29T00:00:00Z   62    JARDIM DA PENHA            0             1   \n",
       "1  2016-04-29T00:00:00Z   56    JARDIM DA PENHA            0             0   \n",
       "2  2016-04-29T00:00:00Z   62      MATA DA PRAIA            0             0   \n",
       "3  2016-04-29T00:00:00Z    8  PONTAL DE CAMBURI            0             0   \n",
       "4  2016-04-29T00:00:00Z   56    JARDIM DA PENHA            0             1   \n",
       "\n",
       "   Diabetes  Alcoholism  Handcap  SMS_received No-show  \n",
       "0         0           0        0             0      No  \n",
       "1         0           0        0             0      No  \n",
       "2         0           0        0             0      No  \n",
       "3         0           0        0             0      No  \n",
       "4         1           0        0             0      No  "
      ]
     },
     "execution_count": 2,
     "metadata": {},
     "output_type": "execute_result"
    }
   ],
   "source": [
    "pd.read_csv('noshowappointments-kagglev2-may-2016.csv').head()"
   ]
  },
  {
   "cell_type": "markdown",
   "metadata": {},
   "source": [
    "<a id='sec1.3'></a>\n",
    "### 1.3. Hypotheses to be explored\n",
    "\n",
    "From the dataset information and its attributes, the following questions can be formulated:\n",
    "* **Regarding the no-showing appointments**:\n",
    "  - Do the patients forget the appointment?\n",
    "  - What is the average waiting time between the scheduling date and the appointment date?\n",
    "  \n",
    "* **Regarding the patient profile**:\n",
    "  - Is there any common characteristics among those patients that miss appointments?\n",
    "  - What is the *missing appointments per patient* relation in the dataset?  \n",
    "  - How many patients have missed an appointment at least once?\n",
    "  - Patients suffering from serious illnesses are more assiduous?\n",
    "\n",
    "* **Regarding the health unit**:\n",
    "  - What are the neighbourhoods with the highest no-showing rate?\n",
    "  - Considering there are common characteristics among those who do not attend the appointments, how these characteristics are geographically distributed?\n",
    "  \n",
    "* **Regarding the data**:\n",
    "  - Is the data balanced in relation to the interest class (showing/no-showing to appointments)?\n",
    "  - How is the data distributed in relation to the location (neighborhood)? I.e. all the units have an equivalent and balanced number of instances?\n",
    "  \n",
    "The analysis conduced in the next sections will try to address some of these questions answering them based on the available dataset."
   ]
  },
  {
   "cell_type": "markdown",
   "metadata": {},
   "source": [
    "<a id='wrangling'></a>\n",
    "## 2. Data Wrangling\n",
    "In this section the data will be loaded and some operations will be performed to inspect data types, to look for missing values or possibly errant data. Data cleaning operations will be executed in the same section where a specific attribute is being analyzed."
   ]
  },
  {
   "cell_type": "markdown",
   "metadata": {},
   "source": [
    "<a id='sec2.1'></a>\n",
    "### 2.1. General Properties"
   ]
  },
  {
   "cell_type": "code",
   "execution_count": 362,
   "metadata": {
    "collapsed": false,
    "scrolled": true
   },
   "outputs": [
    {
     "data": {
      "text/html": [
       "<div>\n",
       "<style scoped>\n",
       "    .dataframe tbody tr th:only-of-type {\n",
       "        vertical-align: middle;\n",
       "    }\n",
       "\n",
       "    .dataframe tbody tr th {\n",
       "        vertical-align: top;\n",
       "    }\n",
       "\n",
       "    .dataframe thead th {\n",
       "        text-align: right;\n",
       "    }\n",
       "</style>\n",
       "<table border=\"1\" class=\"dataframe\">\n",
       "  <thead>\n",
       "    <tr style=\"text-align: right;\">\n",
       "      <th></th>\n",
       "      <th>PatientId</th>\n",
       "      <th>AppointmentID</th>\n",
       "      <th>Gender</th>\n",
       "      <th>ScheduledDay</th>\n",
       "      <th>AppointmentDay</th>\n",
       "      <th>Age</th>\n",
       "      <th>Neighbourhood</th>\n",
       "      <th>Scholarship</th>\n",
       "      <th>Hipertension</th>\n",
       "      <th>Diabetes</th>\n",
       "      <th>Alcoholism</th>\n",
       "      <th>Handcap</th>\n",
       "      <th>SMS_received</th>\n",
       "      <th>No-show</th>\n",
       "    </tr>\n",
       "  </thead>\n",
       "  <tbody>\n",
       "    <tr>\n",
       "      <th>0</th>\n",
       "      <td>2.987250e+13</td>\n",
       "      <td>5642903</td>\n",
       "      <td>F</td>\n",
       "      <td>2016-04-29T18:38:08Z</td>\n",
       "      <td>2016-04-29T00:00:00Z</td>\n",
       "      <td>62</td>\n",
       "      <td>JARDIM DA PENHA</td>\n",
       "      <td>0</td>\n",
       "      <td>1</td>\n",
       "      <td>0</td>\n",
       "      <td>0</td>\n",
       "      <td>0</td>\n",
       "      <td>0</td>\n",
       "      <td>No</td>\n",
       "    </tr>\n",
       "    <tr>\n",
       "      <th>1</th>\n",
       "      <td>5.589978e+14</td>\n",
       "      <td>5642503</td>\n",
       "      <td>M</td>\n",
       "      <td>2016-04-29T16:08:27Z</td>\n",
       "      <td>2016-04-29T00:00:00Z</td>\n",
       "      <td>56</td>\n",
       "      <td>JARDIM DA PENHA</td>\n",
       "      <td>0</td>\n",
       "      <td>0</td>\n",
       "      <td>0</td>\n",
       "      <td>0</td>\n",
       "      <td>0</td>\n",
       "      <td>0</td>\n",
       "      <td>No</td>\n",
       "    </tr>\n",
       "    <tr>\n",
       "      <th>2</th>\n",
       "      <td>4.262962e+12</td>\n",
       "      <td>5642549</td>\n",
       "      <td>F</td>\n",
       "      <td>2016-04-29T16:19:04Z</td>\n",
       "      <td>2016-04-29T00:00:00Z</td>\n",
       "      <td>62</td>\n",
       "      <td>MATA DA PRAIA</td>\n",
       "      <td>0</td>\n",
       "      <td>0</td>\n",
       "      <td>0</td>\n",
       "      <td>0</td>\n",
       "      <td>0</td>\n",
       "      <td>0</td>\n",
       "      <td>No</td>\n",
       "    </tr>\n",
       "  </tbody>\n",
       "</table>\n",
       "</div>"
      ],
      "text/plain": [
       "      PatientId  AppointmentID Gender          ScheduledDay  \\\n",
       "0  2.987250e+13        5642903      F  2016-04-29T18:38:08Z   \n",
       "1  5.589978e+14        5642503      M  2016-04-29T16:08:27Z   \n",
       "2  4.262962e+12        5642549      F  2016-04-29T16:19:04Z   \n",
       "\n",
       "         AppointmentDay  Age    Neighbourhood  Scholarship  Hipertension  \\\n",
       "0  2016-04-29T00:00:00Z   62  JARDIM DA PENHA            0             1   \n",
       "1  2016-04-29T00:00:00Z   56  JARDIM DA PENHA            0             0   \n",
       "2  2016-04-29T00:00:00Z   62    MATA DA PRAIA            0             0   \n",
       "\n",
       "   Diabetes  Alcoholism  Handcap  SMS_received No-show  \n",
       "0         0           0        0             0      No  \n",
       "1         0           0        0             0      No  \n",
       "2         0           0        0             0      No  "
      ]
     },
     "execution_count": 362,
     "metadata": {},
     "output_type": "execute_result"
    }
   ],
   "source": [
    "## Loading the dataset and printing out a few lines:\n",
    "dataset = pd.read_csv('noshowappointments-kagglev2-may-2016.csv')\n",
    "dataset.head(3)"
   ]
  },
  {
   "cell_type": "code",
   "execution_count": 363,
   "metadata": {
    "collapsed": false,
    "scrolled": false
   },
   "outputs": [
    {
     "name": "stdout",
     "output_type": "stream",
     "text": [
      "<class 'pandas.core.frame.DataFrame'>\n",
      "RangeIndex: 110527 entries, 0 to 110526\n",
      "Data columns (total 14 columns):\n",
      "PatientId         110527 non-null float64\n",
      "AppointmentID     110527 non-null int64\n",
      "Gender            110527 non-null object\n",
      "ScheduledDay      110527 non-null object\n",
      "AppointmentDay    110527 non-null object\n",
      "Age               110527 non-null int64\n",
      "Neighbourhood     110527 non-null object\n",
      "Scholarship       110527 non-null int64\n",
      "Hipertension      110527 non-null int64\n",
      "Diabetes          110527 non-null int64\n",
      "Alcoholism        110527 non-null int64\n",
      "Handcap           110527 non-null int64\n",
      "SMS_received      110527 non-null int64\n",
      "No-show           110527 non-null object\n",
      "dtypes: float64(1), int64(8), object(5)\n",
      "memory usage: 11.8+ MB\n"
     ]
    }
   ],
   "source": [
    "## Reading dataset general information:\n",
    "dataset.info()"
   ]
  },
  {
   "cell_type": "markdown",
   "metadata": {},
   "source": [
    "From the command above, it is possible to notice the dataset has no missing values, since all the attributes have 110.527 instances. However there is no guarantee these values are all consistent. In the way to check it, the *pandas.describe()* method will be applied in the next section to gather information from the numerical attributes."
   ]
  },
  {
   "cell_type": "markdown",
   "metadata": {},
   "source": [
    "<a id='sec2.2'></a>\n",
    "### 2.2. Numerical attributes and outliers"
   ]
  },
  {
   "cell_type": "code",
   "execution_count": 364,
   "metadata": {
    "collapsed": false,
    "scrolled": false
   },
   "outputs": [
    {
     "data": {
      "text/html": [
       "<div>\n",
       "<style scoped>\n",
       "    .dataframe tbody tr th:only-of-type {\n",
       "        vertical-align: middle;\n",
       "    }\n",
       "\n",
       "    .dataframe tbody tr th {\n",
       "        vertical-align: top;\n",
       "    }\n",
       "\n",
       "    .dataframe thead th {\n",
       "        text-align: right;\n",
       "    }\n",
       "</style>\n",
       "<table border=\"1\" class=\"dataframe\">\n",
       "  <thead>\n",
       "    <tr style=\"text-align: right;\">\n",
       "      <th></th>\n",
       "      <th>PatientId</th>\n",
       "      <th>AppointmentID</th>\n",
       "      <th>Age</th>\n",
       "      <th>Scholarship</th>\n",
       "      <th>Hipertension</th>\n",
       "      <th>Diabetes</th>\n",
       "      <th>Alcoholism</th>\n",
       "      <th>Handcap</th>\n",
       "      <th>SMS_received</th>\n",
       "    </tr>\n",
       "  </thead>\n",
       "  <tbody>\n",
       "    <tr>\n",
       "      <th>count</th>\n",
       "      <td>1.105270e+05</td>\n",
       "      <td>1.105270e+05</td>\n",
       "      <td>110527.000000</td>\n",
       "      <td>110527.000000</td>\n",
       "      <td>110527.000000</td>\n",
       "      <td>110527.000000</td>\n",
       "      <td>110527.000000</td>\n",
       "      <td>110527.000000</td>\n",
       "      <td>110527.000000</td>\n",
       "    </tr>\n",
       "    <tr>\n",
       "      <th>mean</th>\n",
       "      <td>1.474963e+14</td>\n",
       "      <td>5.675305e+06</td>\n",
       "      <td>37.088874</td>\n",
       "      <td>0.098266</td>\n",
       "      <td>0.197246</td>\n",
       "      <td>0.071865</td>\n",
       "      <td>0.030400</td>\n",
       "      <td>0.022248</td>\n",
       "      <td>0.321026</td>\n",
       "    </tr>\n",
       "    <tr>\n",
       "      <th>std</th>\n",
       "      <td>2.560949e+14</td>\n",
       "      <td>7.129575e+04</td>\n",
       "      <td>23.110205</td>\n",
       "      <td>0.297675</td>\n",
       "      <td>0.397921</td>\n",
       "      <td>0.258265</td>\n",
       "      <td>0.171686</td>\n",
       "      <td>0.161543</td>\n",
       "      <td>0.466873</td>\n",
       "    </tr>\n",
       "    <tr>\n",
       "      <th>min</th>\n",
       "      <td>3.921784e+04</td>\n",
       "      <td>5.030230e+06</td>\n",
       "      <td>-1.000000</td>\n",
       "      <td>0.000000</td>\n",
       "      <td>0.000000</td>\n",
       "      <td>0.000000</td>\n",
       "      <td>0.000000</td>\n",
       "      <td>0.000000</td>\n",
       "      <td>0.000000</td>\n",
       "    </tr>\n",
       "    <tr>\n",
       "      <th>25%</th>\n",
       "      <td>4.172614e+12</td>\n",
       "      <td>5.640286e+06</td>\n",
       "      <td>18.000000</td>\n",
       "      <td>0.000000</td>\n",
       "      <td>0.000000</td>\n",
       "      <td>0.000000</td>\n",
       "      <td>0.000000</td>\n",
       "      <td>0.000000</td>\n",
       "      <td>0.000000</td>\n",
       "    </tr>\n",
       "    <tr>\n",
       "      <th>50%</th>\n",
       "      <td>3.173184e+13</td>\n",
       "      <td>5.680573e+06</td>\n",
       "      <td>37.000000</td>\n",
       "      <td>0.000000</td>\n",
       "      <td>0.000000</td>\n",
       "      <td>0.000000</td>\n",
       "      <td>0.000000</td>\n",
       "      <td>0.000000</td>\n",
       "      <td>0.000000</td>\n",
       "    </tr>\n",
       "    <tr>\n",
       "      <th>75%</th>\n",
       "      <td>9.439172e+13</td>\n",
       "      <td>5.725524e+06</td>\n",
       "      <td>55.000000</td>\n",
       "      <td>0.000000</td>\n",
       "      <td>0.000000</td>\n",
       "      <td>0.000000</td>\n",
       "      <td>0.000000</td>\n",
       "      <td>0.000000</td>\n",
       "      <td>1.000000</td>\n",
       "    </tr>\n",
       "    <tr>\n",
       "      <th>max</th>\n",
       "      <td>9.999816e+14</td>\n",
       "      <td>5.790484e+06</td>\n",
       "      <td>115.000000</td>\n",
       "      <td>1.000000</td>\n",
       "      <td>1.000000</td>\n",
       "      <td>1.000000</td>\n",
       "      <td>1.000000</td>\n",
       "      <td>4.000000</td>\n",
       "      <td>1.000000</td>\n",
       "    </tr>\n",
       "  </tbody>\n",
       "</table>\n",
       "</div>"
      ],
      "text/plain": [
       "          PatientId  AppointmentID            Age    Scholarship  \\\n",
       "count  1.105270e+05   1.105270e+05  110527.000000  110527.000000   \n",
       "mean   1.474963e+14   5.675305e+06      37.088874       0.098266   \n",
       "std    2.560949e+14   7.129575e+04      23.110205       0.297675   \n",
       "min    3.921784e+04   5.030230e+06      -1.000000       0.000000   \n",
       "25%    4.172614e+12   5.640286e+06      18.000000       0.000000   \n",
       "50%    3.173184e+13   5.680573e+06      37.000000       0.000000   \n",
       "75%    9.439172e+13   5.725524e+06      55.000000       0.000000   \n",
       "max    9.999816e+14   5.790484e+06     115.000000       1.000000   \n",
       "\n",
       "        Hipertension       Diabetes     Alcoholism        Handcap  \\\n",
       "count  110527.000000  110527.000000  110527.000000  110527.000000   \n",
       "mean        0.197246       0.071865       0.030400       0.022248   \n",
       "std         0.397921       0.258265       0.171686       0.161543   \n",
       "min         0.000000       0.000000       0.000000       0.000000   \n",
       "25%         0.000000       0.000000       0.000000       0.000000   \n",
       "50%         0.000000       0.000000       0.000000       0.000000   \n",
       "75%         0.000000       0.000000       0.000000       0.000000   \n",
       "max         1.000000       1.000000       1.000000       4.000000   \n",
       "\n",
       "        SMS_received  \n",
       "count  110527.000000  \n",
       "mean        0.321026  \n",
       "std         0.466873  \n",
       "min         0.000000  \n",
       "25%         0.000000  \n",
       "50%         0.000000  \n",
       "75%         1.000000  \n",
       "max         1.000000  "
      ]
     },
     "execution_count": 364,
     "metadata": {},
     "output_type": "execute_result"
    }
   ],
   "source": [
    "## Describing the numerical attributes:\n",
    "dataset.describe()"
   ]
  },
  {
   "cell_type": "markdown",
   "metadata": {},
   "source": [
    "<a id='sec2.2.1'></a>\n",
    "#### 2.2.1 PatientID:\n",
    "This attribute type is originally numerical *(float64 type)*. However, since it represents the patient identification, any numerical operations should not be applied to it and therefore it will be transformed into a string type:"
   ]
  },
  {
   "cell_type": "code",
   "execution_count": 365,
   "metadata": {
    "collapsed": false
   },
   "outputs": [
    {
     "data": {
      "text/plain": [
       "numpy.float64"
      ]
     },
     "execution_count": 365,
     "metadata": {},
     "output_type": "execute_result"
    }
   ],
   "source": [
    "## Checking the attribute data type:\n",
    "type(dataset['PatientId'][0])"
   ]
  },
  {
   "cell_type": "code",
   "execution_count": 366,
   "metadata": {
    "collapsed": false
   },
   "outputs": [],
   "source": [
    "## Converting the values to int type and then to str type:\n",
    "dataset['PatientId'] = dataset['PatientId'].apply(lambda x: str(int(x)));"
   ]
  },
  {
   "cell_type": "code",
   "execution_count": 367,
   "metadata": {
    "collapsed": false,
    "scrolled": true
   },
   "outputs": [
    {
     "data": {
      "text/plain": [
       "62299"
      ]
     },
     "execution_count": 367,
     "metadata": {},
     "output_type": "execute_result"
    }
   ],
   "source": [
    "## Counting how many unique patients are in the dataset:\n",
    "len(dataset['PatientId'].unique())"
   ]
  },
  {
   "cell_type": "markdown",
   "metadata": {},
   "source": [
    "Counting the unique values of this dataset attribute shows us how many unique patients we are dealing with. In this case, there are 62,299 patients which indicates that some patients had more than one appointment *(an average of 1.77 appointments per patient)*. "
   ]
  },
  {
   "cell_type": "markdown",
   "metadata": {},
   "source": [
    "<a id='sec2.2.2'></a>\n",
    "#### 2.2.2 AppointmentID:\n",
    "The same can be said for the *AppointmentID* attribute, which will also be transformed into a string type:"
   ]
  },
  {
   "cell_type": "code",
   "execution_count": 368,
   "metadata": {
    "collapsed": false
   },
   "outputs": [
    {
     "data": {
      "text/plain": [
       "numpy.int64"
      ]
     },
     "execution_count": 368,
     "metadata": {},
     "output_type": "execute_result"
    }
   ],
   "source": [
    "## Checking the attribute data type:\n",
    "type(dataset['AppointmentID'][0])"
   ]
  },
  {
   "cell_type": "code",
   "execution_count": 369,
   "metadata": {
    "collapsed": false
   },
   "outputs": [],
   "source": [
    "## Converting the values to int type and then to str type:\n",
    "dataset['AppointmentID'] = dataset['AppointmentID'].apply(lambda x: str(int(x)));"
   ]
  },
  {
   "cell_type": "code",
   "execution_count": 370,
   "metadata": {
    "collapsed": false,
    "scrolled": true
   },
   "outputs": [
    {
     "data": {
      "text/plain": [
       "110527"
      ]
     },
     "execution_count": 370,
     "metadata": {},
     "output_type": "execute_result"
    }
   ],
   "source": [
    "## Counting how many unique patients are in the dataset:\n",
    "len(dataset['AppointmentID'].unique())"
   ]
  },
  {
   "cell_type": "markdown",
   "metadata": {},
   "source": [
    "This attribute seems to be consistent: there are 110,527 instances in the dataset, as well as 110,527 unique values for the appointmentIDs. For last, since each instance corresponds to an appointment register, we will redefine the dataset index to the appointment IDs. "
   ]
  },
  {
   "cell_type": "code",
   "execution_count": 371,
   "metadata": {
    "collapsed": true
   },
   "outputs": [],
   "source": [
    "dataset.set_index('AppointmentID', drop=True, inplace=True)"
   ]
  },
  {
   "cell_type": "markdown",
   "metadata": {},
   "source": [
    "<a id='sec2.2.3'></a>\n",
    "#### 2.2.3. Checking the *Age* attribute:\n",
    "It is not possible to be aged $-1$, as well as older than $100$ years calls some attention. The latter will be analyzed appropriately at the exploratory data analysis section, but agest under zero are definitely a mistake. In this case, we will first check how many instances correspond to this before treat them."
   ]
  },
  {
   "cell_type": "code",
   "execution_count": 372,
   "metadata": {
    "collapsed": false,
    "scrolled": false
   },
   "outputs": [
    {
     "data": {
      "text/html": [
       "<div>\n",
       "<style scoped>\n",
       "    .dataframe tbody tr th:only-of-type {\n",
       "        vertical-align: middle;\n",
       "    }\n",
       "\n",
       "    .dataframe tbody tr th {\n",
       "        vertical-align: top;\n",
       "    }\n",
       "\n",
       "    .dataframe thead th {\n",
       "        text-align: right;\n",
       "    }\n",
       "</style>\n",
       "<table border=\"1\" class=\"dataframe\">\n",
       "  <thead>\n",
       "    <tr style=\"text-align: right;\">\n",
       "      <th></th>\n",
       "      <th>PatientId</th>\n",
       "      <th>Gender</th>\n",
       "      <th>ScheduledDay</th>\n",
       "      <th>AppointmentDay</th>\n",
       "      <th>Age</th>\n",
       "      <th>Neighbourhood</th>\n",
       "      <th>Scholarship</th>\n",
       "      <th>Hipertension</th>\n",
       "      <th>Diabetes</th>\n",
       "      <th>Alcoholism</th>\n",
       "      <th>Handcap</th>\n",
       "      <th>SMS_received</th>\n",
       "      <th>No-show</th>\n",
       "    </tr>\n",
       "    <tr>\n",
       "      <th>AppointmentID</th>\n",
       "      <th></th>\n",
       "      <th></th>\n",
       "      <th></th>\n",
       "      <th></th>\n",
       "      <th></th>\n",
       "      <th></th>\n",
       "      <th></th>\n",
       "      <th></th>\n",
       "      <th></th>\n",
       "      <th></th>\n",
       "      <th></th>\n",
       "      <th></th>\n",
       "      <th></th>\n",
       "    </tr>\n",
       "  </thead>\n",
       "  <tbody>\n",
       "    <tr>\n",
       "      <th>5775010</th>\n",
       "      <td>465943158731293</td>\n",
       "      <td>F</td>\n",
       "      <td>2016-06-06T08:58:13Z</td>\n",
       "      <td>2016-06-06T00:00:00Z</td>\n",
       "      <td>-1</td>\n",
       "      <td>ROMÃO</td>\n",
       "      <td>0</td>\n",
       "      <td>0</td>\n",
       "      <td>0</td>\n",
       "      <td>0</td>\n",
       "      <td>0</td>\n",
       "      <td>0</td>\n",
       "      <td>No</td>\n",
       "    </tr>\n",
       "  </tbody>\n",
       "</table>\n",
       "</div>"
      ],
      "text/plain": [
       "                     PatientId Gender          ScheduledDay  \\\n",
       "AppointmentID                                                 \n",
       "5775010        465943158731293      F  2016-06-06T08:58:13Z   \n",
       "\n",
       "                     AppointmentDay  Age Neighbourhood  Scholarship  \\\n",
       "AppointmentID                                                         \n",
       "5775010        2016-06-06T00:00:00Z   -1         ROMÃO            0   \n",
       "\n",
       "               Hipertension  Diabetes  Alcoholism  Handcap  SMS_received  \\\n",
       "AppointmentID                                                              \n",
       "5775010                   0         0           0        0             0   \n",
       "\n",
       "              No-show  \n",
       "AppointmentID          \n",
       "5775010            No  "
      ]
     },
     "execution_count": 372,
     "metadata": {},
     "output_type": "execute_result"
    }
   ],
   "source": [
    "dataset[dataset['Age']<0]"
   ]
  },
  {
   "cell_type": "markdown",
   "metadata": {},
   "source": [
    "Since there is just one occurrence, it will be removed from the dataset."
   ]
  },
  {
   "cell_type": "code",
   "execution_count": 373,
   "metadata": {
    "collapsed": false
   },
   "outputs": [],
   "source": [
    "dataset.drop('5775010',inplace=True)  #Removing the anomalous instance\n",
    "# dataset.reset_index(drop=True,inplace=True)  #Reseting the dataset index"
   ]
  },
  {
   "cell_type": "markdown",
   "metadata": {},
   "source": [
    "<a id='sec2.2.4'></a>\n",
    "#### 2.2.4. Checking the *Handcap* attribute:\n",
    "In the dataset metadata it is said that the *handcap* attribute should cointain a boolean value. However, as seen above, this attribute assumes values from 0 to 4, probably indicating the handicap number for each patient. In this analysis, we will map to 1 any value higher than 0.  \n",
    "\n",
    "Also, there is a typo in the attribute name (it should be *handicap*) which will be corrected later."
   ]
  },
  {
   "cell_type": "code",
   "execution_count": 374,
   "metadata": {
    "collapsed": true
   },
   "outputs": [],
   "source": [
    "## Converting all 'Handcap' values higher than 0 to 1:\n",
    "dataset['Handcap'] = np.where(dataset['Handcap']>0, 1, 0)"
   ]
  },
  {
   "cell_type": "markdown",
   "metadata": {},
   "source": [
    "<a id='sec2.3'></a>\n",
    "### 2.3. Categorical attributes"
   ]
  },
  {
   "cell_type": "code",
   "execution_count": 375,
   "metadata": {
    "collapsed": false,
    "scrolled": true
   },
   "outputs": [
    {
     "name": "stdout",
     "output_type": "stream",
     "text": [
      "<class 'pandas.core.frame.DataFrame'>\n",
      "Index: 110526 entries, 5642903 to 5629448\n",
      "Data columns (total 13 columns):\n",
      "PatientId         110526 non-null object\n",
      "Gender            110526 non-null object\n",
      "ScheduledDay      110526 non-null object\n",
      "AppointmentDay    110526 non-null object\n",
      "Age               110526 non-null int64\n",
      "Neighbourhood     110526 non-null object\n",
      "Scholarship       110526 non-null int64\n",
      "Hipertension      110526 non-null int64\n",
      "Diabetes          110526 non-null int64\n",
      "Alcoholism        110526 non-null int64\n",
      "Handcap           110526 non-null int64\n",
      "SMS_received      110526 non-null int64\n",
      "No-show           110526 non-null object\n",
      "dtypes: int64(7), object(6)\n",
      "memory usage: 11.8+ MB\n"
     ]
    }
   ],
   "source": [
    "## Getting information of the categorical attributes:\n",
    "dataset.info()"
   ]
  },
  {
   "cell_type": "markdown",
   "metadata": {},
   "source": [
    "<a id='sec2.3.1'></a>\n",
    "####  2.3.1. *Gender* attribute:\n",
    "Only two values are expected from this attribute. In order to check its consistency, the sum for both **M**ale and **F**emale classes must equal the total number of instances."
   ]
  },
  {
   "cell_type": "code",
   "execution_count": 376,
   "metadata": {
    "collapsed": false
   },
   "outputs": [
    {
     "data": {
      "text/plain": [
       "F    71839\n",
       "M    38687\n",
       "Name: Gender, dtype: int64"
      ]
     },
     "execution_count": 376,
     "metadata": {},
     "output_type": "execute_result"
    }
   ],
   "source": [
    "## Counting gender classes\n",
    "dataset.Gender.value_counts()"
   ]
  },
  {
   "cell_type": "markdown",
   "metadata": {},
   "source": [
    "Although the attribute data are consistent (the total sums 110,526 instances), they are unbalanced. Since each instance represents the appointment and not the patient, this fact can be treated in a further analysis."
   ]
  },
  {
   "cell_type": "markdown",
   "metadata": {},
   "source": [
    "<a id='sec2.3.2'></a>\n",
    "####  2.3.2. Schedule and appointment date:\n",
    "These two attributes are related to when the patient scheduled *(ScheduledDay)* and to which date he scheduled the appointment *(AppointmentDay)*. It is effort to notice, though, that the *AppointmentDay* has just the date information, while the *ScheduledDay* has both date and time information.  \n",
    "In this section we will parse the data in order to find out how many days have passed between the schedule date and the appointment date. To get to it, we could use the python native datetime library. However, we choose to use the pandas methods for datetime processing <a href=\"#[4]\">[4]</a>."
   ]
  },
  {
   "cell_type": "code",
   "execution_count": 377,
   "metadata": {
    "collapsed": false,
    "scrolled": false
   },
   "outputs": [
    {
     "data": {
      "text/html": [
       "<div>\n",
       "<style scoped>\n",
       "    .dataframe tbody tr th:only-of-type {\n",
       "        vertical-align: middle;\n",
       "    }\n",
       "\n",
       "    .dataframe tbody tr th {\n",
       "        vertical-align: top;\n",
       "    }\n",
       "\n",
       "    .dataframe thead th {\n",
       "        text-align: right;\n",
       "    }\n",
       "</style>\n",
       "<table border=\"1\" class=\"dataframe\">\n",
       "  <thead>\n",
       "    <tr style=\"text-align: right;\">\n",
       "      <th></th>\n",
       "      <th>PatientId</th>\n",
       "      <th>Gender</th>\n",
       "      <th>ScheduledDay</th>\n",
       "      <th>AppointmentDay</th>\n",
       "      <th>Age</th>\n",
       "      <th>Neighbourhood</th>\n",
       "      <th>Scholarship</th>\n",
       "      <th>Hipertension</th>\n",
       "      <th>Diabetes</th>\n",
       "      <th>Alcoholism</th>\n",
       "      <th>Handcap</th>\n",
       "      <th>SMS_received</th>\n",
       "      <th>No-show</th>\n",
       "    </tr>\n",
       "    <tr>\n",
       "      <th>AppointmentID</th>\n",
       "      <th></th>\n",
       "      <th></th>\n",
       "      <th></th>\n",
       "      <th></th>\n",
       "      <th></th>\n",
       "      <th></th>\n",
       "      <th></th>\n",
       "      <th></th>\n",
       "      <th></th>\n",
       "      <th></th>\n",
       "      <th></th>\n",
       "      <th></th>\n",
       "      <th></th>\n",
       "    </tr>\n",
       "  </thead>\n",
       "  <tbody>\n",
       "    <tr>\n",
       "      <th>5642903</th>\n",
       "      <td>29872499824296</td>\n",
       "      <td>F</td>\n",
       "      <td>2016-04-29T18:38:08Z</td>\n",
       "      <td>2016-04-29T00:00:00Z</td>\n",
       "      <td>62</td>\n",
       "      <td>JARDIM DA PENHA</td>\n",
       "      <td>0</td>\n",
       "      <td>1</td>\n",
       "      <td>0</td>\n",
       "      <td>0</td>\n",
       "      <td>0</td>\n",
       "      <td>0</td>\n",
       "      <td>No</td>\n",
       "    </tr>\n",
       "    <tr>\n",
       "      <th>5642503</th>\n",
       "      <td>558997776694438</td>\n",
       "      <td>M</td>\n",
       "      <td>2016-04-29T16:08:27Z</td>\n",
       "      <td>2016-04-29T00:00:00Z</td>\n",
       "      <td>56</td>\n",
       "      <td>JARDIM DA PENHA</td>\n",
       "      <td>0</td>\n",
       "      <td>0</td>\n",
       "      <td>0</td>\n",
       "      <td>0</td>\n",
       "      <td>0</td>\n",
       "      <td>0</td>\n",
       "      <td>No</td>\n",
       "    </tr>\n",
       "  </tbody>\n",
       "</table>\n",
       "</div>"
      ],
      "text/plain": [
       "                     PatientId Gender          ScheduledDay  \\\n",
       "AppointmentID                                                 \n",
       "5642903         29872499824296      F  2016-04-29T18:38:08Z   \n",
       "5642503        558997776694438      M  2016-04-29T16:08:27Z   \n",
       "\n",
       "                     AppointmentDay  Age    Neighbourhood  Scholarship  \\\n",
       "AppointmentID                                                            \n",
       "5642903        2016-04-29T00:00:00Z   62  JARDIM DA PENHA            0   \n",
       "5642503        2016-04-29T00:00:00Z   56  JARDIM DA PENHA            0   \n",
       "\n",
       "               Hipertension  Diabetes  Alcoholism  Handcap  SMS_received  \\\n",
       "AppointmentID                                                              \n",
       "5642903                   1         0           0        0             0   \n",
       "5642503                   0         0           0        0             0   \n",
       "\n",
       "              No-show  \n",
       "AppointmentID          \n",
       "5642903            No  \n",
       "5642503            No  "
      ]
     },
     "execution_count": 377,
     "metadata": {},
     "output_type": "execute_result"
    }
   ],
   "source": [
    "## Reading again the dataset first lines to get acquainted with its content:\n",
    "dataset.head(2)"
   ]
  },
  {
   "cell_type": "markdown",
   "metadata": {},
   "source": [
    "##### Parsing the date and time information:"
   ]
  },
  {
   "cell_type": "code",
   "execution_count": 378,
   "metadata": {
    "collapsed": false,
    "scrolled": true
   },
   "outputs": [],
   "source": [
    "## Converting the date information in string to datetime type:\n",
    "dataset['ScheduledDay'] = pd.to_datetime(dataset.ScheduledDay)\n",
    "dataset['AppointmentDay'] = pd.to_datetime(dataset.AppointmentDay)\n",
    "## Creating a new column (attribute) containing just the scheduling time:\n",
    "dataset['ScheduleTime'] = dataset.ScheduledDay.dt.time\n",
    "## Normalizing the \"Day\" columns to keep just the date information (dropping the time info)\n",
    "dataset['ScheduledDay'] = dataset.ScheduledDay.dt.normalize()"
   ]
  },
  {
   "cell_type": "markdown",
   "metadata": {},
   "source": [
    "<a id='sec2.3.3'></a>\n",
    "#### 2.3.3. Waiting days"
   ]
  },
  {
   "cell_type": "markdown",
   "metadata": {},
   "source": [
    "A relevant information for this analysis is the waiting time, in days, between the scheduling date and the appointment date. To get to this, we will first have to parse the data through the following steps:*\n",
    "* Create a \"Waiting Days\" column;\n",
    "* Categorize these values in the context of this analysis;\n",
    "* Insert the correspondent categories in the working dataset."
   ]
  },
  {
   "cell_type": "code",
   "execution_count": 379,
   "metadata": {
    "collapsed": true
   },
   "outputs": [],
   "source": [
    "## Since both 'AppointmentDay' and 'ScheduledDay' are pandas.Timestamp type, this operation can be done directly:\n",
    "dataset['WaitingDays'] = dataset['AppointmentDay'] - dataset['ScheduledDay']"
   ]
  },
  {
   "cell_type": "markdown",
   "metadata": {},
   "source": [
    "At this point we must **check the data consistency** in relation to the scheduling and appointment times: if the new *WaitingDays* attribute has negative values, this indicates that the scheduling was performed after the appointment and such record should therefore be handled.  \n",
    "\n",
    "To help further analysis, a function will be created to return a *time delta* type from a given number of days. "
   ]
  },
  {
   "cell_type": "code",
   "execution_count": 380,
   "metadata": {
    "collapsed": true
   },
   "outputs": [],
   "source": [
    "def waiting_days(days):\n",
    "    '''Auxiliary function to parse a date information from string type to python datetime object.\n",
    "    Syntax: waiting_days(days), where:\n",
    "        days = int type with the number of days considered.\n",
    "    Return: a correspondent pandas._libs.tslib.Timedelta data type.\n",
    "    '''\n",
    "    arg = str(days) + ' days'\n",
    "    return pd.tslib.Timedelta(arg)"
   ]
  },
  {
   "cell_type": "code",
   "execution_count": 381,
   "metadata": {
    "collapsed": false
   },
   "outputs": [
    {
     "data": {
      "text/html": [
       "<div>\n",
       "<style scoped>\n",
       "    .dataframe tbody tr th:only-of-type {\n",
       "        vertical-align: middle;\n",
       "    }\n",
       "\n",
       "    .dataframe tbody tr th {\n",
       "        vertical-align: top;\n",
       "    }\n",
       "\n",
       "    .dataframe thead th {\n",
       "        text-align: right;\n",
       "    }\n",
       "</style>\n",
       "<table border=\"1\" class=\"dataframe\">\n",
       "  <thead>\n",
       "    <tr style=\"text-align: right;\">\n",
       "      <th></th>\n",
       "      <th>PatientId</th>\n",
       "      <th>Gender</th>\n",
       "      <th>ScheduledDay</th>\n",
       "      <th>AppointmentDay</th>\n",
       "      <th>Age</th>\n",
       "      <th>Neighbourhood</th>\n",
       "      <th>Scholarship</th>\n",
       "      <th>Hipertension</th>\n",
       "      <th>Diabetes</th>\n",
       "      <th>Alcoholism</th>\n",
       "      <th>Handcap</th>\n",
       "      <th>SMS_received</th>\n",
       "      <th>No-show</th>\n",
       "      <th>ScheduleTime</th>\n",
       "      <th>WaitingDays</th>\n",
       "    </tr>\n",
       "    <tr>\n",
       "      <th>AppointmentID</th>\n",
       "      <th></th>\n",
       "      <th></th>\n",
       "      <th></th>\n",
       "      <th></th>\n",
       "      <th></th>\n",
       "      <th></th>\n",
       "      <th></th>\n",
       "      <th></th>\n",
       "      <th></th>\n",
       "      <th></th>\n",
       "      <th></th>\n",
       "      <th></th>\n",
       "      <th></th>\n",
       "      <th></th>\n",
       "      <th></th>\n",
       "    </tr>\n",
       "  </thead>\n",
       "  <tbody>\n",
       "    <tr>\n",
       "      <th>5679978</th>\n",
       "      <td>7839272661752</td>\n",
       "      <td>M</td>\n",
       "      <td>2016-05-10</td>\n",
       "      <td>2016-05-09</td>\n",
       "      <td>38</td>\n",
       "      <td>RESISTÊNCIA</td>\n",
       "      <td>0</td>\n",
       "      <td>0</td>\n",
       "      <td>0</td>\n",
       "      <td>0</td>\n",
       "      <td>1</td>\n",
       "      <td>0</td>\n",
       "      <td>Yes</td>\n",
       "      <td>10:51:53</td>\n",
       "      <td>-1 days</td>\n",
       "    </tr>\n",
       "    <tr>\n",
       "      <th>5715660</th>\n",
       "      <td>7896293967868</td>\n",
       "      <td>F</td>\n",
       "      <td>2016-05-18</td>\n",
       "      <td>2016-05-17</td>\n",
       "      <td>19</td>\n",
       "      <td>SANTO ANTÔNIO</td>\n",
       "      <td>0</td>\n",
       "      <td>0</td>\n",
       "      <td>0</td>\n",
       "      <td>0</td>\n",
       "      <td>1</td>\n",
       "      <td>0</td>\n",
       "      <td>Yes</td>\n",
       "      <td>14:50:41</td>\n",
       "      <td>-1 days</td>\n",
       "    </tr>\n",
       "    <tr>\n",
       "      <th>5664962</th>\n",
       "      <td>24252258389979</td>\n",
       "      <td>F</td>\n",
       "      <td>2016-05-05</td>\n",
       "      <td>2016-05-04</td>\n",
       "      <td>22</td>\n",
       "      <td>CONSOLAÇÃO</td>\n",
       "      <td>0</td>\n",
       "      <td>0</td>\n",
       "      <td>0</td>\n",
       "      <td>0</td>\n",
       "      <td>0</td>\n",
       "      <td>0</td>\n",
       "      <td>Yes</td>\n",
       "      <td>13:43:58</td>\n",
       "      <td>-1 days</td>\n",
       "    </tr>\n",
       "    <tr>\n",
       "      <th>5686628</th>\n",
       "      <td>998231581612122</td>\n",
       "      <td>F</td>\n",
       "      <td>2016-05-11</td>\n",
       "      <td>2016-05-05</td>\n",
       "      <td>81</td>\n",
       "      <td>SANTO ANTÔNIO</td>\n",
       "      <td>0</td>\n",
       "      <td>0</td>\n",
       "      <td>0</td>\n",
       "      <td>0</td>\n",
       "      <td>0</td>\n",
       "      <td>0</td>\n",
       "      <td>Yes</td>\n",
       "      <td>13:49:20</td>\n",
       "      <td>-6 days</td>\n",
       "    </tr>\n",
       "    <tr>\n",
       "      <th>5655637</th>\n",
       "      <td>3787481966821</td>\n",
       "      <td>M</td>\n",
       "      <td>2016-05-04</td>\n",
       "      <td>2016-05-03</td>\n",
       "      <td>7</td>\n",
       "      <td>TABUAZEIRO</td>\n",
       "      <td>0</td>\n",
       "      <td>0</td>\n",
       "      <td>0</td>\n",
       "      <td>0</td>\n",
       "      <td>0</td>\n",
       "      <td>0</td>\n",
       "      <td>Yes</td>\n",
       "      <td>06:50:57</td>\n",
       "      <td>-1 days</td>\n",
       "    </tr>\n",
       "  </tbody>\n",
       "</table>\n",
       "</div>"
      ],
      "text/plain": [
       "                     PatientId Gender ScheduledDay AppointmentDay  Age  \\\n",
       "AppointmentID                                                            \n",
       "5679978          7839272661752      M   2016-05-10     2016-05-09   38   \n",
       "5715660          7896293967868      F   2016-05-18     2016-05-17   19   \n",
       "5664962         24252258389979      F   2016-05-05     2016-05-04   22   \n",
       "5686628        998231581612122      F   2016-05-11     2016-05-05   81   \n",
       "5655637          3787481966821      M   2016-05-04     2016-05-03    7   \n",
       "\n",
       "               Neighbourhood  Scholarship  Hipertension  Diabetes  Alcoholism  \\\n",
       "AppointmentID                                                                   \n",
       "5679978          RESISTÊNCIA            0             0         0           0   \n",
       "5715660        SANTO ANTÔNIO            0             0         0           0   \n",
       "5664962           CONSOLAÇÃO            0             0         0           0   \n",
       "5686628        SANTO ANTÔNIO            0             0         0           0   \n",
       "5655637           TABUAZEIRO            0             0         0           0   \n",
       "\n",
       "               Handcap  SMS_received No-show ScheduleTime WaitingDays  \n",
       "AppointmentID                                                          \n",
       "5679978              1             0     Yes     10:51:53     -1 days  \n",
       "5715660              1             0     Yes     14:50:41     -1 days  \n",
       "5664962              0             0     Yes     13:43:58     -1 days  \n",
       "5686628              0             0     Yes     13:49:20     -6 days  \n",
       "5655637              0             0     Yes     06:50:57     -1 days  "
      ]
     },
     "execution_count": 381,
     "metadata": {},
     "output_type": "execute_result"
    }
   ],
   "source": [
    "## Checking which instances were scheduled after the appointment:\n",
    "dataset[dataset['WaitingDays'] < waiting_days(0)]"
   ]
  },
  {
   "cell_type": "markdown",
   "metadata": {},
   "source": [
    "Since few inconsistent instances have been found, they will be removed:"
   ]
  },
  {
   "cell_type": "code",
   "execution_count": 382,
   "metadata": {
    "collapsed": false
   },
   "outputs": [],
   "source": [
    "## Recording the inconsistent instances index \n",
    "dropIx = dataset[dataset['WaitingDays'] < waiting_days(0)].index\n",
    "## Dropping these instances from the dataset:\n",
    "dataset.drop(dropIx, inplace=True)"
   ]
  },
  {
   "cell_type": "markdown",
   "metadata": {},
   "source": [
    "The latest operations return a *pandas..Timedelta* type. However, in order to analyze this data, we need first to get just the number of days using a native method from pandas library:"
   ]
  },
  {
   "cell_type": "code",
   "execution_count": 383,
   "metadata": {
    "collapsed": false
   },
   "outputs": [],
   "source": [
    "dataset['WaitingDays'] = dataset.WaitingDays.dt.days  #Extract just the day value from the full \"timedelta\" object."
   ]
  },
  {
   "cell_type": "markdown",
   "metadata": {},
   "source": [
    "Now, making use of another dataframe, these data will be parsed appropriately making use of the *groupBy* method, which returns a *pandas.groupby object* with the selected attributes as index:"
   ]
  },
  {
   "cell_type": "code",
   "execution_count": 384,
   "metadata": {
    "collapsed": false
   },
   "outputs": [],
   "source": [
    "## Grouping by the 'WaitingDays' and 'No_show' values:\n",
    "waitingdays = dataset.groupby(by=['WaitingDays','No-show'])"
   ]
  },
  {
   "cell_type": "markdown",
   "metadata": {},
   "source": [
    "Since we are interested in the number of instances grouped either by 'WaitingDays' as by 'No_show' attributes, we will then use the *count()* method. To avoid redundancy we choose the 'PatientId' as reference, but it could be applied in any other attribute. We make use of the *unstack()* method to transform the hierarchical index as dataframe columns again."
   ]
  },
  {
   "cell_type": "code",
   "execution_count": 385,
   "metadata": {
    "collapsed": false
   },
   "outputs": [],
   "source": [
    "waitingdays = waitingdays.count()['PatientId'].unstack()"
   ]
  },
  {
   "cell_type": "markdown",
   "metadata": {},
   "source": [
    "Since for a given number of waiting days there is no correspondent values for *No_show: Yes* or *No_show: No*, the last operation will result in a *NumPy.NaN* value. However, in order to be able to plot these data, we will replace those NaN for 0. We will also reset the index, moving its values to a new dataframe column:"
   ]
  },
  {
   "cell_type": "code",
   "execution_count": 386,
   "metadata": {
    "collapsed": false,
    "scrolled": false
   },
   "outputs": [
    {
     "name": "stdout",
     "output_type": "stream",
     "text": [
      "<class 'pandas.core.frame.DataFrame'>\n",
      "RangeIndex: 129 entries, 0 to 128\n",
      "Data columns (total 3 columns):\n",
      "WaitingDays    129 non-null int64\n",
      "No             129 non-null float64\n",
      "Yes            129 non-null float64\n",
      "dtypes: float64(2), int64(1)\n",
      "memory usage: 3.1 KB\n"
     ]
    }
   ],
   "source": [
    "waitingdays.fillna(value=0, inplace=True)\n",
    "waitingdays.reset_index(drop=False, inplace=True)\n",
    "waitingdays.info()"
   ]
  },
  {
   "cell_type": "markdown",
   "metadata": {},
   "source": [
    "The days some patients have to wait to be attended varies from 0 to 179. In order to enable a data analysis, we will categorize them as follow, using the *cut()* method as explained in <a href=\"#[5]\">[5]</a>:\n",
    "\n",
    "Waiting time   | Number of days\n",
    "--- | ---\n",
    "Same day | 0\n",
    "Short | 1 - 3\n",
    "Week | 4 - 7\n",
    "Fortnight | 8 - 15\n",
    "Month | 16 - 30\n",
    "Quarter | 31 - 90\n",
    "Semester | 91 - 180\n",
    "Very long | > 180"
   ]
  },
  {
   "cell_type": "code",
   "execution_count": 387,
   "metadata": {
    "collapsed": true
   },
   "outputs": [],
   "source": [
    "## Defining the categories label:\n",
    "categories = pd.Series(['Same day: 0', 'Short: 1-3', 'Week: 4-7', 'Fortnight: 8-15', 'Month: 16-30', 'Quarter: 31-90', 'Semester: 91-180', 'Very long: >180'])"
   ]
  },
  {
   "cell_type": "code",
   "execution_count": 388,
   "metadata": {
    "collapsed": false
   },
   "outputs": [],
   "source": [
    "## Applying these categories both to the auxiliary and to the working datasets:\n",
    "waitingdays['WaitingDays'] = pd.cut(waitingdays.WaitingDays, bins = [-1,0,3,7,15,30,90,180, 10000], labels=categories)\n",
    "dataset['WaitingCategories'] = pd.cut(dataset.WaitingDays, bins = [-1,0,3,7,15,30,90,180, 10000], labels=categories)"
   ]
  },
  {
   "cell_type": "markdown",
   "metadata": {},
   "source": [
    "The categorized waiting days information was updated in the main dataset. However, it would be useful to parse the auxiliary dataset (*waitingdays*) in order to find out how the no-showing rate is distributed among the waiting categories."
   ]
  },
  {
   "cell_type": "code",
   "execution_count": 389,
   "metadata": {
    "collapsed": false
   },
   "outputs": [],
   "source": [
    "## Grouping the dataset by the waiting categories, returning the sum of all instances:\n",
    "waitingdays = waitingdays.groupby('WaitingDays').sum()\n",
    "## Creating a new attribute, \"No-showing rate\", relating how many patients did not show up against those who did.\n",
    "waitingdays['No-showing rate'] = (waitingdays.Yes / waitingdays.No)*100"
   ]
  },
  {
   "cell_type": "code",
   "execution_count": 390,
   "metadata": {
    "collapsed": false,
    "scrolled": true
   },
   "outputs": [
    {
     "data": {
      "text/html": [
       "<div>\n",
       "<style scoped>\n",
       "    .dataframe tbody tr th:only-of-type {\n",
       "        vertical-align: middle;\n",
       "    }\n",
       "\n",
       "    .dataframe tbody tr th {\n",
       "        vertical-align: top;\n",
       "    }\n",
       "\n",
       "    .dataframe thead th {\n",
       "        text-align: right;\n",
       "    }\n",
       "</style>\n",
       "<table border=\"1\" class=\"dataframe\">\n",
       "  <thead>\n",
       "    <tr style=\"text-align: right;\">\n",
       "      <th>No-show</th>\n",
       "      <th>No</th>\n",
       "      <th>Yes</th>\n",
       "      <th>No-showing rate</th>\n",
       "    </tr>\n",
       "    <tr>\n",
       "      <th>WaitingDays</th>\n",
       "      <th></th>\n",
       "      <th></th>\n",
       "      <th></th>\n",
       "    </tr>\n",
       "  </thead>\n",
       "  <tbody>\n",
       "    <tr>\n",
       "      <th>Same day: 0</th>\n",
       "      <td>36770.0</td>\n",
       "      <td>1792.0</td>\n",
       "      <td>4.873538</td>\n",
       "    </tr>\n",
       "    <tr>\n",
       "      <th>Short: 1-3</th>\n",
       "      <td>11316.0</td>\n",
       "      <td>3359.0</td>\n",
       "      <td>29.683634</td>\n",
       "    </tr>\n",
       "    <tr>\n",
       "      <th>Week: 4-7</th>\n",
       "      <td>13097.0</td>\n",
       "      <td>4413.0</td>\n",
       "      <td>33.694739</td>\n",
       "    </tr>\n",
       "    <tr>\n",
       "      <th>Fortnight: 8-15</th>\n",
       "      <td>9362.0</td>\n",
       "      <td>4166.0</td>\n",
       "      <td>44.499039</td>\n",
       "    </tr>\n",
       "    <tr>\n",
       "      <th>Month: 16-30</th>\n",
       "      <td>10709.0</td>\n",
       "      <td>5159.0</td>\n",
       "      <td>48.174433</td>\n",
       "    </tr>\n",
       "    <tr>\n",
       "      <th>Quarter: 31-90</th>\n",
       "      <td>6792.0</td>\n",
       "      <td>3369.0</td>\n",
       "      <td>49.602473</td>\n",
       "    </tr>\n",
       "    <tr>\n",
       "      <th>Semester: 91-180</th>\n",
       "      <td>161.0</td>\n",
       "      <td>56.0</td>\n",
       "      <td>34.782609</td>\n",
       "    </tr>\n",
       "    <tr>\n",
       "      <th>Very long: &gt;180</th>\n",
       "      <td>0.0</td>\n",
       "      <td>0.0</td>\n",
       "      <td>NaN</td>\n",
       "    </tr>\n",
       "  </tbody>\n",
       "</table>\n",
       "</div>"
      ],
      "text/plain": [
       "No-show                No     Yes  No-showing rate\n",
       "WaitingDays                                       \n",
       "Same day: 0       36770.0  1792.0         4.873538\n",
       "Short: 1-3        11316.0  3359.0        29.683634\n",
       "Week: 4-7         13097.0  4413.0        33.694739\n",
       "Fortnight: 8-15    9362.0  4166.0        44.499039\n",
       "Month: 16-30      10709.0  5159.0        48.174433\n",
       "Quarter: 31-90     6792.0  3369.0        49.602473\n",
       "Semester: 91-180    161.0    56.0        34.782609\n",
       "Very long: >180       0.0     0.0              NaN"
      ]
     },
     "execution_count": 390,
     "metadata": {},
     "output_type": "execute_result"
    }
   ],
   "source": [
    "## Viewing the resulting dataset:\n",
    "waitingdays"
   ]
  },
  {
   "cell_type": "markdown",
   "metadata": {},
   "source": [
    "<a id='sec2.3.4'></a>\n",
    "#### 2.3.4. *Neighborhood* names\n",
    "Accordingly to the dataset description, this attributes refers to where the health unit is located. "
   ]
  },
  {
   "cell_type": "code",
   "execution_count": 391,
   "metadata": {
    "collapsed": false
   },
   "outputs": [
    {
     "data": {
      "text/plain": [
       "array(['AEROPORTO', 'ANDORINHAS', 'ANTÔNIO HONÓRIO', 'ARIOVALDO FAVALESSA',\n",
       "       'BARRO VERMELHO', 'BELA VISTA', 'BENTO FERREIRA', 'BOA VISTA',\n",
       "       'BONFIM', 'CARATOÍRA', 'CENTRO', 'COMDUSA', 'CONQUISTA',\n",
       "       'CONSOLAÇÃO', 'CRUZAMENTO', 'DA PENHA', 'DE LOURDES', 'DO CABRAL',\n",
       "       'DO MOSCOSO', 'DO QUADRO', 'ENSEADA DO SUÁ', 'ESTRELINHA',\n",
       "       'FONTE GRANDE', 'FORTE SÃO JOÃO', 'FRADINHOS', 'GOIABEIRAS',\n",
       "       'GRANDE VITÓRIA', 'GURIGICA', 'HORTO', 'ILHA DAS CAIEIRAS',\n",
       "       'ILHA DE SANTA MARIA', 'ILHA DO BOI', 'ILHA DO FRADE',\n",
       "       'ILHA DO PRÍNCIPE', 'ILHAS OCEÂNICAS DE TRINDADE', 'INHANGUETÁ',\n",
       "       'ITARARÉ', 'JABOUR', 'JARDIM CAMBURI', 'JARDIM DA PENHA',\n",
       "       'JESUS DE NAZARETH', 'JOANA D´ARC', 'JUCUTUQUARA', 'MARIA ORTIZ',\n",
       "       'MARUÍPE', 'MATA DA PRAIA', 'MONTE BELO', 'MORADA DE CAMBURI',\n",
       "       'MÁRIO CYPRESTE', 'NAZARETH', 'NOVA PALESTINA', 'PARQUE INDUSTRIAL',\n",
       "       'PARQUE MOSCOSO', 'PIEDADE', 'PONTAL DE CAMBURI', 'PRAIA DO CANTO',\n",
       "       'PRAIA DO SUÁ', 'REDENÇÃO', 'REPÚBLICA', 'RESISTÊNCIA', 'ROMÃO',\n",
       "       'SANTA CECÍLIA', 'SANTA CLARA', 'SANTA HELENA', 'SANTA LUÍZA',\n",
       "       'SANTA LÚCIA', 'SANTA MARTHA', 'SANTA TEREZA', 'SANTO ANDRÉ',\n",
       "       'SANTO ANTÔNIO', 'SANTOS DUMONT', 'SANTOS REIS', 'SEGURANÇA DO LAR',\n",
       "       'SOLON BORGES', 'SÃO BENEDITO', 'SÃO CRISTÓVÃO', 'SÃO JOSÉ',\n",
       "       'SÃO PEDRO', 'TABUAZEIRO', 'UNIVERSITÁRIO', 'VILA RUBIM'], dtype=object)"
      ]
     },
     "execution_count": 391,
     "metadata": {},
     "output_type": "execute_result"
    }
   ],
   "source": [
    "## Checking the unique neighborhood names:\n",
    "neighborhood = dataset.Neighbourhood.unique()\n",
    "neighborhood.sort()  #Sorting the names in alphabetical order\n",
    "neighborhood  #Showing the results"
   ]
  },
  {
   "cell_type": "code",
   "execution_count": 392,
   "metadata": {
    "collapsed": false
   },
   "outputs": [
    {
     "data": {
      "text/plain": [
       "81"
      ]
     },
     "execution_count": 392,
     "metadata": {},
     "output_type": "execute_result"
    }
   ],
   "source": [
    "## Counting neighborhood:\n",
    "len(neighborhood)"
   ]
  },
  {
   "cell_type": "code",
   "execution_count": 393,
   "metadata": {
    "collapsed": false,
    "scrolled": false
   },
   "outputs": [
    {
     "name": "stderr",
     "output_type": "stream",
     "text": [
      "/home/tbnsilveira/anaconda3/envs/analytics3/lib/python3.6/site-packages/seaborn/categorical.py:1428: FutureWarning: remove_na is deprecated and is a private function. Do not use.\n",
      "  stat_data = remove_na(group_data)\n"
     ]
    },
    {
     "data": {
      "image/png": "[encoded data removed]",
      "text/plain": [
       "<matplotlib.figure.Figure at 0x7efcaf1a8be0>"
      ]
     },
     "metadata": {},
     "output_type": "display_data"
    }
   ],
   "source": [
    "## Plotting an histogram with the neighborhoods sorted alphabetically. \n",
    "plt.figure(figsize=(16,6))\n",
    "ax = sns.countplot(x='Neighbourhood', data=dataset, order=neighborhood)\n",
    "ax.set_xticklabels(ax.get_xticklabels(), rotation=40, ha=\"right\", fontsize=7)\n",
    "plt.show()"
   ]
  },
  {
   "cell_type": "markdown",
   "metadata": {},
   "source": [
    "From the graph above, it can be noticed there are 81 different neighborhood being considered, where 8 of them register more than 3k appointments. However, in the data description (see <a href=\"#intro\">Section 1</a></li>) it is said there are 45 health units, which leads us to consider the neighborhood as where the patient lives.  \n",
    "\n",
    "Due to this, EDA involving the neighborhood must be carried out in a careful manner."
   ]
  },
  {
   "cell_type": "markdown",
   "metadata": {},
   "source": [
    "<a id='sec2.3.5'></a>\n",
    "####  2.3.5. *No-show* class:\n",
    "We want to check wheter the class values are consistent with the expected values for this database (true or false)."
   ]
  },
  {
   "cell_type": "code",
   "execution_count": 394,
   "metadata": {
    "collapsed": false
   },
   "outputs": [
    {
     "data": {
      "text/plain": [
       "No     88207\n",
       "Yes    22314\n",
       "Name: No-show, dtype: int64"
      ]
     },
     "execution_count": 394,
     "metadata": {},
     "output_type": "execute_result"
    }
   ],
   "source": [
    "## Counting gender classes\n",
    "dataset['No-show'].value_counts()"
   ]
  },
  {
   "cell_type": "markdown",
   "metadata": {},
   "source": [
    "The total sum is consistent with the dataset length. However, as it was also noticed for the *Gender* attribute, this data are unbalanced, i.e. there are more instances pertaining to one class than other. Since this attribute represents our dataset categorization, this fact becomes more relevant for the further analysis. In other words, although we can get some useful insights from this data, we must be careful when applying this dataset to training machine learning algorithms and so on. "
   ]
  },
  {
   "cell_type": "markdown",
   "metadata": {},
   "source": [
    "<a id='sec2.4'></a>\n",
    "### 2.4. Data wrangling overview"
   ]
  },
  {
   "cell_type": "markdown",
   "metadata": {},
   "source": [
    "Just in order to help its reading, the dataset attributes will be rearranged to put all the date and time information together, as well as correcting the typos in the attribute names:"
   ]
  },
  {
   "cell_type": "code",
   "execution_count": 395,
   "metadata": {
    "collapsed": false,
    "scrolled": true
   },
   "outputs": [
    {
     "data": {
      "text/plain": [
       "Index(['PatientId', 'Gender', 'ScheduledDay', 'AppointmentDay', 'Age',\n",
       "       'Neighbourhood', 'Scholarship', 'Hipertension', 'Diabetes',\n",
       "       'Alcoholism', 'Handcap', 'SMS_received', 'No-show', 'ScheduleTime',\n",
       "       'WaitingDays', 'WaitingCategories'],\n",
       "      dtype='object')"
      ]
     },
     "execution_count": 395,
     "metadata": {},
     "output_type": "execute_result"
    }
   ],
   "source": [
    "## Reading the dataset attributes (columns):\n",
    "dataset.columns"
   ]
  },
  {
   "cell_type": "code",
   "execution_count": 396,
   "metadata": {
    "collapsed": false
   },
   "outputs": [],
   "source": [
    "dataset = dataset.reindex(columns=['PatientId', 'Gender', 'Age', 'Scholarship', 'Hipertension', 'Diabetes',\n",
    "       'Alcoholism', 'Handcap', 'ScheduledDay', 'ScheduleTime', 'AppointmentDay', 'WaitingDays', 'WaitingCategories', 'SMS_received', \n",
    "       'Neighbourhood', 'No-show'])"
   ]
  },
  {
   "cell_type": "code",
   "execution_count": 397,
   "metadata": {
    "collapsed": false,
    "scrolled": true
   },
   "outputs": [
    {
     "data": {
      "text/plain": [
       "Index(['PatientId', 'Gender', 'Age', 'Scholarship', 'Hipertension', 'Diabetes',\n",
       "       'Alcoholism', 'Handcap', 'ScheduledDay', 'ScheduleTime',\n",
       "       'AppointmentDay', 'WaitingDays', 'WaitingCategories', 'SMS_received',\n",
       "       'Neighbourhood', 'No-show'],\n",
       "      dtype='object')"
      ]
     },
     "execution_count": 397,
     "metadata": {},
     "output_type": "execute_result"
    }
   ],
   "source": [
    "## Reading again the current attribute labels:\n",
    "dataset.columns"
   ]
  },
  {
   "cell_type": "code",
   "execution_count": 398,
   "metadata": {
    "collapsed": false
   },
   "outputs": [],
   "source": [
    "## Renaming \"No-show\"to \"No_show\"; \"Handcap\" to \"Handicap\"; and \"ScheduleTime\" to \"ScheduledTime\":\n",
    "dataset.columns = ['PatientId', 'Gender', 'Age', 'Scholarship', 'Hipertension', 'Diabetes',\n",
    "       'Alcoholism', 'Handicap', 'ScheduledDay', 'ScheduledTime', 'AppointmentDay', 'WaitingDays', \n",
    "       'WaitingCategories', 'SMS_received', 'Neighbourhood', 'No_show']"
   ]
  },
  {
   "cell_type": "markdown",
   "metadata": {},
   "source": [
    "We then conclude this data wrangling step by showing an overview of the pre-processed data, i.e. the data after the wrangling and cleansing process. "
   ]
  },
  {
   "cell_type": "code",
   "execution_count": 399,
   "metadata": {
    "collapsed": false
   },
   "outputs": [
    {
     "name": "stdout",
     "output_type": "stream",
     "text": [
      "<class 'pandas.core.frame.DataFrame'>\n",
      "Index: 110521 entries, 5642903 to 5629448\n",
      "Data columns (total 16 columns):\n",
      "PatientId            110521 non-null object\n",
      "Gender               110521 non-null object\n",
      "Age                  110521 non-null int64\n",
      "Scholarship          110521 non-null int64\n",
      "Hipertension         110521 non-null int64\n",
      "Diabetes             110521 non-null int64\n",
      "Alcoholism           110521 non-null int64\n",
      "Handicap             110521 non-null int64\n",
      "ScheduledDay         110521 non-null datetime64[ns]\n",
      "ScheduledTime        110521 non-null object\n",
      "AppointmentDay       110521 non-null datetime64[ns]\n",
      "WaitingDays          110521 non-null int64\n",
      "WaitingCategories    110521 non-null category\n",
      "SMS_received         110521 non-null int64\n",
      "Neighbourhood        110521 non-null object\n",
      "No_show              110521 non-null object\n",
      "dtypes: category(1), datetime64[ns](2), int64(8), object(5)\n",
      "memory usage: 18.6+ MB\n",
      "None\n"
     ]
    },
    {
     "data": {
      "text/html": [
       "<div>\n",
       "<style scoped>\n",
       "    .dataframe tbody tr th:only-of-type {\n",
       "        vertical-align: middle;\n",
       "    }\n",
       "\n",
       "    .dataframe tbody tr th {\n",
       "        vertical-align: top;\n",
       "    }\n",
       "\n",
       "    .dataframe thead th {\n",
       "        text-align: right;\n",
       "    }\n",
       "</style>\n",
       "<table border=\"1\" class=\"dataframe\">\n",
       "  <thead>\n",
       "    <tr style=\"text-align: right;\">\n",
       "      <th></th>\n",
       "      <th>Age</th>\n",
       "      <th>Scholarship</th>\n",
       "      <th>Hipertension</th>\n",
       "      <th>Diabetes</th>\n",
       "      <th>Alcoholism</th>\n",
       "      <th>Handicap</th>\n",
       "      <th>WaitingDays</th>\n",
       "      <th>SMS_received</th>\n",
       "    </tr>\n",
       "  </thead>\n",
       "  <tbody>\n",
       "    <tr>\n",
       "      <th>count</th>\n",
       "      <td>110521.000000</td>\n",
       "      <td>110521.000000</td>\n",
       "      <td>110521.000000</td>\n",
       "      <td>110521.000000</td>\n",
       "      <td>110521.000000</td>\n",
       "      <td>110521.000000</td>\n",
       "      <td>110521.000000</td>\n",
       "      <td>110521.000000</td>\n",
       "    </tr>\n",
       "    <tr>\n",
       "      <th>mean</th>\n",
       "      <td>37.089386</td>\n",
       "      <td>0.098271</td>\n",
       "      <td>0.197257</td>\n",
       "      <td>0.071869</td>\n",
       "      <td>0.030401</td>\n",
       "      <td>0.020259</td>\n",
       "      <td>10.184345</td>\n",
       "      <td>0.321043</td>\n",
       "    </tr>\n",
       "    <tr>\n",
       "      <th>std</th>\n",
       "      <td>23.109885</td>\n",
       "      <td>0.297682</td>\n",
       "      <td>0.397929</td>\n",
       "      <td>0.258272</td>\n",
       "      <td>0.171690</td>\n",
       "      <td>0.140884</td>\n",
       "      <td>15.255153</td>\n",
       "      <td>0.466879</td>\n",
       "    </tr>\n",
       "    <tr>\n",
       "      <th>min</th>\n",
       "      <td>0.000000</td>\n",
       "      <td>0.000000</td>\n",
       "      <td>0.000000</td>\n",
       "      <td>0.000000</td>\n",
       "      <td>0.000000</td>\n",
       "      <td>0.000000</td>\n",
       "      <td>0.000000</td>\n",
       "      <td>0.000000</td>\n",
       "    </tr>\n",
       "    <tr>\n",
       "      <th>25%</th>\n",
       "      <td>18.000000</td>\n",
       "      <td>0.000000</td>\n",
       "      <td>0.000000</td>\n",
       "      <td>0.000000</td>\n",
       "      <td>0.000000</td>\n",
       "      <td>0.000000</td>\n",
       "      <td>0.000000</td>\n",
       "      <td>0.000000</td>\n",
       "    </tr>\n",
       "    <tr>\n",
       "      <th>50%</th>\n",
       "      <td>37.000000</td>\n",
       "      <td>0.000000</td>\n",
       "      <td>0.000000</td>\n",
       "      <td>0.000000</td>\n",
       "      <td>0.000000</td>\n",
       "      <td>0.000000</td>\n",
       "      <td>4.000000</td>\n",
       "      <td>0.000000</td>\n",
       "    </tr>\n",
       "    <tr>\n",
       "      <th>75%</th>\n",
       "      <td>55.000000</td>\n",
       "      <td>0.000000</td>\n",
       "      <td>0.000000</td>\n",
       "      <td>0.000000</td>\n",
       "      <td>0.000000</td>\n",
       "      <td>0.000000</td>\n",
       "      <td>15.000000</td>\n",
       "      <td>1.000000</td>\n",
       "    </tr>\n",
       "    <tr>\n",
       "      <th>max</th>\n",
       "      <td>115.000000</td>\n",
       "      <td>1.000000</td>\n",
       "      <td>1.000000</td>\n",
       "      <td>1.000000</td>\n",
       "      <td>1.000000</td>\n",
       "      <td>1.000000</td>\n",
       "      <td>179.000000</td>\n",
       "      <td>1.000000</td>\n",
       "    </tr>\n",
       "  </tbody>\n",
       "</table>\n",
       "</div>"
      ],
      "text/plain": [
       "                 Age    Scholarship   Hipertension       Diabetes  \\\n",
       "count  110521.000000  110521.000000  110521.000000  110521.000000   \n",
       "mean       37.089386       0.098271       0.197257       0.071869   \n",
       "std        23.109885       0.297682       0.397929       0.258272   \n",
       "min         0.000000       0.000000       0.000000       0.000000   \n",
       "25%        18.000000       0.000000       0.000000       0.000000   \n",
       "50%        37.000000       0.000000       0.000000       0.000000   \n",
       "75%        55.000000       0.000000       0.000000       0.000000   \n",
       "max       115.000000       1.000000       1.000000       1.000000   \n",
       "\n",
       "          Alcoholism       Handicap    WaitingDays   SMS_received  \n",
       "count  110521.000000  110521.000000  110521.000000  110521.000000  \n",
       "mean        0.030401       0.020259      10.184345       0.321043  \n",
       "std         0.171690       0.140884      15.255153       0.466879  \n",
       "min         0.000000       0.000000       0.000000       0.000000  \n",
       "25%         0.000000       0.000000       0.000000       0.000000  \n",
       "50%         0.000000       0.000000       4.000000       0.000000  \n",
       "75%         0.000000       0.000000      15.000000       1.000000  \n",
       "max         1.000000       1.000000     179.000000       1.000000  "
      ]
     },
     "execution_count": 399,
     "metadata": {},
     "output_type": "execute_result"
    }
   ],
   "source": [
    "## Checking again the dataset information (for numerical attributes) and description (for categorical ones):\n",
    "print(dataset.info())\n",
    "dataset.describe()"
   ]
  },
  {
   "cell_type": "code",
   "execution_count": 400,
   "metadata": {
    "collapsed": false
   },
   "outputs": [
    {
     "data": {
      "text/html": [
       "<div>\n",
       "<style scoped>\n",
       "    .dataframe tbody tr th:only-of-type {\n",
       "        vertical-align: middle;\n",
       "    }\n",
       "\n",
       "    .dataframe tbody tr th {\n",
       "        vertical-align: top;\n",
       "    }\n",
       "\n",
       "    .dataframe thead th {\n",
       "        text-align: right;\n",
       "    }\n",
       "</style>\n",
       "<table border=\"1\" class=\"dataframe\">\n",
       "  <thead>\n",
       "    <tr style=\"text-align: right;\">\n",
       "      <th></th>\n",
       "      <th>PatientId</th>\n",
       "      <th>Gender</th>\n",
       "      <th>Age</th>\n",
       "      <th>Scholarship</th>\n",
       "      <th>Hipertension</th>\n",
       "      <th>Diabetes</th>\n",
       "      <th>Alcoholism</th>\n",
       "      <th>Handicap</th>\n",
       "      <th>ScheduledDay</th>\n",
       "      <th>ScheduledTime</th>\n",
       "      <th>AppointmentDay</th>\n",
       "      <th>WaitingDays</th>\n",
       "      <th>WaitingCategories</th>\n",
       "      <th>SMS_received</th>\n",
       "      <th>Neighbourhood</th>\n",
       "      <th>No_show</th>\n",
       "    </tr>\n",
       "    <tr>\n",
       "      <th>AppointmentID</th>\n",
       "      <th></th>\n",
       "      <th></th>\n",
       "      <th></th>\n",
       "      <th></th>\n",
       "      <th></th>\n",
       "      <th></th>\n",
       "      <th></th>\n",
       "      <th></th>\n",
       "      <th></th>\n",
       "      <th></th>\n",
       "      <th></th>\n",
       "      <th></th>\n",
       "      <th></th>\n",
       "      <th></th>\n",
       "      <th></th>\n",
       "      <th></th>\n",
       "    </tr>\n",
       "  </thead>\n",
       "  <tbody>\n",
       "    <tr>\n",
       "      <th>5642903</th>\n",
       "      <td>29872499824296</td>\n",
       "      <td>F</td>\n",
       "      <td>62</td>\n",
       "      <td>0</td>\n",
       "      <td>1</td>\n",
       "      <td>0</td>\n",
       "      <td>0</td>\n",
       "      <td>0</td>\n",
       "      <td>2016-04-29</td>\n",
       "      <td>18:38:08</td>\n",
       "      <td>2016-04-29</td>\n",
       "      <td>0</td>\n",
       "      <td>Same day: 0</td>\n",
       "      <td>0</td>\n",
       "      <td>JARDIM DA PENHA</td>\n",
       "      <td>No</td>\n",
       "    </tr>\n",
       "    <tr>\n",
       "      <th>5642503</th>\n",
       "      <td>558997776694438</td>\n",
       "      <td>M</td>\n",
       "      <td>56</td>\n",
       "      <td>0</td>\n",
       "      <td>0</td>\n",
       "      <td>0</td>\n",
       "      <td>0</td>\n",
       "      <td>0</td>\n",
       "      <td>2016-04-29</td>\n",
       "      <td>16:08:27</td>\n",
       "      <td>2016-04-29</td>\n",
       "      <td>0</td>\n",
       "      <td>Same day: 0</td>\n",
       "      <td>0</td>\n",
       "      <td>JARDIM DA PENHA</td>\n",
       "      <td>No</td>\n",
       "    </tr>\n",
       "    <tr>\n",
       "      <th>5642549</th>\n",
       "      <td>4262962299951</td>\n",
       "      <td>F</td>\n",
       "      <td>62</td>\n",
       "      <td>0</td>\n",
       "      <td>0</td>\n",
       "      <td>0</td>\n",
       "      <td>0</td>\n",
       "      <td>0</td>\n",
       "      <td>2016-04-29</td>\n",
       "      <td>16:19:04</td>\n",
       "      <td>2016-04-29</td>\n",
       "      <td>0</td>\n",
       "      <td>Same day: 0</td>\n",
       "      <td>0</td>\n",
       "      <td>MATA DA PRAIA</td>\n",
       "      <td>No</td>\n",
       "    </tr>\n",
       "  </tbody>\n",
       "</table>\n",
       "</div>"
      ],
      "text/plain": [
       "                     PatientId Gender  Age  Scholarship  Hipertension  \\\n",
       "AppointmentID                                                           \n",
       "5642903         29872499824296      F   62            0             1   \n",
       "5642503        558997776694438      M   56            0             0   \n",
       "5642549          4262962299951      F   62            0             0   \n",
       "\n",
       "               Diabetes  Alcoholism  Handicap ScheduledDay ScheduledTime  \\\n",
       "AppointmentID                                                              \n",
       "5642903               0           0         0   2016-04-29      18:38:08   \n",
       "5642503               0           0         0   2016-04-29      16:08:27   \n",
       "5642549               0           0         0   2016-04-29      16:19:04   \n",
       "\n",
       "              AppointmentDay  WaitingDays WaitingCategories  SMS_received  \\\n",
       "AppointmentID                                                               \n",
       "5642903           2016-04-29            0       Same day: 0             0   \n",
       "5642503           2016-04-29            0       Same day: 0             0   \n",
       "5642549           2016-04-29            0       Same day: 0             0   \n",
       "\n",
       "                 Neighbourhood No_show  \n",
       "AppointmentID                           \n",
       "5642903        JARDIM DA PENHA      No  \n",
       "5642503        JARDIM DA PENHA      No  \n",
       "5642549          MATA DA PRAIA      No  "
      ]
     },
     "execution_count": 400,
     "metadata": {},
     "output_type": "execute_result"
    }
   ],
   "source": [
    "## Visualizing few instances of the data:\n",
    "dataset.head(3)"
   ]
  },
  {
   "cell_type": "markdown",
   "metadata": {},
   "source": [
    "As it can be seen, the numerical attributes are consistent with the expected values (i.e. counting 110.521 values, with a minimum of 0 and maximum value of 1 to the boolean attributes, while in a range from 0 to 115 for the age attribute). In the same way, the categorical attributes are as expected."
   ]
  },
  {
   "cell_type": "markdown",
   "metadata": {},
   "source": [
    "<a id='eda'></a>\n",
    "## 3. Exploratory Data Analysis\n",
    "\n",
    "Once the data were trimmed and cleaned, we will move on to explore the questions posed on  <a href=\"#sec1.3\">Section 1.3</a></li>. Besides it was identified in <a href=\"#wrangling\">Section 2</a></li> that data are unbalanced, it will not be taken into account in the following analysis. Given the dataset limitations, this analysis will address the first two questions, as organized in the following topics::  \n",
    "\n",
    "* **<a href=\"#EDA_question1\">3.1. Exploring no-showing appointments</a>**\n",
    "* **<a href=\"#EDA_question2\">3.2. Exploring the patient profiles</a>**\n",
    "\n",
    "Some functions will be defined below in order to facilitate the further analyzing process."
   ]
  },
  {
   "cell_type": "code",
   "execution_count": 431,
   "metadata": {
    "collapsed": true
   },
   "outputs": [],
   "source": [
    "def get_statistics(data, bins=20):\n",
    "    '''Prints basic statistics from the input data. \n",
    "    Syntax: get_statistics(data, bins=20), where:\n",
    "        data = the input data series;\n",
    "        bins = the number of bins to the histogram.\n",
    "    '''\n",
    "    total = data.values\n",
    "    print('Mean:', np.mean(total))\n",
    "    print('Standard deviation:', np.std(total))\n",
    "    print('Minimum:', np.min(total))\n",
    "    print('Maximum:', np.max(total))\n",
    "    print('Median:', np.median(total))\n",
    "    plt.hist(data, bins=bins);"
   ]
  },
  {
   "cell_type": "markdown",
   "metadata": {},
   "source": [
    "<a id='EDA_question1'></a>\n",
    "### 3.1. Exploring the *no-showing appointments*\n",
    "In this section we will seek to answer the following questions based on the available data:  \n",
    "* What is the average waiting time between the scheduling date and the appointment date?\n",
    "* Is there any relation between the waiting time and the no-showing appointments?\n",
    "* How the *no-showing appointments* are distributed among the health units (neighborhood)?"
   ]
  },
  {
   "cell_type": "markdown",
   "metadata": {},
   "source": [
    "In orther to find the answers, we will now focus on those attributes related specifically to appointments: *patient ID; scheduled date; appointment date; and health unit neighborhood*, as well as those attributes resulting from these."
   ]
  },
  {
   "cell_type": "markdown",
   "metadata": {},
   "source": [
    "<a id='sec3.1.1'></a>\n",
    "#### 3.1.1. Waiting time between the scheduling and the appointment date\n",
    "To get an overall idea of the no-showing appointments, we will start analyzing the basic statistics of the waiting days:"
   ]
  },
  {
   "cell_type": "code",
   "execution_count": 432,
   "metadata": {
    "collapsed": false
   },
   "outputs": [
    {
     "name": "stdout",
     "output_type": "stream",
     "text": [
      "Mean: 10.1843450566\n",
      "Standard deviation: 15.2550844826\n",
      "Minimum: 0\n",
      "Maximum: 179\n",
      "Median: 4.0\n"
     ]
    },
    {
     "data": {
      "image/png": "[encoded data removed]",
      "text/plain": [
       "<matplotlib.figure.Figure at 0x7efcac8ac668>"
      ]
     },
     "metadata": {},
     "output_type": "display_data"
    }
   ],
   "source": [
    "get_statistics(dataset.WaitingDays)"
   ]
  },
  {
   "cell_type": "markdown",
   "metadata": {},
   "source": [
    "The **average waiting is about 10 days**, with a standard deviation of approximately 15 days. These values suggest that this distribution is not normal, since the mean is not in the center, as confirmed by its histogram. "
   ]
  },
  {
   "cell_type": "markdown",
   "metadata": {},
   "source": [
    "Looking back at the *waitingdays* dataframe created in <a href=\"#sec2.3.3\">Section 2.3.3</a>, we can compare the no-showing rate (i.e. the number of patients that missed the appointment against those who attended) in relation to each of *WaitingDays* categories."
   ]
  },
  {
   "cell_type": "code",
   "execution_count": 433,
   "metadata": {
    "collapsed": false,
    "scrolled": false
   },
   "outputs": [
    {
     "data": {
      "text/html": [
       "<div>\n",
       "<style scoped>\n",
       "    .dataframe tbody tr th:only-of-type {\n",
       "        vertical-align: middle;\n",
       "    }\n",
       "\n",
       "    .dataframe tbody tr th {\n",
       "        vertical-align: top;\n",
       "    }\n",
       "\n",
       "    .dataframe thead th {\n",
       "        text-align: right;\n",
       "    }\n",
       "</style>\n",
       "<table border=\"1\" class=\"dataframe\">\n",
       "  <thead>\n",
       "    <tr style=\"text-align: right;\">\n",
       "      <th>No-show</th>\n",
       "      <th>No</th>\n",
       "      <th>Yes</th>\n",
       "      <th>No-showing rate</th>\n",
       "    </tr>\n",
       "    <tr>\n",
       "      <th>WaitingDays</th>\n",
       "      <th></th>\n",
       "      <th></th>\n",
       "      <th></th>\n",
       "    </tr>\n",
       "  </thead>\n",
       "  <tbody>\n",
       "    <tr>\n",
       "      <th>Same day: 0</th>\n",
       "      <td>36770.0</td>\n",
       "      <td>1792.0</td>\n",
       "      <td>4.873538</td>\n",
       "    </tr>\n",
       "    <tr>\n",
       "      <th>Short: 1-3</th>\n",
       "      <td>11316.0</td>\n",
       "      <td>3359.0</td>\n",
       "      <td>29.683634</td>\n",
       "    </tr>\n",
       "    <tr>\n",
       "      <th>Week: 4-7</th>\n",
       "      <td>13097.0</td>\n",
       "      <td>4413.0</td>\n",
       "      <td>33.694739</td>\n",
       "    </tr>\n",
       "    <tr>\n",
       "      <th>Fortnight: 8-15</th>\n",
       "      <td>9362.0</td>\n",
       "      <td>4166.0</td>\n",
       "      <td>44.499039</td>\n",
       "    </tr>\n",
       "    <tr>\n",
       "      <th>Month: 16-30</th>\n",
       "      <td>10709.0</td>\n",
       "      <td>5159.0</td>\n",
       "      <td>48.174433</td>\n",
       "    </tr>\n",
       "    <tr>\n",
       "      <th>Quarter: 31-90</th>\n",
       "      <td>6792.0</td>\n",
       "      <td>3369.0</td>\n",
       "      <td>49.602473</td>\n",
       "    </tr>\n",
       "    <tr>\n",
       "      <th>Semester: 91-180</th>\n",
       "      <td>161.0</td>\n",
       "      <td>56.0</td>\n",
       "      <td>34.782609</td>\n",
       "    </tr>\n",
       "    <tr>\n",
       "      <th>Very long: &gt;180</th>\n",
       "      <td>0.0</td>\n",
       "      <td>0.0</td>\n",
       "      <td>NaN</td>\n",
       "    </tr>\n",
       "  </tbody>\n",
       "</table>\n",
       "</div>"
      ],
      "text/plain": [
       "No-show                No     Yes  No-showing rate\n",
       "WaitingDays                                       \n",
       "Same day: 0       36770.0  1792.0         4.873538\n",
       "Short: 1-3        11316.0  3359.0        29.683634\n",
       "Week: 4-7         13097.0  4413.0        33.694739\n",
       "Fortnight: 8-15    9362.0  4166.0        44.499039\n",
       "Month: 16-30      10709.0  5159.0        48.174433\n",
       "Quarter: 31-90     6792.0  3369.0        49.602473\n",
       "Semester: 91-180    161.0    56.0        34.782609\n",
       "Very long: >180       0.0     0.0              NaN"
      ]
     },
     "execution_count": 433,
     "metadata": {},
     "output_type": "execute_result"
    }
   ],
   "source": [
    "## Showing the data again:\n",
    "waitingdays"
   ]
  },
  {
   "cell_type": "markdown",
   "metadata": {},
   "source": [
    "This data could be better understood graphically. To do so, we will first manipulate the *waitingdays* dataframe in\n",
    "order to get the percentual information. We will also multiply by *500* the *No-showing rate* values in order to put this attribute in the same scale of the chart. For last, we will show all these information in the same chart, based on the codes proposed in <a href=\"#[6]\">[6]</a> and <a href=\"#[7]\">[7]</a>."
   ]
  },
  {
   "cell_type": "code",
   "execution_count": 405,
   "metadata": {
    "collapsed": false
   },
   "outputs": [
    {
     "data": {
      "text/html": [
       "<div>\n",
       "<style scoped>\n",
       "    .dataframe tbody tr th:only-of-type {\n",
       "        vertical-align: middle;\n",
       "    }\n",
       "\n",
       "    .dataframe tbody tr th {\n",
       "        vertical-align: top;\n",
       "    }\n",
       "\n",
       "    .dataframe thead th {\n",
       "        text-align: right;\n",
       "    }\n",
       "</style>\n",
       "<table border=\"1\" class=\"dataframe\">\n",
       "  <thead>\n",
       "    <tr style=\"text-align: right;\">\n",
       "      <th>No-show</th>\n",
       "      <th>WaitingDays</th>\n",
       "      <th>No</th>\n",
       "      <th>Yes</th>\n",
       "      <th>No-showing rate</th>\n",
       "      <th>No-show percentual</th>\n",
       "      <th>No-showing rate (500x)</th>\n",
       "    </tr>\n",
       "  </thead>\n",
       "  <tbody>\n",
       "    <tr>\n",
       "      <th>0</th>\n",
       "      <td>Same day: 0</td>\n",
       "      <td>36770.0</td>\n",
       "      <td>1792.0</td>\n",
       "      <td>4.873538</td>\n",
       "      <td>4.87%</td>\n",
       "      <td>2436.769105</td>\n",
       "    </tr>\n",
       "    <tr>\n",
       "      <th>1</th>\n",
       "      <td>Short: 1-3</td>\n",
       "      <td>11316.0</td>\n",
       "      <td>3359.0</td>\n",
       "      <td>29.683634</td>\n",
       "      <td>29.68%</td>\n",
       "      <td>14841.816896</td>\n",
       "    </tr>\n",
       "    <tr>\n",
       "      <th>2</th>\n",
       "      <td>Week: 4-7</td>\n",
       "      <td>13097.0</td>\n",
       "      <td>4413.0</td>\n",
       "      <td>33.694739</td>\n",
       "      <td>33.69%</td>\n",
       "      <td>16847.369627</td>\n",
       "    </tr>\n",
       "    <tr>\n",
       "      <th>3</th>\n",
       "      <td>Fortnight: 8-15</td>\n",
       "      <td>9362.0</td>\n",
       "      <td>4166.0</td>\n",
       "      <td>44.499039</td>\n",
       "      <td>44.50%</td>\n",
       "      <td>22249.519333</td>\n",
       "    </tr>\n",
       "    <tr>\n",
       "      <th>4</th>\n",
       "      <td>Month: 16-30</td>\n",
       "      <td>10709.0</td>\n",
       "      <td>5159.0</td>\n",
       "      <td>48.174433</td>\n",
       "      <td>48.17%</td>\n",
       "      <td>24087.216360</td>\n",
       "    </tr>\n",
       "    <tr>\n",
       "      <th>5</th>\n",
       "      <td>Quarter: 31-90</td>\n",
       "      <td>6792.0</td>\n",
       "      <td>3369.0</td>\n",
       "      <td>49.602473</td>\n",
       "      <td>49.60%</td>\n",
       "      <td>24801.236749</td>\n",
       "    </tr>\n",
       "    <tr>\n",
       "      <th>6</th>\n",
       "      <td>Semester: 91-180</td>\n",
       "      <td>161.0</td>\n",
       "      <td>56.0</td>\n",
       "      <td>34.782609</td>\n",
       "      <td>34.78%</td>\n",
       "      <td>17391.304348</td>\n",
       "    </tr>\n",
       "  </tbody>\n",
       "</table>\n",
       "</div>"
      ],
      "text/plain": [
       "No-show       WaitingDays       No     Yes  No-showing rate  \\\n",
       "0             Same day: 0  36770.0  1792.0         4.873538   \n",
       "1              Short: 1-3  11316.0  3359.0        29.683634   \n",
       "2               Week: 4-7  13097.0  4413.0        33.694739   \n",
       "3         Fortnight: 8-15   9362.0  4166.0        44.499039   \n",
       "4            Month: 16-30  10709.0  5159.0        48.174433   \n",
       "5          Quarter: 31-90   6792.0  3369.0        49.602473   \n",
       "6        Semester: 91-180    161.0    56.0        34.782609   \n",
       "\n",
       "No-show No-show percentual  No-showing rate (500x)  \n",
       "0                    4.87%             2436.769105  \n",
       "1                   29.68%            14841.816896  \n",
       "2                   33.69%            16847.369627  \n",
       "3                   44.50%            22249.519333  \n",
       "4                   48.17%            24087.216360  \n",
       "5                   49.60%            24801.236749  \n",
       "6                   34.78%            17391.304348  "
      ]
     },
     "execution_count": 405,
     "metadata": {},
     "output_type": "execute_result"
    }
   ],
   "source": [
    "## Adjusting the dataframe:\n",
    "eda_waitingDays = waitingdays.copy()  #Copying the dataframe from Section 2.3.3\n",
    "eda_waitingDays.reset_index(drop=False, inplace=True)  #Making the index as a column in order to be plotted.\n",
    "eda_waitingDays.drop(index=7, inplace=True)  #Droppping the last row, since it's empty.\n",
    "\n",
    "## Adding new columns:\n",
    "#Transforming the 'No-showing rate' into strings with the percentual values:\n",
    "eda_waitingDays['No-show percentual'] = eda_waitingDays['No-showing rate'].apply(lambda x: '{0:.2f}%'.format(x))\n",
    "#Multiplying the rate values by 500 times in order to be plotted in the same scale:\n",
    "eda_waitingDays['No-showing rate (500x)'] = eda_waitingDays['No-showing rate']*500\n",
    "\n",
    "## Showing the adjusting dataframe:\n",
    "eda_waitingDays"
   ]
  },
  {
   "cell_type": "code",
   "execution_count": 406,
   "metadata": {
    "collapsed": false,
    "scrolled": false
   },
   "outputs": [
    {
     "data": {
      "image/png": "[encoded data removed]",
      "text/plain": [
       "<matplotlib.figure.Figure at 0x7efcab8b85f8>"
      ]
     },
     "metadata": {},
     "output_type": "display_data"
    }
   ],
   "source": [
    "## Setting the graph parameters:\n",
    "fig, ax = plt.subplots(figsize=[12,6])  #Defines the graph window size\n",
    "colors = ['tab:blue', 'tab:green', 'tab:red']  #Defines the colors to be used\n",
    "\n",
    "ax.set_ylabel('Number of occurences', color=colors[0])  #Set the y-axis color and label\n",
    "ax.tick_params(axis='y', labelcolor=colors[0])\n",
    "\n",
    "## Plotting the bar chart:\n",
    "eda_waitingDays[['WaitingDays', 'No', 'Yes']].plot(x='WaitingDays', kind='bar', ax=ax, color=colors[0:2])\n",
    "\n",
    "## Plotting the line chart:\n",
    "eda_waitingDays[['WaitingDays', 'No-showing rate (500x)']].plot(x='WaitingDays', linestyle='-', marker='o', ax=ax, color=colors[2])\n",
    "#Setting the line chart marker labels\n",
    "for a,b,c in zip(x,eda_waitingDays['No-showing rate (500x)'], eda_waitingDays['No-show percentual']):\n",
    "    plt.text(a,b+1500,c, color='red', fontsize=14)\n",
    "\n",
    "plt.show()"
   ]
  },
  {
   "cell_type": "markdown",
   "metadata": {},
   "source": [
    "Through the chart above, it becomes evident that **the *no-showing rate* increases as the waiting gets longer**. It reaches the lower rates when the attendance occurs in the same day it was scheduled. We can then associate it with the emergency care or even when the patient goes to the health unit without previous scheduling.  \n",
    "\n",
    "It is curious to notice that from one quarter there is a slight return to the patient assiduity, when the *no-showing rate* downs from *49.6%* to %34.78*."
   ]
  },
  {
   "cell_type": "markdown",
   "metadata": {},
   "source": [
    "<a id='sec3.1.2'></a>\n",
    "#### 3.1.2. A return to assiduity"
   ]
  },
  {
   "cell_type": "code",
   "execution_count": 443,
   "metadata": {
    "collapsed": false
   },
   "outputs": [
    {
     "data": {
      "text/html": [
       "<div>\n",
       "<style scoped>\n",
       "    .dataframe tbody tr th:only-of-type {\n",
       "        vertical-align: middle;\n",
       "    }\n",
       "\n",
       "    .dataframe tbody tr th {\n",
       "        vertical-align: top;\n",
       "    }\n",
       "\n",
       "    .dataframe thead th {\n",
       "        text-align: right;\n",
       "    }\n",
       "</style>\n",
       "<table border=\"1\" class=\"dataframe\">\n",
       "  <thead>\n",
       "    <tr style=\"text-align: right;\">\n",
       "      <th></th>\n",
       "      <th>Age</th>\n",
       "      <th>Scholarship</th>\n",
       "      <th>Hipertension</th>\n",
       "      <th>Diabetes</th>\n",
       "      <th>Alcoholism</th>\n",
       "      <th>Handicap</th>\n",
       "      <th>WaitingDays</th>\n",
       "      <th>SMS_received</th>\n",
       "    </tr>\n",
       "  </thead>\n",
       "  <tbody>\n",
       "    <tr>\n",
       "      <th>count</th>\n",
       "      <td>38562.000000</td>\n",
       "      <td>38562.000000</td>\n",
       "      <td>38562.000000</td>\n",
       "      <td>38562.000000</td>\n",
       "      <td>38562.000000</td>\n",
       "      <td>38562.000000</td>\n",
       "      <td>38562.0</td>\n",
       "      <td>38562.0</td>\n",
       "    </tr>\n",
       "    <tr>\n",
       "      <th>mean</th>\n",
       "      <td>34.452311</td>\n",
       "      <td>0.108656</td>\n",
       "      <td>0.175536</td>\n",
       "      <td>0.066542</td>\n",
       "      <td>0.039884</td>\n",
       "      <td>0.024169</td>\n",
       "      <td>0.0</td>\n",
       "      <td>0.0</td>\n",
       "    </tr>\n",
       "    <tr>\n",
       "      <th>std</th>\n",
       "      <td>23.221671</td>\n",
       "      <td>0.311211</td>\n",
       "      <td>0.380429</td>\n",
       "      <td>0.249231</td>\n",
       "      <td>0.195689</td>\n",
       "      <td>0.153575</td>\n",
       "      <td>0.0</td>\n",
       "      <td>0.0</td>\n",
       "    </tr>\n",
       "    <tr>\n",
       "      <th>min</th>\n",
       "      <td>0.000000</td>\n",
       "      <td>0.000000</td>\n",
       "      <td>0.000000</td>\n",
       "      <td>0.000000</td>\n",
       "      <td>0.000000</td>\n",
       "      <td>0.000000</td>\n",
       "      <td>0.0</td>\n",
       "      <td>0.0</td>\n",
       "    </tr>\n",
       "    <tr>\n",
       "      <th>25%</th>\n",
       "      <td>15.000000</td>\n",
       "      <td>0.000000</td>\n",
       "      <td>0.000000</td>\n",
       "      <td>0.000000</td>\n",
       "      <td>0.000000</td>\n",
       "      <td>0.000000</td>\n",
       "      <td>0.0</td>\n",
       "      <td>0.0</td>\n",
       "    </tr>\n",
       "    <tr>\n",
       "      <th>50%</th>\n",
       "      <td>34.000000</td>\n",
       "      <td>0.000000</td>\n",
       "      <td>0.000000</td>\n",
       "      <td>0.000000</td>\n",
       "      <td>0.000000</td>\n",
       "      <td>0.000000</td>\n",
       "      <td>0.0</td>\n",
       "      <td>0.0</td>\n",
       "    </tr>\n",
       "    <tr>\n",
       "      <th>75%</th>\n",
       "      <td>52.000000</td>\n",
       "      <td>0.000000</td>\n",
       "      <td>0.000000</td>\n",
       "      <td>0.000000</td>\n",
       "      <td>0.000000</td>\n",
       "      <td>0.000000</td>\n",
       "      <td>0.0</td>\n",
       "      <td>0.0</td>\n",
       "    </tr>\n",
       "    <tr>\n",
       "      <th>max</th>\n",
       "      <td>115.000000</td>\n",
       "      <td>1.000000</td>\n",
       "      <td>1.000000</td>\n",
       "      <td>1.000000</td>\n",
       "      <td>1.000000</td>\n",
       "      <td>1.000000</td>\n",
       "      <td>0.0</td>\n",
       "      <td>0.0</td>\n",
       "    </tr>\n",
       "  </tbody>\n",
       "</table>\n",
       "</div>"
      ],
      "text/plain": [
       "                Age   Scholarship  Hipertension      Diabetes    Alcoholism  \\\n",
       "count  38562.000000  38562.000000  38562.000000  38562.000000  38562.000000   \n",
       "mean      34.452311      0.108656      0.175536      0.066542      0.039884   \n",
       "std       23.221671      0.311211      0.380429      0.249231      0.195689   \n",
       "min        0.000000      0.000000      0.000000      0.000000      0.000000   \n",
       "25%       15.000000      0.000000      0.000000      0.000000      0.000000   \n",
       "50%       34.000000      0.000000      0.000000      0.000000      0.000000   \n",
       "75%       52.000000      0.000000      0.000000      0.000000      0.000000   \n",
       "max      115.000000      1.000000      1.000000      1.000000      1.000000   \n",
       "\n",
       "           Handicap  WaitingDays  SMS_received  \n",
       "count  38562.000000      38562.0       38562.0  \n",
       "mean       0.024169          0.0           0.0  \n",
       "std        0.153575          0.0           0.0  \n",
       "min        0.000000          0.0           0.0  \n",
       "25%        0.000000          0.0           0.0  \n",
       "50%        0.000000          0.0           0.0  \n",
       "75%        0.000000          0.0           0.0  \n",
       "max        1.000000          0.0           0.0  "
      ]
     },
     "execution_count": 443,
     "metadata": {},
     "output_type": "execute_result"
    }
   ],
   "source": [
    "dataset[dataset['WaitingCategories'] == 'Same day: 0'].describe()"
   ]
  },
  {
   "cell_type": "code",
   "execution_count": 436,
   "metadata": {
    "collapsed": false
   },
   "outputs": [
    {
     "data": {
      "text/html": [
       "<div>\n",
       "<style scoped>\n",
       "    .dataframe tbody tr th:only-of-type {\n",
       "        vertical-align: middle;\n",
       "    }\n",
       "\n",
       "    .dataframe tbody tr th {\n",
       "        vertical-align: top;\n",
       "    }\n",
       "\n",
       "    .dataframe thead th {\n",
       "        text-align: right;\n",
       "    }\n",
       "</style>\n",
       "<table border=\"1\" class=\"dataframe\">\n",
       "  <thead>\n",
       "    <tr style=\"text-align: right;\">\n",
       "      <th></th>\n",
       "      <th>Age</th>\n",
       "      <th>Scholarship</th>\n",
       "      <th>Hipertension</th>\n",
       "      <th>Diabetes</th>\n",
       "      <th>Alcoholism</th>\n",
       "      <th>Handicap</th>\n",
       "      <th>WaitingDays</th>\n",
       "      <th>SMS_received</th>\n",
       "    </tr>\n",
       "  </thead>\n",
       "  <tbody>\n",
       "    <tr>\n",
       "      <th>count</th>\n",
       "      <td>217.000000</td>\n",
       "      <td>217.000000</td>\n",
       "      <td>217.000000</td>\n",
       "      <td>217.000000</td>\n",
       "      <td>217.000000</td>\n",
       "      <td>217.000000</td>\n",
       "      <td>217.000000</td>\n",
       "      <td>217.000000</td>\n",
       "    </tr>\n",
       "    <tr>\n",
       "      <th>mean</th>\n",
       "      <td>60.788018</td>\n",
       "      <td>0.064516</td>\n",
       "      <td>0.539171</td>\n",
       "      <td>0.133641</td>\n",
       "      <td>0.013825</td>\n",
       "      <td>0.069124</td>\n",
       "      <td>121.410138</td>\n",
       "      <td>0.640553</td>\n",
       "    </tr>\n",
       "    <tr>\n",
       "      <th>std</th>\n",
       "      <td>25.672460</td>\n",
       "      <td>0.246238</td>\n",
       "      <td>0.499616</td>\n",
       "      <td>0.341052</td>\n",
       "      <td>0.117034</td>\n",
       "      <td>0.254252</td>\n",
       "      <td>31.423518</td>\n",
       "      <td>0.480948</td>\n",
       "    </tr>\n",
       "    <tr>\n",
       "      <th>min</th>\n",
       "      <td>0.000000</td>\n",
       "      <td>0.000000</td>\n",
       "      <td>0.000000</td>\n",
       "      <td>0.000000</td>\n",
       "      <td>0.000000</td>\n",
       "      <td>0.000000</td>\n",
       "      <td>91.000000</td>\n",
       "      <td>0.000000</td>\n",
       "    </tr>\n",
       "    <tr>\n",
       "      <th>25%</th>\n",
       "      <td>48.000000</td>\n",
       "      <td>0.000000</td>\n",
       "      <td>0.000000</td>\n",
       "      <td>0.000000</td>\n",
       "      <td>0.000000</td>\n",
       "      <td>0.000000</td>\n",
       "      <td>91.000000</td>\n",
       "      <td>0.000000</td>\n",
       "    </tr>\n",
       "    <tr>\n",
       "      <th>50%</th>\n",
       "      <td>69.000000</td>\n",
       "      <td>0.000000</td>\n",
       "      <td>1.000000</td>\n",
       "      <td>0.000000</td>\n",
       "      <td>0.000000</td>\n",
       "      <td>0.000000</td>\n",
       "      <td>109.000000</td>\n",
       "      <td>1.000000</td>\n",
       "    </tr>\n",
       "    <tr>\n",
       "      <th>75%</th>\n",
       "      <td>80.000000</td>\n",
       "      <td>0.000000</td>\n",
       "      <td>1.000000</td>\n",
       "      <td>0.000000</td>\n",
       "      <td>0.000000</td>\n",
       "      <td>0.000000</td>\n",
       "      <td>155.000000</td>\n",
       "      <td>1.000000</td>\n",
       "    </tr>\n",
       "    <tr>\n",
       "      <th>max</th>\n",
       "      <td>95.000000</td>\n",
       "      <td>1.000000</td>\n",
       "      <td>1.000000</td>\n",
       "      <td>1.000000</td>\n",
       "      <td>1.000000</td>\n",
       "      <td>1.000000</td>\n",
       "      <td>179.000000</td>\n",
       "      <td>1.000000</td>\n",
       "    </tr>\n",
       "  </tbody>\n",
       "</table>\n",
       "</div>"
      ],
      "text/plain": [
       "              Age  Scholarship  Hipertension    Diabetes  Alcoholism  \\\n",
       "count  217.000000   217.000000    217.000000  217.000000  217.000000   \n",
       "mean    60.788018     0.064516      0.539171    0.133641    0.013825   \n",
       "std     25.672460     0.246238      0.499616    0.341052    0.117034   \n",
       "min      0.000000     0.000000      0.000000    0.000000    0.000000   \n",
       "25%     48.000000     0.000000      0.000000    0.000000    0.000000   \n",
       "50%     69.000000     0.000000      1.000000    0.000000    0.000000   \n",
       "75%     80.000000     0.000000      1.000000    0.000000    0.000000   \n",
       "max     95.000000     1.000000      1.000000    1.000000    1.000000   \n",
       "\n",
       "         Handicap  WaitingDays  SMS_received  \n",
       "count  217.000000   217.000000    217.000000  \n",
       "mean     0.069124   121.410138      0.640553  \n",
       "std      0.254252    31.423518      0.480948  \n",
       "min      0.000000    91.000000      0.000000  \n",
       "25%      0.000000    91.000000      0.000000  \n",
       "50%      0.000000   109.000000      1.000000  \n",
       "75%      0.000000   155.000000      1.000000  \n",
       "max      1.000000   179.000000      1.000000  "
      ]
     },
     "execution_count": 436,
     "metadata": {},
     "output_type": "execute_result"
    }
   ],
   "source": [
    "dataset[dataset['WaitingDays']>90].describe()"
   ]
  },
  {
   "cell_type": "code",
   "execution_count": null,
   "metadata": {
    "collapsed": true
   },
   "outputs": [],
   "source": []
  },
  {
   "cell_type": "code",
   "execution_count": null,
   "metadata": {
    "collapsed": true
   },
   "outputs": [],
   "source": []
  },
  {
   "cell_type": "code",
   "execution_count": null,
   "metadata": {
    "collapsed": true
   },
   "outputs": [],
   "source": []
  },
  {
   "cell_type": "code",
   "execution_count": null,
   "metadata": {
    "collapsed": true
   },
   "outputs": [],
   "source": []
  },
  {
   "cell_type": "code",
   "execution_count": null,
   "metadata": {
    "collapsed": false
   },
   "outputs": [],
   "source": [
    "novo['No_show'].unique()"
   ]
  },
  {
   "cell_type": "code",
   "execution_count": null,
   "metadata": {
    "collapsed": false
   },
   "outputs": [],
   "source": [
    "dataset.columns"
   ]
  },
  {
   "cell_type": "markdown",
   "metadata": {},
   "source": [
    "The last task is to find out how the *no-showing appointments* are distributed among the health units. In other words, how many appointments are registered to each health unit and how they are attended to. To find this out, we will list all the neighborhood names as the index of a new dataset..."
   ]
  },
  {
   "cell_type": "code",
   "execution_count": null,
   "metadata": {
    "collapsed": false
   },
   "outputs": [],
   "source": [
    "#neighbors = dataset.groupby(by='Neighbourhood').No_show.value_counts().sort_index()\n",
    "neighbors = novo.groupby(by='Neighbourhood', as_index=True)"
   ]
  },
  {
   "cell_type": "code",
   "execution_count": null,
   "metadata": {
    "collapsed": false,
    "scrolled": true
   },
   "outputs": [],
   "source": [
    "#fig, axs = plt.subplots(ncols=2)\n",
    "novo.groupby('Neighbourhood').No_show.hist(alpha=0.4)\n"
   ]
  },
  {
   "cell_type": "code",
   "execution_count": null,
   "metadata": {
    "collapsed": true
   },
   "outputs": [],
   "source": []
  },
  {
   "cell_type": "code",
   "execution_count": null,
   "metadata": {
    "collapsed": false
   },
   "outputs": [],
   "source": [
    "neighbors.No_show.value_counts()"
   ]
  },
  {
   "cell_type": "code",
   "execution_count": null,
   "metadata": {
    "collapsed": true
   },
   "outputs": [],
   "source": []
  },
  {
   "cell_type": "code",
   "execution_count": null,
   "metadata": {
    "collapsed": true
   },
   "outputs": [],
   "source": []
  },
  {
   "cell_type": "code",
   "execution_count": null,
   "metadata": {
    "collapsed": false
   },
   "outputs": [],
   "source": [
    "neighbors = dataset.groupby(by='Neighbourhood')"
   ]
  },
  {
   "cell_type": "code",
   "execution_count": null,
   "metadata": {
    "collapsed": false
   },
   "outputs": [],
   "source": [
    "neighbors.No_show.value_counts()"
   ]
  },
  {
   "cell_type": "code",
   "execution_count": null,
   "metadata": {
    "collapsed": true
   },
   "outputs": [],
   "source": []
  },
  {
   "cell_type": "code",
   "execution_count": null,
   "metadata": {
    "collapsed": false,
    "scrolled": false
   },
   "outputs": [],
   "source": [
    "plt.figure(figsize=(16,6))\n",
    "ax = sns.countplot(x='Neighbourhood',hue='No_show', data=dataset, order=neighborhood)\n",
    "ax.set_xticklabels(ax.get_xticklabels(), rotation=40, ha=\"right\", fontsize=7)\n",
    "plt.show()"
   ]
  },
  {
   "cell_type": "code",
   "execution_count": null,
   "metadata": {
    "collapsed": true
   },
   "outputs": [],
   "source": [
    "sns.countplot()"
   ]
  },
  {
   "cell_type": "code",
   "execution_count": null,
   "metadata": {
    "collapsed": true
   },
   "outputs": [],
   "source": []
  },
  {
   "cell_type": "code",
   "execution_count": null,
   "metadata": {
    "collapsed": true
   },
   "outputs": [],
   "source": []
  },
  {
   "cell_type": "code",
   "execution_count": null,
   "metadata": {
    "collapsed": false
   },
   "outputs": [],
   "source": [
    "data_missed = dataset[dataset['No_show'] == 'Yes']"
   ]
  },
  {
   "cell_type": "code",
   "execution_count": null,
   "metadata": {
    "collapsed": false
   },
   "outputs": [],
   "source": [
    "data_missed.columns"
   ]
  },
  {
   "cell_type": "code",
   "execution_count": null,
   "metadata": {
    "collapsed": true
   },
   "outputs": [],
   "source": [
    "corr = dataset.corr()"
   ]
  },
  {
   "cell_type": "code",
   "execution_count": null,
   "metadata": {
    "collapsed": false
   },
   "outputs": [],
   "source": [
    "mask = np.zeros_like(corr, dtype=np.bool)\n",
    "mask[np.triu_indices_from(mask)] = True\n",
    "\n",
    "# Set up the matplotlib figure\n",
    "f, ax = plt.subplots(figsize=(11, 9))\n",
    "\n",
    "# Generate a custom diverging colormap\n",
    "cmap = sns.diverging_palette(220, 10, as_cmap=True)\n",
    "\n",
    "# Draw the heatmap with the mask and correct aspect ratio\n",
    "sns.heatmap(corr, mask=mask, cmap=cmap, vmax=.3, center=0,\n",
    "            square=True, linewidths=.5, cbar_kws={\"shrink\": .5})"
   ]
  },
  {
   "cell_type": "code",
   "execution_count": null,
   "metadata": {
    "collapsed": true
   },
   "outputs": [],
   "source": []
  },
  {
   "cell_type": "code",
   "execution_count": null,
   "metadata": {
    "collapsed": true
   },
   "outputs": [],
   "source": []
  },
  {
   "cell_type": "markdown",
   "metadata": {},
   "source": [
    "<a id='EDA_question2'></a>\n",
    "### 3.2. Exploring the patient profiles\n",
    "After understanding the characteristics of the missed appointments, as explored in the last section, we will now analyse the patient profiles driven by the following questions:\n",
    "* How the *no-shows* are distributed among the patients? \n",
    "* Is there any common characteristics among those patients that miss appointments?\n",
    "* Patients suffering from serious illnesses are more assiduous?"
   ]
  },
  {
   "cell_type": "markdown",
   "metadata": {},
   "source": [
    "<a id='conclusions'></a>\n",
    "## 4. Conclusions\n",
    "\n",
    "> **Tip**: Finally, summarize your findings and the results that have been performed. Make sure that you are clear with regards to the limitations of your exploration. If you haven't done any statistical tests, do not imply any statistical conclusions. And make sure you avoid implying causation from correlation!\n",
    "\n",
    "> **Tip**: Once you are satisfied with your work, you should save a copy of the report in HTML or PDF form via the **File** > **Download as** submenu. Before exporting your report, check over it to make sure that the flow of the report is complete. You should probably remove all of the \"Tip\" quotes like this one so that the presentation is as tidy as possible. Congratulations!"
   ]
  },
  {
   "cell_type": "code",
   "execution_count": null,
   "metadata": {
    "collapsed": true
   },
   "outputs": [],
   "source": []
  },
  {
   "cell_type": "markdown",
   "metadata": {},
   "source": [
    "<a id='references'></a>\n",
    "## References\n",
    "\n",
    "<a id='[1]'></a>[1] Wikipedia contributors. Brazil. Wikipedia, The Free Encyclopedia. February 9, 2018, 22:06 UTC. Available at: https://en.wikipedia.org/w/index.php?title=Brazil&oldid=824851232. Accessed in February 10, 2018.\n",
    "\n",
    "<a id='[2]'></a>[2] Kaggle. *Medical Appointment No Shows*. Reviewed dataset. Available at: https://www.kaggle.com/joniarroba/noshowappointments. Accessed in February 10, 2018.\n",
    "\n",
    "<a id='[3]'></a>[3] Victora, C. G., Barreto, M. L., Leal, M. D. C., Monteiro, C. A., Schmidt, M. I., Paim, J. S., ... & Reichenheim, M. E. (2011). *Condições de saúde e inovações nas políticas de saúde no Brasil: o caminho a percorrer* (in Portuguese). Available at: https://repositorio.ufba.br/ri/handle/ri/5973. Accessed in February 12, 2018.\n",
    "\n",
    "<a id='[4]'></a>[4] Pandas 0.22.0 documentation. Available at: https://pandas.pydata.org/pandas-docs/stable/timeseries.html. Accessed in February 20, 2018.\n",
    "\n",
    "<a id='[5]'></a>[5] Twelve useful Pandas techniques in Python for data manipulation. Analytics Vhidya. Available at: https://www.analyticsvidhya.com/blog/2016/01/12-pandas-techniques-python-data-manipulation/. Accessed in February 22, 2018.\n",
    "\n",
    "<a id='[6]'></a>[6] Stack Overflow. Plot pandas DataFrame as bar and line on the same one chart. Available at https://stackoverflow.com/questions/23482201/plot-pandas-dataframe-as-bar-and-line-on-the-same-one-chart. Accessed in February 24, 2018.\n",
    "\n",
    "<a id='[7]'></a>[7] Stack Overflow. Writing numerical numerical values on the plot with Matplotlib. Available at https://stackoverflow.com/questions/6282058/writing-numerical-values-on-the-plot-with-matplotlib. Accessed in February 24, 2018."
   ]
  },
  {
   "cell_type": "code",
   "execution_count": null,
   "metadata": {
    "collapsed": true
   },
   "outputs": [],
   "source": []
  },
  {
   "cell_type": "code",
   "execution_count": null,
   "metadata": {
    "collapsed": true
   },
   "outputs": [],
   "source": []
  },
  {
   "cell_type": "code",
   "execution_count": null,
   "metadata": {
    "collapsed": true
   },
   "outputs": [],
   "source": []
  },
  {
   "cell_type": "code",
   "execution_count": null,
   "metadata": {
    "collapsed": true
   },
   "outputs": [],
   "source": []
  },
  {
   "cell_type": "code",
   "execution_count": null,
   "metadata": {
    "collapsed": true
   },
   "outputs": [],
   "source": []
  },
  {
   "cell_type": "code",
   "execution_count": null,
   "metadata": {
    "collapsed": true
   },
   "outputs": [],
   "source": []
  },
  {
   "cell_type": "markdown",
   "metadata": {},
   "source": [
    "### Backlog (Verificar a utilidade disso na análise)"
   ]
  },
  {
   "cell_type": "markdown",
   "metadata": {},
   "source": [
    "> Aqui o ponto principal será identificar de onde são esses dados. Das informações disponíveis no Kagle, já sabe-se que são de Vitória, ES. Portanto, vai ser muito interessante cruzar com os dados demográficos dessa cidade, a partir do IBGE.\n",
    ">\n",
    "\n",
    "##### About the Introduction Section\n",
    "> **Tip**: In this section of the report, provide a brief introduction to the dataset you've selected for analysis. At the end of this section, describe the questions that you plan on exploring over the course of the report. Try to build your report around the analysis of at least one dependent variable and three independent variables.\n",
    ">\n",
    "> If you haven't yet selected and downloaded your data, make sure you do that first before coming back here. If you're not sure what questions to ask right now, then make sure you familiarize yourself with the variables and the dataset context for ideas of what to explore."
   ]
  },
  {
   "cell_type": "code",
   "execution_count": null,
   "metadata": {
    "collapsed": true
   },
   "outputs": [],
   "source": []
  },
  {
   "cell_type": "markdown",
   "metadata": {},
   "source": [
    "### Data Cleaning (Replace this with more specific notes!)\n",
    "\n",
    "> **Tip**: You should _not_ perform too many operations in each cell. Create cells freely to explore your data. One option that you can take with this project is to do a lot of explorations in an initial notebook. These don't have to be organized, but make sure you use enough comments to understand the purpose of each code cell. Then, after you're done with your analysis, create a duplicate notebook where you will trim the excess and organize your steps so that you have a flowing, cohesive report.\n",
    "\n",
    "> **Tip**: Make sure that you keep your reader informed on the steps that you are taking in your investigation. Follow every code cell, or every set of related code cells, with a markdown cell to describe to the reader what was found in the preceding cell(s). Try to make it so that the reader can then understand what they will be seeing in the following cell(s)."
   ]
  },
  {
   "cell_type": "code",
   "execution_count": null,
   "metadata": {
    "collapsed": true
   },
   "outputs": [],
   "source": []
  },
  {
   "cell_type": "code",
   "execution_count": null,
   "metadata": {
    "collapsed": true
   },
   "outputs": [],
   "source": [
    "# Load your data and print out a few lines. Perform operations to inspect data\n",
    "#   types and look for instances of missing or possibly errant data.\n"
   ]
  },
  {
   "cell_type": "code",
   "execution_count": null,
   "metadata": {
    "collapsed": true
   },
   "outputs": [],
   "source": []
  },
  {
   "cell_type": "code",
   "execution_count": null,
   "metadata": {
    "collapsed": false,
    "scrolled": false
   },
   "outputs": [],
   "source": [
    "dataset['Neighbourhood'].unique()"
   ]
  },
  {
   "cell_type": "code",
   "execution_count": null,
   "metadata": {
    "collapsed": true
   },
   "outputs": [],
   "source": []
  },
  {
   "cell_type": "markdown",
   "metadata": {},
   "source": [
    "#### Scheduling Time and appointment..."
   ]
  },
  {
   "cell_type": "code",
   "execution_count": null,
   "metadata": {
    "collapsed": true
   },
   "outputs": [],
   "source": [
    "def parse_date(date):\n",
    "    '''Auxiliar function to parse a date information from string type to python datetime object.\n",
    "    Syntax: parse_date(date), where:\n",
    "        date = string with the date information.'''\n",
    "    if date == '':\n",
    "        return None\n",
    "    else:\n",
    "        return dt.strptime(date, '%Y-%m-%dT%H:%M:%SZ')"
   ]
  },
  {
   "cell_type": "code",
   "execution_count": null,
   "metadata": {
    "collapsed": true
   },
   "outputs": [],
   "source": []
  },
  {
   "cell_type": "code",
   "execution_count": null,
   "metadata": {
    "collapsed": true
   },
   "outputs": [],
   "source": []
  },
  {
   "cell_type": "markdown",
   "metadata": {},
   "source": [
    "##### Ages over hundred"
   ]
  },
  {
   "cell_type": "code",
   "execution_count": null,
   "metadata": {
    "collapsed": false
   },
   "outputs": [],
   "source": [
    "dataset.describe()"
   ]
  },
  {
   "cell_type": "code",
   "execution_count": null,
   "metadata": {
    "collapsed": false,
    "scrolled": true
   },
   "outputs": [],
   "source": [
    "## Plotting the attribute distribution:\n",
    "plt.hist(dataset['Age'], bins=115);"
   ]
  },
  {
   "cell_type": "code",
   "execution_count": null,
   "metadata": {
    "collapsed": false,
    "scrolled": true
   },
   "outputs": [],
   "source": [
    "sns.distplot(dataset['Age'])"
   ]
  },
  {
   "cell_type": "code",
   "execution_count": null,
   "metadata": {
    "collapsed": true
   },
   "outputs": [],
   "source": []
  },
  {
   "cell_type": "markdown",
   "metadata": {},
   "source": [
    "> **Tip**: Now that you've trimmed and cleaned your data, you're ready to move on to exploration. Compute statistics and create visualizations with the goal of addressing the research questions that you posed in the Introduction section. It is recommended that you be systematic with your approach. Look at one variable at a time, and then follow it up by looking at relationships between variables."
   ]
  },
  {
   "cell_type": "code",
   "execution_count": null,
   "metadata": {
    "collapsed": true
   },
   "outputs": [],
   "source": []
  },
  {
   "cell_type": "code",
   "execution_count": null,
   "metadata": {
    "collapsed": true
   },
   "outputs": [],
   "source": []
  },
  {
   "cell_type": "code",
   "execution_count": null,
   "metadata": {
    "collapsed": true
   },
   "outputs": [],
   "source": []
  }
 ],
 "metadata": {
  "kernelspec": {
   "display_name": "Python [conda env:analytics3]",
   "language": "python",
   "name": "conda-env-analytics3-py"
  },
  "language_info": {
   "codemirror_mode": {
    "name": "ipython",
    "version": 3
   },
   "file_extension": ".py",
   "mimetype": "text/x-python",
   "name": "python",
   "nbconvert_exporter": "python",
   "pygments_lexer": "ipython3",
   "version": "3.6.0"
  }
 },
 "nbformat": 4,
 "nbformat_minor": 2
}

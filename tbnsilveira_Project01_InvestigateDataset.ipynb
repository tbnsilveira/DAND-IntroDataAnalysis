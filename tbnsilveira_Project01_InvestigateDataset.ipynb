{
 "cells": [
  {
   "cell_type": "markdown",
   "metadata": {},
   "source": [
    "# Medical appointment no-shows\n",
    "This analysis is part of the Udacity Data Analysis Nanodegree program and aims to explore a dataset containing aproximately 100k medical appointments from the Brazilian public health system. It is basically divided into four sections: (1) *Introduction*, where the investigation problem is set and the dataset is described; (2) *Data Wrangling*, where the acquired data are cleaned and parsed; (3) *Exploratory Data Analysis*, in which some intuition about the data are built based on the found patterns; (4) *Conclusion*, where the found insights about the problem are reviewed and communicated.  \n",
    "\n",
    "Those readers not interested in the whole data analysis process may read <a href=\"#intro\">Section 1</a>, to get familiar with the data and the investigation problem and then jump directly to <a href=\"#conclusions\">Section 4</a> to find out the analysis results.\n",
    "\n",
    "## Table of Contents\n",
    "* <a href=\"#intro\">1. Introduction</a>\n",
    "  * <a href=\"#sec1.1\"> 1.1. Initial statements </a>\n",
    "  * <a href=\"#sec1.2\"> 1.2. Understanding the data </a>\n",
    "  * <a href=\"#sec1.3\"> 1.3. Hypothesis to be explored </a>\n",
    "* <a href=\"#wrangling\">2. Data Wrangling</a>\n",
    "  * <a href=\"#sec2.1\"> 2.1. General properties </a>\n",
    "  * <a href=\"#sec2.2\"> 2.2. Numerical attributes and outliers</a>\n",
    "    * <a href=\"#sec2.2.1\"> PatientID</a>\n",
    "    * <a href=\"#sec2.2.2\"> AppointmentID</a>   \n",
    "    * <a href=\"#sec2.2.3\"> Checking the Age attribute</a>   \n",
    "    * <a href=\"#sec2.2.4\"> Checking the Handcap attribute</a>   \n",
    "  * <a href=\"#sec2.3\"> 2.3. Categorical attributes</a>\n",
    "    * <a href=\"#sec2.3.1\"> Gender attribute</a>   \n",
    "    * <a href=\"#sec2.3.2\"> Schedule and appointment date</a>\n",
    "    * <a href=\"#sec2.3.3\"> Waiting days</a>\n",
    "    * <a href=\"#sec2.3.4\"> Neighborhood names</a>\n",
    "    * <a href=\"#sec2.3.5\"> No-show class</a>\n",
    "  * <a href=\"#sec2.4\"> 2.4. Data wrangling overview</a>\n",
    "* <a href=\"#eda\">3. Exploratory Data Analysis</a>\n",
    "  * <a href=\"#EDA_question1\">3.1. Exploring no-showing appointments</a>\n",
    "    * <a href=\"#sec3.1.1\"> Waiting time between the scheduling and the appointment date </a>\n",
    "    * <a href=\"#sec3.1.2\"> A return to assiduity </a>\n",
    "    * <a href=\"#sec3.1.3\"> Neighborhood analysis </a>\n",
    "    \n",
    "  * <a href=\"#EDA_question2\">3.2. Exploring the patient profiles</a>\n",
    "\n",
    "* <a href=\"#conclusions\">4. Conclusions</a>\n",
    "* <a href=\"#references\">References</a>"
   ]
  },
  {
   "cell_type": "markdown",
   "metadata": {},
   "source": [
    "<a id='intro'></a>\n",
    "## 1. Introduction\n",
    "\n",
    "The Brazilian public health system, known as SUS for *Unified Health System* in its acronym in Portuguese, is one of the largest health system in the world <a href=\"#[1]\">[1]</a>, representing government investment of more than 9% of GDP. However, its operation is not homogeneous and there are distinct perceptions of quality from citizens in different regions of the country.\n",
    "\n",
    "This analysis will use the *no-show appointments dataset* which collects information from 100k medical appointments in Brazil and is focused on the question of whether or not patients show up for their appointment, including a set of characteristics about the patient in each row:\n",
    "- ‘ScheduledDay’: tells us on which day the patient set up their appointment.  \n",
    "- ‘Neighborhood’: indicates the location of the hospital.  \n",
    "- ‘Scholarship’: indicates whether or not the patient is enrolled in Brasilian welfare program called *Bolsa Família*.\n",
    "- 'No-show': it says ‘No’ if the patient showed up to their appointment, and ‘Yes’ if they did not show up.\n",
    "\n",
    "This analysis aims to outline some possible reasons for patient no-showing at the scheduled appointments, as well as get insights about the Brazilian public health system. To accomplish this, we will first try to understand the data and the context on which they were collected. We will then proceed to data wrangling and exploratory data analysis, in an iterative process, in order to draw some conclusions about the subject."
   ]
  },
  {
   "cell_type": "markdown",
   "metadata": {},
   "source": [
    "<a id='sec1.1'></a>\n",
    "### 1.1. Initial statements\n",
    "This section sets up import statements for all the packages that will be used throughout this python notebook."
   ]
  },
  {
   "cell_type": "code",
   "execution_count": 1,
   "metadata": {
    "collapsed": false
   },
   "outputs": [
    {
     "name": "stderr",
     "output_type": "stream",
     "text": [
      "/home/tbnsilveira/anaconda3/envs/analytics3/lib/python3.6/site-packages/IPython/html.py:14: ShimWarning: The `IPython.html` package has been deprecated. You should import from `notebook` instead. `IPython.html.widgets` has moved to `ipywidgets`.\n",
      "  \"`IPython.html.widgets` has moved to `ipywidgets`.\", ShimWarning)\n"
     ]
    }
   ],
   "source": [
    "# Data analysis packages:\n",
    "import pandas as pd\n",
    "import numpy as np\n",
    "#from datetime import datetime as dt\n",
    "\n",
    "# Visualization packages:\n",
    "import seaborn as sns\n",
    "import matplotlib.pyplot as plt\n",
    "%matplotlib inline"
   ]
  },
  {
   "cell_type": "markdown",
   "metadata": {},
   "source": [
    "<a id='sec1.2'></a>\n",
    "### 1.2. Understanding the data\n",
    "Since the original dataset is available at Kaggle <a href=\"#[2]\">[2]</a>, the first step was to get additional information available on its original repository, as transcripted below:\n",
    "\n",
    ">In response here it goes: Country? Brazil. Is this from private or public service? Or both? Public Sector (Brazil). Primary, secondary, or tertiary care? Primary care, not sure about it. Only physicians? What would be the specialties? We don't have these information.\n",
    "  \n",
    ">First appointment with that specific professional? I believe first appointments are prone to \"no show\". That is a very good hint, we don't have that information yet. Part of the day? Early morning might be worse. (Perhaps in the next version we can include it.\n",
    "\n",
    "Another relevant point is that any information is provided about the source of data. I.e., did these data come from a government agency or were they a compilation from each health unit? Furthermore, besides it is known the data is about public health unit, it is not said from which government sphere they belong to (municipal, state or federal). \n",
    "The absence of such information can result in a biased analysis, since the complex and decentralized Brazilian health system brings inevitable conflicts and contradictions between its associated entities, as identified in <a href=\"#[3]\">[3]</a>.\n",
    "\n",
    "This question regarding the data source was made at the Kaggle discussion forum (available at https://goo.gl/JB4P4d), on which the following answer were given: \n",
    "> This is at municipal level combining the appointments occurred in more then 45 units. As far as we know, the city has 20 million loss a year with no-shows. After so many studies happening in this data the average no-show now is 20%. Its important to mention that all services offered to the municipality were free of charge."
   ]
  },
  {
   "cell_type": "markdown",
   "metadata": {},
   "source": [
    "In order to define the hypotheses that will lead this analysis, it is first needed to know which information is available in the dataset (attributes). Thus, the first lines of the dataset are shown below:"
   ]
  },
  {
   "cell_type": "code",
   "execution_count": 2,
   "metadata": {
    "collapsed": false
   },
   "outputs": [
    {
     "data": {
      "text/html": [
       "<div>\n",
       "<style scoped>\n",
       "    .dataframe tbody tr th:only-of-type {\n",
       "        vertical-align: middle;\n",
       "    }\n",
       "\n",
       "    .dataframe tbody tr th {\n",
       "        vertical-align: top;\n",
       "    }\n",
       "\n",
       "    .dataframe thead th {\n",
       "        text-align: right;\n",
       "    }\n",
       "</style>\n",
       "<table border=\"1\" class=\"dataframe\">\n",
       "  <thead>\n",
       "    <tr style=\"text-align: right;\">\n",
       "      <th></th>\n",
       "      <th>PatientId</th>\n",
       "      <th>AppointmentID</th>\n",
       "      <th>Gender</th>\n",
       "      <th>ScheduledDay</th>\n",
       "      <th>AppointmentDay</th>\n",
       "      <th>Age</th>\n",
       "      <th>Neighbourhood</th>\n",
       "      <th>Scholarship</th>\n",
       "      <th>Hipertension</th>\n",
       "      <th>Diabetes</th>\n",
       "      <th>Alcoholism</th>\n",
       "      <th>Handcap</th>\n",
       "      <th>SMS_received</th>\n",
       "      <th>No-show</th>\n",
       "    </tr>\n",
       "  </thead>\n",
       "  <tbody>\n",
       "    <tr>\n",
       "      <th>0</th>\n",
       "      <td>2.987250e+13</td>\n",
       "      <td>5642903</td>\n",
       "      <td>F</td>\n",
       "      <td>2016-04-29T18:38:08Z</td>\n",
       "      <td>2016-04-29T00:00:00Z</td>\n",
       "      <td>62</td>\n",
       "      <td>JARDIM DA PENHA</td>\n",
       "      <td>0</td>\n",
       "      <td>1</td>\n",
       "      <td>0</td>\n",
       "      <td>0</td>\n",
       "      <td>0</td>\n",
       "      <td>0</td>\n",
       "      <td>No</td>\n",
       "    </tr>\n",
       "    <tr>\n",
       "      <th>1</th>\n",
       "      <td>5.589978e+14</td>\n",
       "      <td>5642503</td>\n",
       "      <td>M</td>\n",
       "      <td>2016-04-29T16:08:27Z</td>\n",
       "      <td>2016-04-29T00:00:00Z</td>\n",
       "      <td>56</td>\n",
       "      <td>JARDIM DA PENHA</td>\n",
       "      <td>0</td>\n",
       "      <td>0</td>\n",
       "      <td>0</td>\n",
       "      <td>0</td>\n",
       "      <td>0</td>\n",
       "      <td>0</td>\n",
       "      <td>No</td>\n",
       "    </tr>\n",
       "    <tr>\n",
       "      <th>2</th>\n",
       "      <td>4.262962e+12</td>\n",
       "      <td>5642549</td>\n",
       "      <td>F</td>\n",
       "      <td>2016-04-29T16:19:04Z</td>\n",
       "      <td>2016-04-29T00:00:00Z</td>\n",
       "      <td>62</td>\n",
       "      <td>MATA DA PRAIA</td>\n",
       "      <td>0</td>\n",
       "      <td>0</td>\n",
       "      <td>0</td>\n",
       "      <td>0</td>\n",
       "      <td>0</td>\n",
       "      <td>0</td>\n",
       "      <td>No</td>\n",
       "    </tr>\n",
       "    <tr>\n",
       "      <th>3</th>\n",
       "      <td>8.679512e+11</td>\n",
       "      <td>5642828</td>\n",
       "      <td>F</td>\n",
       "      <td>2016-04-29T17:29:31Z</td>\n",
       "      <td>2016-04-29T00:00:00Z</td>\n",
       "      <td>8</td>\n",
       "      <td>PONTAL DE CAMBURI</td>\n",
       "      <td>0</td>\n",
       "      <td>0</td>\n",
       "      <td>0</td>\n",
       "      <td>0</td>\n",
       "      <td>0</td>\n",
       "      <td>0</td>\n",
       "      <td>No</td>\n",
       "    </tr>\n",
       "    <tr>\n",
       "      <th>4</th>\n",
       "      <td>8.841186e+12</td>\n",
       "      <td>5642494</td>\n",
       "      <td>F</td>\n",
       "      <td>2016-04-29T16:07:23Z</td>\n",
       "      <td>2016-04-29T00:00:00Z</td>\n",
       "      <td>56</td>\n",
       "      <td>JARDIM DA PENHA</td>\n",
       "      <td>0</td>\n",
       "      <td>1</td>\n",
       "      <td>1</td>\n",
       "      <td>0</td>\n",
       "      <td>0</td>\n",
       "      <td>0</td>\n",
       "      <td>No</td>\n",
       "    </tr>\n",
       "  </tbody>\n",
       "</table>\n",
       "</div>"
      ],
      "text/plain": [
       "      PatientId  AppointmentID Gender          ScheduledDay  \\\n",
       "0  2.987250e+13        5642903      F  2016-04-29T18:38:08Z   \n",
       "1  5.589978e+14        5642503      M  2016-04-29T16:08:27Z   \n",
       "2  4.262962e+12        5642549      F  2016-04-29T16:19:04Z   \n",
       "3  8.679512e+11        5642828      F  2016-04-29T17:29:31Z   \n",
       "4  8.841186e+12        5642494      F  2016-04-29T16:07:23Z   \n",
       "\n",
       "         AppointmentDay  Age      Neighbourhood  Scholarship  Hipertension  \\\n",
       "0  2016-04-29T00:00:00Z   62    JARDIM DA PENHA            0             1   \n",
       "1  2016-04-29T00:00:00Z   56    JARDIM DA PENHA            0             0   \n",
       "2  2016-04-29T00:00:00Z   62      MATA DA PRAIA            0             0   \n",
       "3  2016-04-29T00:00:00Z    8  PONTAL DE CAMBURI            0             0   \n",
       "4  2016-04-29T00:00:00Z   56    JARDIM DA PENHA            0             1   \n",
       "\n",
       "   Diabetes  Alcoholism  Handcap  SMS_received No-show  \n",
       "0         0           0        0             0      No  \n",
       "1         0           0        0             0      No  \n",
       "2         0           0        0             0      No  \n",
       "3         0           0        0             0      No  \n",
       "4         1           0        0             0      No  "
      ]
     },
     "execution_count": 2,
     "metadata": {},
     "output_type": "execute_result"
    }
   ],
   "source": [
    "pd.read_csv('noshowappointments-kagglev2-may-2016.csv').head()"
   ]
  },
  {
   "cell_type": "markdown",
   "metadata": {},
   "source": [
    "<a id='sec1.3'></a>\n",
    "### 1.3. Hypotheses to be explored\n",
    "\n",
    "From the dataset information and its attributes, the following questions can be formulated:\n",
    "* **Regarding the no-showing appointments**:\n",
    "  - Do the patients forget the appointment?\n",
    "  - What is the average waiting time between the scheduling date and the appointment date?\n",
    "  \n",
    "* **Regarding the patient profile**:\n",
    "  - Is there any common characteristics among those patients that miss appointments?\n",
    "  - What is the *missing appointments per patient* relation in the dataset?  \n",
    "  - How many patients have missed an appointment at least once?\n",
    "  - Patients suffering from serious illnesses are more assiduous?\n",
    "\n",
    "* **Regarding the health unit**:\n",
    "  - What are the neighbourhoods with the highest no-showing rate?\n",
    "  - Considering there are common characteristics among those who do not attend the appointments, how these characteristics are geographically distributed?\n",
    "  \n",
    "* **Regarding the data**:\n",
    "  - Is the data balanced in relation to the interest class (showing/no-showing to appointments)?\n",
    "  - How is the data distributed in relation to the location (neighborhood)? I.e. all the units have an equivalent and balanced number of instances?\n",
    "  \n",
    "The analysis conduced in the next sections will try to address some of these questions answering them based on the available dataset."
   ]
  },
  {
   "cell_type": "markdown",
   "metadata": {},
   "source": [
    "-------------"
   ]
  },
  {
   "cell_type": "markdown",
   "metadata": {},
   "source": [
    "<a id='wrangling'></a>\n",
    "## 2. Data Wrangling\n",
    "In this section the data will be loaded and some operations will be performed to inspect data types, to look for missing values or possibly errant data. Data cleaning operations will be executed in the same section where a specific attribute is being analyzed."
   ]
  },
  {
   "cell_type": "markdown",
   "metadata": {},
   "source": [
    "<a id='sec2.1'></a>\n",
    "### 2.1. General Properties"
   ]
  },
  {
   "cell_type": "code",
   "execution_count": 3,
   "metadata": {
    "collapsed": false,
    "scrolled": true
   },
   "outputs": [
    {
     "data": {
      "text/html": [
       "<div>\n",
       "<style scoped>\n",
       "    .dataframe tbody tr th:only-of-type {\n",
       "        vertical-align: middle;\n",
       "    }\n",
       "\n",
       "    .dataframe tbody tr th {\n",
       "        vertical-align: top;\n",
       "    }\n",
       "\n",
       "    .dataframe thead th {\n",
       "        text-align: right;\n",
       "    }\n",
       "</style>\n",
       "<table border=\"1\" class=\"dataframe\">\n",
       "  <thead>\n",
       "    <tr style=\"text-align: right;\">\n",
       "      <th></th>\n",
       "      <th>PatientId</th>\n",
       "      <th>AppointmentID</th>\n",
       "      <th>Gender</th>\n",
       "      <th>ScheduledDay</th>\n",
       "      <th>AppointmentDay</th>\n",
       "      <th>Age</th>\n",
       "      <th>Neighbourhood</th>\n",
       "      <th>Scholarship</th>\n",
       "      <th>Hipertension</th>\n",
       "      <th>Diabetes</th>\n",
       "      <th>Alcoholism</th>\n",
       "      <th>Handcap</th>\n",
       "      <th>SMS_received</th>\n",
       "      <th>No-show</th>\n",
       "    </tr>\n",
       "  </thead>\n",
       "  <tbody>\n",
       "    <tr>\n",
       "      <th>0</th>\n",
       "      <td>2.987250e+13</td>\n",
       "      <td>5642903</td>\n",
       "      <td>F</td>\n",
       "      <td>2016-04-29T18:38:08Z</td>\n",
       "      <td>2016-04-29T00:00:00Z</td>\n",
       "      <td>62</td>\n",
       "      <td>JARDIM DA PENHA</td>\n",
       "      <td>0</td>\n",
       "      <td>1</td>\n",
       "      <td>0</td>\n",
       "      <td>0</td>\n",
       "      <td>0</td>\n",
       "      <td>0</td>\n",
       "      <td>No</td>\n",
       "    </tr>\n",
       "    <tr>\n",
       "      <th>1</th>\n",
       "      <td>5.589978e+14</td>\n",
       "      <td>5642503</td>\n",
       "      <td>M</td>\n",
       "      <td>2016-04-29T16:08:27Z</td>\n",
       "      <td>2016-04-29T00:00:00Z</td>\n",
       "      <td>56</td>\n",
       "      <td>JARDIM DA PENHA</td>\n",
       "      <td>0</td>\n",
       "      <td>0</td>\n",
       "      <td>0</td>\n",
       "      <td>0</td>\n",
       "      <td>0</td>\n",
       "      <td>0</td>\n",
       "      <td>No</td>\n",
       "    </tr>\n",
       "    <tr>\n",
       "      <th>2</th>\n",
       "      <td>4.262962e+12</td>\n",
       "      <td>5642549</td>\n",
       "      <td>F</td>\n",
       "      <td>2016-04-29T16:19:04Z</td>\n",
       "      <td>2016-04-29T00:00:00Z</td>\n",
       "      <td>62</td>\n",
       "      <td>MATA DA PRAIA</td>\n",
       "      <td>0</td>\n",
       "      <td>0</td>\n",
       "      <td>0</td>\n",
       "      <td>0</td>\n",
       "      <td>0</td>\n",
       "      <td>0</td>\n",
       "      <td>No</td>\n",
       "    </tr>\n",
       "  </tbody>\n",
       "</table>\n",
       "</div>"
      ],
      "text/plain": [
       "      PatientId  AppointmentID Gender          ScheduledDay  \\\n",
       "0  2.987250e+13        5642903      F  2016-04-29T18:38:08Z   \n",
       "1  5.589978e+14        5642503      M  2016-04-29T16:08:27Z   \n",
       "2  4.262962e+12        5642549      F  2016-04-29T16:19:04Z   \n",
       "\n",
       "         AppointmentDay  Age    Neighbourhood  Scholarship  Hipertension  \\\n",
       "0  2016-04-29T00:00:00Z   62  JARDIM DA PENHA            0             1   \n",
       "1  2016-04-29T00:00:00Z   56  JARDIM DA PENHA            0             0   \n",
       "2  2016-04-29T00:00:00Z   62    MATA DA PRAIA            0             0   \n",
       "\n",
       "   Diabetes  Alcoholism  Handcap  SMS_received No-show  \n",
       "0         0           0        0             0      No  \n",
       "1         0           0        0             0      No  \n",
       "2         0           0        0             0      No  "
      ]
     },
     "execution_count": 3,
     "metadata": {},
     "output_type": "execute_result"
    }
   ],
   "source": [
    "## Loading the dataset and printing out a few lines:\n",
    "dataset = pd.read_csv('noshowappointments-kagglev2-may-2016.csv')\n",
    "dataset.head(3)"
   ]
  },
  {
   "cell_type": "code",
   "execution_count": 4,
   "metadata": {
    "collapsed": false,
    "scrolled": false
   },
   "outputs": [
    {
     "name": "stdout",
     "output_type": "stream",
     "text": [
      "<class 'pandas.core.frame.DataFrame'>\n",
      "RangeIndex: 110527 entries, 0 to 110526\n",
      "Data columns (total 14 columns):\n",
      "PatientId         110527 non-null float64\n",
      "AppointmentID     110527 non-null int64\n",
      "Gender            110527 non-null object\n",
      "ScheduledDay      110527 non-null object\n",
      "AppointmentDay    110527 non-null object\n",
      "Age               110527 non-null int64\n",
      "Neighbourhood     110527 non-null object\n",
      "Scholarship       110527 non-null int64\n",
      "Hipertension      110527 non-null int64\n",
      "Diabetes          110527 non-null int64\n",
      "Alcoholism        110527 non-null int64\n",
      "Handcap           110527 non-null int64\n",
      "SMS_received      110527 non-null int64\n",
      "No-show           110527 non-null object\n",
      "dtypes: float64(1), int64(8), object(5)\n",
      "memory usage: 11.8+ MB\n"
     ]
    }
   ],
   "source": [
    "## Reading dataset general information:\n",
    "dataset.info()"
   ]
  },
  {
   "cell_type": "markdown",
   "metadata": {},
   "source": [
    "From the command above, it is possible to notice the dataset has no missing values, since all the attributes have 110.527 instances. However there is no guarantee these values are all consistent. In the way to check it, the *pandas.describe()* method will be applied in the next section to gather information from the numerical attributes."
   ]
  },
  {
   "cell_type": "markdown",
   "metadata": {},
   "source": [
    "<a id='sec2.2'></a>\n",
    "### 2.2. Numerical attributes and outliers"
   ]
  },
  {
   "cell_type": "code",
   "execution_count": 5,
   "metadata": {
    "collapsed": false,
    "scrolled": false
   },
   "outputs": [
    {
     "data": {
      "text/html": [
       "<div>\n",
       "<style scoped>\n",
       "    .dataframe tbody tr th:only-of-type {\n",
       "        vertical-align: middle;\n",
       "    }\n",
       "\n",
       "    .dataframe tbody tr th {\n",
       "        vertical-align: top;\n",
       "    }\n",
       "\n",
       "    .dataframe thead th {\n",
       "        text-align: right;\n",
       "    }\n",
       "</style>\n",
       "<table border=\"1\" class=\"dataframe\">\n",
       "  <thead>\n",
       "    <tr style=\"text-align: right;\">\n",
       "      <th></th>\n",
       "      <th>PatientId</th>\n",
       "      <th>AppointmentID</th>\n",
       "      <th>Age</th>\n",
       "      <th>Scholarship</th>\n",
       "      <th>Hipertension</th>\n",
       "      <th>Diabetes</th>\n",
       "      <th>Alcoholism</th>\n",
       "      <th>Handcap</th>\n",
       "      <th>SMS_received</th>\n",
       "    </tr>\n",
       "  </thead>\n",
       "  <tbody>\n",
       "    <tr>\n",
       "      <th>count</th>\n",
       "      <td>1.105270e+05</td>\n",
       "      <td>1.105270e+05</td>\n",
       "      <td>110527.000000</td>\n",
       "      <td>110527.000000</td>\n",
       "      <td>110527.000000</td>\n",
       "      <td>110527.000000</td>\n",
       "      <td>110527.000000</td>\n",
       "      <td>110527.000000</td>\n",
       "      <td>110527.000000</td>\n",
       "    </tr>\n",
       "    <tr>\n",
       "      <th>mean</th>\n",
       "      <td>1.474963e+14</td>\n",
       "      <td>5.675305e+06</td>\n",
       "      <td>37.088874</td>\n",
       "      <td>0.098266</td>\n",
       "      <td>0.197246</td>\n",
       "      <td>0.071865</td>\n",
       "      <td>0.030400</td>\n",
       "      <td>0.022248</td>\n",
       "      <td>0.321026</td>\n",
       "    </tr>\n",
       "    <tr>\n",
       "      <th>std</th>\n",
       "      <td>2.560949e+14</td>\n",
       "      <td>7.129575e+04</td>\n",
       "      <td>23.110205</td>\n",
       "      <td>0.297675</td>\n",
       "      <td>0.397921</td>\n",
       "      <td>0.258265</td>\n",
       "      <td>0.171686</td>\n",
       "      <td>0.161543</td>\n",
       "      <td>0.466873</td>\n",
       "    </tr>\n",
       "    <tr>\n",
       "      <th>min</th>\n",
       "      <td>3.921784e+04</td>\n",
       "      <td>5.030230e+06</td>\n",
       "      <td>-1.000000</td>\n",
       "      <td>0.000000</td>\n",
       "      <td>0.000000</td>\n",
       "      <td>0.000000</td>\n",
       "      <td>0.000000</td>\n",
       "      <td>0.000000</td>\n",
       "      <td>0.000000</td>\n",
       "    </tr>\n",
       "    <tr>\n",
       "      <th>25%</th>\n",
       "      <td>4.172614e+12</td>\n",
       "      <td>5.640286e+06</td>\n",
       "      <td>18.000000</td>\n",
       "      <td>0.000000</td>\n",
       "      <td>0.000000</td>\n",
       "      <td>0.000000</td>\n",
       "      <td>0.000000</td>\n",
       "      <td>0.000000</td>\n",
       "      <td>0.000000</td>\n",
       "    </tr>\n",
       "    <tr>\n",
       "      <th>50%</th>\n",
       "      <td>3.173184e+13</td>\n",
       "      <td>5.680573e+06</td>\n",
       "      <td>37.000000</td>\n",
       "      <td>0.000000</td>\n",
       "      <td>0.000000</td>\n",
       "      <td>0.000000</td>\n",
       "      <td>0.000000</td>\n",
       "      <td>0.000000</td>\n",
       "      <td>0.000000</td>\n",
       "    </tr>\n",
       "    <tr>\n",
       "      <th>75%</th>\n",
       "      <td>9.439172e+13</td>\n",
       "      <td>5.725524e+06</td>\n",
       "      <td>55.000000</td>\n",
       "      <td>0.000000</td>\n",
       "      <td>0.000000</td>\n",
       "      <td>0.000000</td>\n",
       "      <td>0.000000</td>\n",
       "      <td>0.000000</td>\n",
       "      <td>1.000000</td>\n",
       "    </tr>\n",
       "    <tr>\n",
       "      <th>max</th>\n",
       "      <td>9.999816e+14</td>\n",
       "      <td>5.790484e+06</td>\n",
       "      <td>115.000000</td>\n",
       "      <td>1.000000</td>\n",
       "      <td>1.000000</td>\n",
       "      <td>1.000000</td>\n",
       "      <td>1.000000</td>\n",
       "      <td>4.000000</td>\n",
       "      <td>1.000000</td>\n",
       "    </tr>\n",
       "  </tbody>\n",
       "</table>\n",
       "</div>"
      ],
      "text/plain": [
       "          PatientId  AppointmentID            Age    Scholarship  \\\n",
       "count  1.105270e+05   1.105270e+05  110527.000000  110527.000000   \n",
       "mean   1.474963e+14   5.675305e+06      37.088874       0.098266   \n",
       "std    2.560949e+14   7.129575e+04      23.110205       0.297675   \n",
       "min    3.921784e+04   5.030230e+06      -1.000000       0.000000   \n",
       "25%    4.172614e+12   5.640286e+06      18.000000       0.000000   \n",
       "50%    3.173184e+13   5.680573e+06      37.000000       0.000000   \n",
       "75%    9.439172e+13   5.725524e+06      55.000000       0.000000   \n",
       "max    9.999816e+14   5.790484e+06     115.000000       1.000000   \n",
       "\n",
       "        Hipertension       Diabetes     Alcoholism        Handcap  \\\n",
       "count  110527.000000  110527.000000  110527.000000  110527.000000   \n",
       "mean        0.197246       0.071865       0.030400       0.022248   \n",
       "std         0.397921       0.258265       0.171686       0.161543   \n",
       "min         0.000000       0.000000       0.000000       0.000000   \n",
       "25%         0.000000       0.000000       0.000000       0.000000   \n",
       "50%         0.000000       0.000000       0.000000       0.000000   \n",
       "75%         0.000000       0.000000       0.000000       0.000000   \n",
       "max         1.000000       1.000000       1.000000       4.000000   \n",
       "\n",
       "        SMS_received  \n",
       "count  110527.000000  \n",
       "mean        0.321026  \n",
       "std         0.466873  \n",
       "min         0.000000  \n",
       "25%         0.000000  \n",
       "50%         0.000000  \n",
       "75%         1.000000  \n",
       "max         1.000000  "
      ]
     },
     "execution_count": 5,
     "metadata": {},
     "output_type": "execute_result"
    }
   ],
   "source": [
    "## Describing the numerical attributes:\n",
    "dataset.describe()"
   ]
  },
  {
   "cell_type": "markdown",
   "metadata": {},
   "source": [
    "<a id='sec2.2.1'></a>\n",
    "#### 2.2.1 PatientID:\n",
    "This attribute type is originally numerical *(float64 type)*. However, since it represents the patient identification, any numerical operations should not be applied to it and therefore it will be transformed into a string type:"
   ]
  },
  {
   "cell_type": "code",
   "execution_count": 6,
   "metadata": {
    "collapsed": false
   },
   "outputs": [
    {
     "data": {
      "text/plain": [
       "numpy.float64"
      ]
     },
     "execution_count": 6,
     "metadata": {},
     "output_type": "execute_result"
    }
   ],
   "source": [
    "## Checking the attribute data type:\n",
    "type(dataset['PatientId'][0])"
   ]
  },
  {
   "cell_type": "code",
   "execution_count": 7,
   "metadata": {
    "collapsed": false
   },
   "outputs": [],
   "source": [
    "## Converting the values to int type and then to str type:\n",
    "dataset['PatientId'] = dataset['PatientId'].apply(lambda x: str(int(x)));"
   ]
  },
  {
   "cell_type": "code",
   "execution_count": 8,
   "metadata": {
    "collapsed": false,
    "scrolled": true
   },
   "outputs": [
    {
     "data": {
      "text/plain": [
       "62299"
      ]
     },
     "execution_count": 8,
     "metadata": {},
     "output_type": "execute_result"
    }
   ],
   "source": [
    "## Counting how many unique patients are in the dataset:\n",
    "len(dataset['PatientId'].unique())"
   ]
  },
  {
   "cell_type": "markdown",
   "metadata": {},
   "source": [
    "Counting the unique values of this dataset attribute shows us how many unique patients we are dealing with. In this case, there are 62,299 patients which indicates that some patients had more than one appointment *(an average of 1.77 appointments per patient)*. "
   ]
  },
  {
   "cell_type": "markdown",
   "metadata": {},
   "source": [
    "<a id='sec2.2.2'></a>\n",
    "#### 2.2.2 AppointmentID:\n",
    "The same can be said for the *AppointmentID* attribute, which will also be transformed into a string type:"
   ]
  },
  {
   "cell_type": "code",
   "execution_count": 9,
   "metadata": {
    "collapsed": false
   },
   "outputs": [
    {
     "data": {
      "text/plain": [
       "numpy.int64"
      ]
     },
     "execution_count": 9,
     "metadata": {},
     "output_type": "execute_result"
    }
   ],
   "source": [
    "## Checking the attribute data type:\n",
    "type(dataset['AppointmentID'][0])"
   ]
  },
  {
   "cell_type": "code",
   "execution_count": 10,
   "metadata": {
    "collapsed": false
   },
   "outputs": [],
   "source": [
    "## Converting the values to int type and then to str type:\n",
    "dataset['AppointmentID'] = dataset['AppointmentID'].apply(lambda x: str(int(x)));"
   ]
  },
  {
   "cell_type": "code",
   "execution_count": 11,
   "metadata": {
    "collapsed": false,
    "scrolled": true
   },
   "outputs": [
    {
     "data": {
      "text/plain": [
       "110527"
      ]
     },
     "execution_count": 11,
     "metadata": {},
     "output_type": "execute_result"
    }
   ],
   "source": [
    "## Counting how many unique patients are in the dataset:\n",
    "len(dataset['AppointmentID'].unique())"
   ]
  },
  {
   "cell_type": "markdown",
   "metadata": {},
   "source": [
    "This attribute seems to be consistent: there are 110,527 instances in the dataset, as well as 110,527 unique values for the appointmentIDs. For last, since each instance corresponds to an appointment register, we will redefine the dataset index to the appointment IDs. "
   ]
  },
  {
   "cell_type": "code",
   "execution_count": 12,
   "metadata": {
    "collapsed": true
   },
   "outputs": [],
   "source": [
    "dataset.set_index('AppointmentID', drop=True, inplace=True)"
   ]
  },
  {
   "cell_type": "markdown",
   "metadata": {},
   "source": [
    "<a id='sec2.2.3'></a>\n",
    "#### 2.2.3. Checking the *Age* attribute:\n",
    "It is not possible to be aged $-1$, as well as older than $100$ years calls some attention. The latter will be analyzed appropriately at the exploratory data analysis section, but agest under zero are definitely a mistake. In this case, we will first check how many instances correspond to this before treat them."
   ]
  },
  {
   "cell_type": "code",
   "execution_count": 13,
   "metadata": {
    "collapsed": false,
    "scrolled": false
   },
   "outputs": [
    {
     "data": {
      "text/html": [
       "<div>\n",
       "<style scoped>\n",
       "    .dataframe tbody tr th:only-of-type {\n",
       "        vertical-align: middle;\n",
       "    }\n",
       "\n",
       "    .dataframe tbody tr th {\n",
       "        vertical-align: top;\n",
       "    }\n",
       "\n",
       "    .dataframe thead th {\n",
       "        text-align: right;\n",
       "    }\n",
       "</style>\n",
       "<table border=\"1\" class=\"dataframe\">\n",
       "  <thead>\n",
       "    <tr style=\"text-align: right;\">\n",
       "      <th></th>\n",
       "      <th>PatientId</th>\n",
       "      <th>Gender</th>\n",
       "      <th>ScheduledDay</th>\n",
       "      <th>AppointmentDay</th>\n",
       "      <th>Age</th>\n",
       "      <th>Neighbourhood</th>\n",
       "      <th>Scholarship</th>\n",
       "      <th>Hipertension</th>\n",
       "      <th>Diabetes</th>\n",
       "      <th>Alcoholism</th>\n",
       "      <th>Handcap</th>\n",
       "      <th>SMS_received</th>\n",
       "      <th>No-show</th>\n",
       "    </tr>\n",
       "    <tr>\n",
       "      <th>AppointmentID</th>\n",
       "      <th></th>\n",
       "      <th></th>\n",
       "      <th></th>\n",
       "      <th></th>\n",
       "      <th></th>\n",
       "      <th></th>\n",
       "      <th></th>\n",
       "      <th></th>\n",
       "      <th></th>\n",
       "      <th></th>\n",
       "      <th></th>\n",
       "      <th></th>\n",
       "      <th></th>\n",
       "    </tr>\n",
       "  </thead>\n",
       "  <tbody>\n",
       "    <tr>\n",
       "      <th>5775010</th>\n",
       "      <td>465943158731293</td>\n",
       "      <td>F</td>\n",
       "      <td>2016-06-06T08:58:13Z</td>\n",
       "      <td>2016-06-06T00:00:00Z</td>\n",
       "      <td>-1</td>\n",
       "      <td>ROMÃO</td>\n",
       "      <td>0</td>\n",
       "      <td>0</td>\n",
       "      <td>0</td>\n",
       "      <td>0</td>\n",
       "      <td>0</td>\n",
       "      <td>0</td>\n",
       "      <td>No</td>\n",
       "    </tr>\n",
       "  </tbody>\n",
       "</table>\n",
       "</div>"
      ],
      "text/plain": [
       "                     PatientId Gender          ScheduledDay  \\\n",
       "AppointmentID                                                 \n",
       "5775010        465943158731293      F  2016-06-06T08:58:13Z   \n",
       "\n",
       "                     AppointmentDay  Age Neighbourhood  Scholarship  \\\n",
       "AppointmentID                                                         \n",
       "5775010        2016-06-06T00:00:00Z   -1         ROMÃO            0   \n",
       "\n",
       "               Hipertension  Diabetes  Alcoholism  Handcap  SMS_received  \\\n",
       "AppointmentID                                                              \n",
       "5775010                   0         0           0        0             0   \n",
       "\n",
       "              No-show  \n",
       "AppointmentID          \n",
       "5775010            No  "
      ]
     },
     "execution_count": 13,
     "metadata": {},
     "output_type": "execute_result"
    }
   ],
   "source": [
    "dataset[dataset['Age']<0]"
   ]
  },
  {
   "cell_type": "markdown",
   "metadata": {},
   "source": [
    "Since there is just one occurrence, it will be removed from the dataset."
   ]
  },
  {
   "cell_type": "code",
   "execution_count": 14,
   "metadata": {
    "collapsed": false
   },
   "outputs": [],
   "source": [
    "dataset.drop('5775010',inplace=True)  #Removing the anomalous instance\n",
    "# dataset.reset_index(drop=True,inplace=True)  #Reseting the dataset index"
   ]
  },
  {
   "cell_type": "markdown",
   "metadata": {},
   "source": [
    "<a id='sec2.2.4'></a>\n",
    "#### 2.2.4. Checking the *Handcap* attribute:\n",
    "In the dataset metadata it is said that the *handcap* attribute should cointain a boolean value. However, as seen above, this attribute assumes values from 0 to 4, probably indicating the handicap number for each patient. In this analysis, we will map to 1 any value higher than 0.  \n",
    "\n",
    "Also, there is a typo in the attribute name (it should be *handicap*) which will be corrected later."
   ]
  },
  {
   "cell_type": "code",
   "execution_count": 15,
   "metadata": {
    "collapsed": true
   },
   "outputs": [],
   "source": [
    "## Converting all 'Handcap' values higher than 0 to 1:\n",
    "dataset['Handcap'] = np.where(dataset['Handcap']>0, 1, 0)"
   ]
  },
  {
   "cell_type": "markdown",
   "metadata": {},
   "source": [
    "<a id='sec2.3'></a>\n",
    "### 2.3. Categorical attributes"
   ]
  },
  {
   "cell_type": "code",
   "execution_count": 16,
   "metadata": {
    "collapsed": false,
    "scrolled": true
   },
   "outputs": [
    {
     "name": "stdout",
     "output_type": "stream",
     "text": [
      "<class 'pandas.core.frame.DataFrame'>\n",
      "Index: 110526 entries, 5642903 to 5629448\n",
      "Data columns (total 13 columns):\n",
      "PatientId         110526 non-null object\n",
      "Gender            110526 non-null object\n",
      "ScheduledDay      110526 non-null object\n",
      "AppointmentDay    110526 non-null object\n",
      "Age               110526 non-null int64\n",
      "Neighbourhood     110526 non-null object\n",
      "Scholarship       110526 non-null int64\n",
      "Hipertension      110526 non-null int64\n",
      "Diabetes          110526 non-null int64\n",
      "Alcoholism        110526 non-null int64\n",
      "Handcap           110526 non-null int64\n",
      "SMS_received      110526 non-null int64\n",
      "No-show           110526 non-null object\n",
      "dtypes: int64(7), object(6)\n",
      "memory usage: 11.8+ MB\n"
     ]
    }
   ],
   "source": [
    "## Getting information of the categorical attributes:\n",
    "dataset.info()"
   ]
  },
  {
   "cell_type": "markdown",
   "metadata": {},
   "source": [
    "<a id='sec2.3.1'></a>\n",
    "####  2.3.1. *Gender* attribute:\n",
    "Only two values are expected from this attribute. In order to check its consistency, the sum for both **M**ale and **F**emale classes must equal the total number of instances."
   ]
  },
  {
   "cell_type": "code",
   "execution_count": 17,
   "metadata": {
    "collapsed": false
   },
   "outputs": [
    {
     "data": {
      "text/plain": [
       "F    71839\n",
       "M    38687\n",
       "Name: Gender, dtype: int64"
      ]
     },
     "execution_count": 17,
     "metadata": {},
     "output_type": "execute_result"
    }
   ],
   "source": [
    "## Counting gender classes\n",
    "dataset.Gender.value_counts()"
   ]
  },
  {
   "cell_type": "markdown",
   "metadata": {},
   "source": [
    "Although the attribute data are consistent (the total sums 110,526 instances), they are unbalanced. Since each instance represents the appointment and not the patient, this fact can be treated in a further analysis."
   ]
  },
  {
   "cell_type": "markdown",
   "metadata": {},
   "source": [
    "<a id='sec2.3.2'></a>\n",
    "####  2.3.2. Schedule and appointment date:\n",
    "These two attributes are related to when the patient scheduled *(ScheduledDay)* and to which date he scheduled the appointment *(AppointmentDay)*. It is effort to notice, though, that the *AppointmentDay* has just the date information, while the *ScheduledDay* has both date and time information.  \n",
    "In this section we will parse the data in order to find out how many days have passed between the schedule date and the appointment date. To get to it, we could use the python native datetime library. However, we choose to use the pandas methods for datetime processing <a href=\"#[4]\">[4]</a>."
   ]
  },
  {
   "cell_type": "code",
   "execution_count": 18,
   "metadata": {
    "collapsed": false,
    "scrolled": false
   },
   "outputs": [
    {
     "data": {
      "text/html": [
       "<div>\n",
       "<style scoped>\n",
       "    .dataframe tbody tr th:only-of-type {\n",
       "        vertical-align: middle;\n",
       "    }\n",
       "\n",
       "    .dataframe tbody tr th {\n",
       "        vertical-align: top;\n",
       "    }\n",
       "\n",
       "    .dataframe thead th {\n",
       "        text-align: right;\n",
       "    }\n",
       "</style>\n",
       "<table border=\"1\" class=\"dataframe\">\n",
       "  <thead>\n",
       "    <tr style=\"text-align: right;\">\n",
       "      <th></th>\n",
       "      <th>PatientId</th>\n",
       "      <th>Gender</th>\n",
       "      <th>ScheduledDay</th>\n",
       "      <th>AppointmentDay</th>\n",
       "      <th>Age</th>\n",
       "      <th>Neighbourhood</th>\n",
       "      <th>Scholarship</th>\n",
       "      <th>Hipertension</th>\n",
       "      <th>Diabetes</th>\n",
       "      <th>Alcoholism</th>\n",
       "      <th>Handcap</th>\n",
       "      <th>SMS_received</th>\n",
       "      <th>No-show</th>\n",
       "    </tr>\n",
       "    <tr>\n",
       "      <th>AppointmentID</th>\n",
       "      <th></th>\n",
       "      <th></th>\n",
       "      <th></th>\n",
       "      <th></th>\n",
       "      <th></th>\n",
       "      <th></th>\n",
       "      <th></th>\n",
       "      <th></th>\n",
       "      <th></th>\n",
       "      <th></th>\n",
       "      <th></th>\n",
       "      <th></th>\n",
       "      <th></th>\n",
       "    </tr>\n",
       "  </thead>\n",
       "  <tbody>\n",
       "    <tr>\n",
       "      <th>5642903</th>\n",
       "      <td>29872499824296</td>\n",
       "      <td>F</td>\n",
       "      <td>2016-04-29T18:38:08Z</td>\n",
       "      <td>2016-04-29T00:00:00Z</td>\n",
       "      <td>62</td>\n",
       "      <td>JARDIM DA PENHA</td>\n",
       "      <td>0</td>\n",
       "      <td>1</td>\n",
       "      <td>0</td>\n",
       "      <td>0</td>\n",
       "      <td>0</td>\n",
       "      <td>0</td>\n",
       "      <td>No</td>\n",
       "    </tr>\n",
       "    <tr>\n",
       "      <th>5642503</th>\n",
       "      <td>558997776694438</td>\n",
       "      <td>M</td>\n",
       "      <td>2016-04-29T16:08:27Z</td>\n",
       "      <td>2016-04-29T00:00:00Z</td>\n",
       "      <td>56</td>\n",
       "      <td>JARDIM DA PENHA</td>\n",
       "      <td>0</td>\n",
       "      <td>0</td>\n",
       "      <td>0</td>\n",
       "      <td>0</td>\n",
       "      <td>0</td>\n",
       "      <td>0</td>\n",
       "      <td>No</td>\n",
       "    </tr>\n",
       "  </tbody>\n",
       "</table>\n",
       "</div>"
      ],
      "text/plain": [
       "                     PatientId Gender          ScheduledDay  \\\n",
       "AppointmentID                                                 \n",
       "5642903         29872499824296      F  2016-04-29T18:38:08Z   \n",
       "5642503        558997776694438      M  2016-04-29T16:08:27Z   \n",
       "\n",
       "                     AppointmentDay  Age    Neighbourhood  Scholarship  \\\n",
       "AppointmentID                                                            \n",
       "5642903        2016-04-29T00:00:00Z   62  JARDIM DA PENHA            0   \n",
       "5642503        2016-04-29T00:00:00Z   56  JARDIM DA PENHA            0   \n",
       "\n",
       "               Hipertension  Diabetes  Alcoholism  Handcap  SMS_received  \\\n",
       "AppointmentID                                                              \n",
       "5642903                   1         0           0        0             0   \n",
       "5642503                   0         0           0        0             0   \n",
       "\n",
       "              No-show  \n",
       "AppointmentID          \n",
       "5642903            No  \n",
       "5642503            No  "
      ]
     },
     "execution_count": 18,
     "metadata": {},
     "output_type": "execute_result"
    }
   ],
   "source": [
    "## Reading again the dataset first lines to get acquainted with its content:\n",
    "dataset.head(2)"
   ]
  },
  {
   "cell_type": "markdown",
   "metadata": {},
   "source": [
    "##### Parsing the date and time information:"
   ]
  },
  {
   "cell_type": "code",
   "execution_count": 19,
   "metadata": {
    "collapsed": false,
    "scrolled": true
   },
   "outputs": [],
   "source": [
    "## Converting the date information in string to datetime type:\n",
    "dataset['ScheduledDay'] = pd.to_datetime(dataset.ScheduledDay)\n",
    "dataset['AppointmentDay'] = pd.to_datetime(dataset.AppointmentDay)\n",
    "## Creating a new column (attribute) containing just the scheduling time:\n",
    "dataset['ScheduleTime'] = dataset.ScheduledDay.dt.time\n",
    "## Normalizing the \"Day\" columns to keep just the date information (dropping the time info)\n",
    "dataset['ScheduledDay'] = dataset.ScheduledDay.dt.normalize()"
   ]
  },
  {
   "cell_type": "markdown",
   "metadata": {},
   "source": [
    "<a id='sec2.3.3'></a>\n",
    "#### 2.3.3. Waiting days"
   ]
  },
  {
   "cell_type": "markdown",
   "metadata": {},
   "source": [
    "A relevant information for this analysis is the waiting time, in days, between the scheduling date and the appointment date. To get to this, we will first have to parse the data through the following steps:*\n",
    "* Create a \"Waiting Days\" column;\n",
    "* Categorize these values in the context of this analysis;\n",
    "* Insert the correspondent categories in the working dataset."
   ]
  },
  {
   "cell_type": "code",
   "execution_count": 20,
   "metadata": {
    "collapsed": true
   },
   "outputs": [],
   "source": [
    "## Since both 'AppointmentDay' and 'ScheduledDay' are pandas.Timestamp type, this operation can be done directly:\n",
    "dataset['WaitingDays'] = dataset['AppointmentDay'] - dataset['ScheduledDay']"
   ]
  },
  {
   "cell_type": "markdown",
   "metadata": {},
   "source": [
    "At this point we must **check the data consistency** in relation to the scheduling and appointment times: if the new *WaitingDays* attribute has negative values, this indicates that the scheduling was performed after the appointment and such record should therefore be handled.  \n",
    "\n",
    "To help further analysis, a function will be created to return a *time delta* type from a given number of days. "
   ]
  },
  {
   "cell_type": "code",
   "execution_count": 21,
   "metadata": {
    "collapsed": true
   },
   "outputs": [],
   "source": [
    "def waiting_days(days):\n",
    "    '''Auxiliary function to parse a date information from string type to python datetime object.\n",
    "    Syntax: waiting_days(days), where:\n",
    "        days = int type with the number of days considered.\n",
    "    Return: a correspondent pandas._libs.tslib.Timedelta data type.\n",
    "    '''\n",
    "    arg = str(days) + ' days'\n",
    "    return pd.tslib.Timedelta(arg)"
   ]
  },
  {
   "cell_type": "code",
   "execution_count": 22,
   "metadata": {
    "collapsed": false
   },
   "outputs": [
    {
     "name": "stderr",
     "output_type": "stream",
     "text": [
      "/home/tbnsilveira/anaconda3/envs/analytics3/lib/python3.6/site-packages/ipykernel/__main__.py:8: FutureWarning: pandas.tslib is deprecated and will be removed in a future version.\n",
      "You can access Timedelta as pandas.Timedelta\n"
     ]
    },
    {
     "data": {
      "text/html": [
       "<div>\n",
       "<style scoped>\n",
       "    .dataframe tbody tr th:only-of-type {\n",
       "        vertical-align: middle;\n",
       "    }\n",
       "\n",
       "    .dataframe tbody tr th {\n",
       "        vertical-align: top;\n",
       "    }\n",
       "\n",
       "    .dataframe thead th {\n",
       "        text-align: right;\n",
       "    }\n",
       "</style>\n",
       "<table border=\"1\" class=\"dataframe\">\n",
       "  <thead>\n",
       "    <tr style=\"text-align: right;\">\n",
       "      <th></th>\n",
       "      <th>PatientId</th>\n",
       "      <th>Gender</th>\n",
       "      <th>ScheduledDay</th>\n",
       "      <th>AppointmentDay</th>\n",
       "      <th>Age</th>\n",
       "      <th>Neighbourhood</th>\n",
       "      <th>Scholarship</th>\n",
       "      <th>Hipertension</th>\n",
       "      <th>Diabetes</th>\n",
       "      <th>Alcoholism</th>\n",
       "      <th>Handcap</th>\n",
       "      <th>SMS_received</th>\n",
       "      <th>No-show</th>\n",
       "      <th>ScheduleTime</th>\n",
       "      <th>WaitingDays</th>\n",
       "    </tr>\n",
       "    <tr>\n",
       "      <th>AppointmentID</th>\n",
       "      <th></th>\n",
       "      <th></th>\n",
       "      <th></th>\n",
       "      <th></th>\n",
       "      <th></th>\n",
       "      <th></th>\n",
       "      <th></th>\n",
       "      <th></th>\n",
       "      <th></th>\n",
       "      <th></th>\n",
       "      <th></th>\n",
       "      <th></th>\n",
       "      <th></th>\n",
       "      <th></th>\n",
       "      <th></th>\n",
       "    </tr>\n",
       "  </thead>\n",
       "  <tbody>\n",
       "    <tr>\n",
       "      <th>5679978</th>\n",
       "      <td>7839272661752</td>\n",
       "      <td>M</td>\n",
       "      <td>2016-05-10</td>\n",
       "      <td>2016-05-09</td>\n",
       "      <td>38</td>\n",
       "      <td>RESISTÊNCIA</td>\n",
       "      <td>0</td>\n",
       "      <td>0</td>\n",
       "      <td>0</td>\n",
       "      <td>0</td>\n",
       "      <td>1</td>\n",
       "      <td>0</td>\n",
       "      <td>Yes</td>\n",
       "      <td>10:51:53</td>\n",
       "      <td>-1 days</td>\n",
       "    </tr>\n",
       "    <tr>\n",
       "      <th>5715660</th>\n",
       "      <td>7896293967868</td>\n",
       "      <td>F</td>\n",
       "      <td>2016-05-18</td>\n",
       "      <td>2016-05-17</td>\n",
       "      <td>19</td>\n",
       "      <td>SANTO ANTÔNIO</td>\n",
       "      <td>0</td>\n",
       "      <td>0</td>\n",
       "      <td>0</td>\n",
       "      <td>0</td>\n",
       "      <td>1</td>\n",
       "      <td>0</td>\n",
       "      <td>Yes</td>\n",
       "      <td>14:50:41</td>\n",
       "      <td>-1 days</td>\n",
       "    </tr>\n",
       "    <tr>\n",
       "      <th>5664962</th>\n",
       "      <td>24252258389979</td>\n",
       "      <td>F</td>\n",
       "      <td>2016-05-05</td>\n",
       "      <td>2016-05-04</td>\n",
       "      <td>22</td>\n",
       "      <td>CONSOLAÇÃO</td>\n",
       "      <td>0</td>\n",
       "      <td>0</td>\n",
       "      <td>0</td>\n",
       "      <td>0</td>\n",
       "      <td>0</td>\n",
       "      <td>0</td>\n",
       "      <td>Yes</td>\n",
       "      <td>13:43:58</td>\n",
       "      <td>-1 days</td>\n",
       "    </tr>\n",
       "    <tr>\n",
       "      <th>5686628</th>\n",
       "      <td>998231581612122</td>\n",
       "      <td>F</td>\n",
       "      <td>2016-05-11</td>\n",
       "      <td>2016-05-05</td>\n",
       "      <td>81</td>\n",
       "      <td>SANTO ANTÔNIO</td>\n",
       "      <td>0</td>\n",
       "      <td>0</td>\n",
       "      <td>0</td>\n",
       "      <td>0</td>\n",
       "      <td>0</td>\n",
       "      <td>0</td>\n",
       "      <td>Yes</td>\n",
       "      <td>13:49:20</td>\n",
       "      <td>-6 days</td>\n",
       "    </tr>\n",
       "    <tr>\n",
       "      <th>5655637</th>\n",
       "      <td>3787481966821</td>\n",
       "      <td>M</td>\n",
       "      <td>2016-05-04</td>\n",
       "      <td>2016-05-03</td>\n",
       "      <td>7</td>\n",
       "      <td>TABUAZEIRO</td>\n",
       "      <td>0</td>\n",
       "      <td>0</td>\n",
       "      <td>0</td>\n",
       "      <td>0</td>\n",
       "      <td>0</td>\n",
       "      <td>0</td>\n",
       "      <td>Yes</td>\n",
       "      <td>06:50:57</td>\n",
       "      <td>-1 days</td>\n",
       "    </tr>\n",
       "  </tbody>\n",
       "</table>\n",
       "</div>"
      ],
      "text/plain": [
       "                     PatientId Gender ScheduledDay AppointmentDay  Age  \\\n",
       "AppointmentID                                                            \n",
       "5679978          7839272661752      M   2016-05-10     2016-05-09   38   \n",
       "5715660          7896293967868      F   2016-05-18     2016-05-17   19   \n",
       "5664962         24252258389979      F   2016-05-05     2016-05-04   22   \n",
       "5686628        998231581612122      F   2016-05-11     2016-05-05   81   \n",
       "5655637          3787481966821      M   2016-05-04     2016-05-03    7   \n",
       "\n",
       "               Neighbourhood  Scholarship  Hipertension  Diabetes  Alcoholism  \\\n",
       "AppointmentID                                                                   \n",
       "5679978          RESISTÊNCIA            0             0         0           0   \n",
       "5715660        SANTO ANTÔNIO            0             0         0           0   \n",
       "5664962           CONSOLAÇÃO            0             0         0           0   \n",
       "5686628        SANTO ANTÔNIO            0             0         0           0   \n",
       "5655637           TABUAZEIRO            0             0         0           0   \n",
       "\n",
       "               Handcap  SMS_received No-show ScheduleTime WaitingDays  \n",
       "AppointmentID                                                          \n",
       "5679978              1             0     Yes     10:51:53     -1 days  \n",
       "5715660              1             0     Yes     14:50:41     -1 days  \n",
       "5664962              0             0     Yes     13:43:58     -1 days  \n",
       "5686628              0             0     Yes     13:49:20     -6 days  \n",
       "5655637              0             0     Yes     06:50:57     -1 days  "
      ]
     },
     "execution_count": 22,
     "metadata": {},
     "output_type": "execute_result"
    }
   ],
   "source": [
    "## Checking which instances were scheduled after the appointment:\n",
    "dataset[dataset['WaitingDays'] < waiting_days(0)]"
   ]
  },
  {
   "cell_type": "markdown",
   "metadata": {},
   "source": [
    "Since few inconsistent instances have been found, they will be removed:"
   ]
  },
  {
   "cell_type": "code",
   "execution_count": 23,
   "metadata": {
    "collapsed": false
   },
   "outputs": [],
   "source": [
    "## Recording the inconsistent instances index \n",
    "dropIx = dataset[dataset['WaitingDays'] < waiting_days(0)].index\n",
    "## Dropping these instances from the dataset:\n",
    "dataset.drop(dropIx, inplace=True)"
   ]
  },
  {
   "cell_type": "markdown",
   "metadata": {},
   "source": [
    "The latest operations return a *pandas..Timedelta* type. However, in order to analyze this data, we need first to get just the number of days using a native method from pandas library:"
   ]
  },
  {
   "cell_type": "code",
   "execution_count": 24,
   "metadata": {
    "collapsed": false
   },
   "outputs": [],
   "source": [
    "dataset['WaitingDays'] = dataset.WaitingDays.dt.days  #Extract just the day value from the full \"timedelta\" object."
   ]
  },
  {
   "cell_type": "markdown",
   "metadata": {},
   "source": [
    "Now, making use of another dataframe, these data will be parsed appropriately making use of the *groupBy* method, which returns a *pandas.groupby object* with the selected attributes as index:"
   ]
  },
  {
   "cell_type": "code",
   "execution_count": 25,
   "metadata": {
    "collapsed": false
   },
   "outputs": [],
   "source": [
    "## Grouping by the 'WaitingDays' and 'No_show' values:\n",
    "waitingdays = dataset.groupby(by=['WaitingDays','No-show'])"
   ]
  },
  {
   "cell_type": "markdown",
   "metadata": {},
   "source": [
    "Since we are interested in the number of instances grouped either by 'WaitingDays' as by 'No_show' attributes, we will then use the *count()* method. To avoid redundancy we choose the 'PatientId' as reference, but it could be applied in any other attribute. We make use of the *unstack()* method to transform the hierarchical index as dataframe columns again."
   ]
  },
  {
   "cell_type": "code",
   "execution_count": 26,
   "metadata": {
    "collapsed": false
   },
   "outputs": [],
   "source": [
    "waitingdays = waitingdays.count()['PatientId'].unstack()"
   ]
  },
  {
   "cell_type": "markdown",
   "metadata": {},
   "source": [
    "Since for a given number of waiting days there is no correspondent values for *No_show: Yes* or *No_show: No*, the last operation will result in a *NumPy.NaN* value. However, in order to be able to plot these data, we will replace those NaN for 0. We will also reset the index, moving its values to a new dataframe column:"
   ]
  },
  {
   "cell_type": "code",
   "execution_count": 27,
   "metadata": {
    "collapsed": false,
    "scrolled": false
   },
   "outputs": [
    {
     "name": "stdout",
     "output_type": "stream",
     "text": [
      "<class 'pandas.core.frame.DataFrame'>\n",
      "RangeIndex: 129 entries, 0 to 128\n",
      "Data columns (total 3 columns):\n",
      "WaitingDays    129 non-null int64\n",
      "No             129 non-null float64\n",
      "Yes            129 non-null float64\n",
      "dtypes: float64(2), int64(1)\n",
      "memory usage: 3.1 KB\n"
     ]
    }
   ],
   "source": [
    "waitingdays.fillna(value=0, inplace=True)\n",
    "waitingdays.reset_index(drop=False, inplace=True)\n",
    "waitingdays.info()"
   ]
  },
  {
   "cell_type": "markdown",
   "metadata": {},
   "source": [
    "The days some patients have to wait to be attended varies from 0 to 179. In order to enable a data analysis, we will categorize them as follow, using the *cut()* method as explained in <a href=\"#[5]\">[5]</a>:\n",
    "\n",
    "Waiting time   | Number of days\n",
    "--- | ---\n",
    "Same day | 0\n",
    "Short | 1 - 3\n",
    "Week | 4 - 7\n",
    "Fortnight | 8 - 15\n",
    "Month | 16 - 30\n",
    "Quarter | 31 - 90\n",
    "Semester | 91 - 180\n",
    "Very long | > 180"
   ]
  },
  {
   "cell_type": "code",
   "execution_count": 28,
   "metadata": {
    "collapsed": true
   },
   "outputs": [],
   "source": [
    "## Defining the categories label:\n",
    "categories = pd.Series(['Same day: 0', 'Short: 1-3', 'Week: 4-7', 'Fortnight: 8-15', 'Month: 16-30', 'Quarter: 31-90', 'Semester: 91-180', 'Very long: >180'])"
   ]
  },
  {
   "cell_type": "code",
   "execution_count": 29,
   "metadata": {
    "collapsed": false
   },
   "outputs": [],
   "source": [
    "## Applying these categories both to the auxiliary and to the working datasets:\n",
    "waitingdays['WaitingDays'] = pd.cut(waitingdays.WaitingDays, bins = [-1,0,3,7,15,30,90,180, 10000], labels=categories)\n",
    "dataset['WaitingCategories'] = pd.cut(dataset.WaitingDays, bins = [-1,0,3,7,15,30,90,180, 10000], labels=categories)"
   ]
  },
  {
   "cell_type": "markdown",
   "metadata": {},
   "source": [
    "The categorized waiting days information was updated in the main dataset. However, it would be useful to parse the auxiliary dataset (*waitingdays*) in order to find out how the no-showing rate is distributed among the waiting categories."
   ]
  },
  {
   "cell_type": "code",
   "execution_count": 30,
   "metadata": {
    "collapsed": false
   },
   "outputs": [],
   "source": [
    "## Grouping the dataset by the waiting categories, returning the sum of all instances:\n",
    "waitingdays = waitingdays.groupby('WaitingDays').sum()\n",
    "## Creating a new attribute, \"No-showing rate\", relating how many patients did not show up against those who did.\n",
    "waitingdays['No-showing rate'] = (waitingdays.Yes / waitingdays.No)*100"
   ]
  },
  {
   "cell_type": "code",
   "execution_count": 31,
   "metadata": {
    "collapsed": false,
    "scrolled": true
   },
   "outputs": [
    {
     "data": {
      "text/html": [
       "<div>\n",
       "<style scoped>\n",
       "    .dataframe tbody tr th:only-of-type {\n",
       "        vertical-align: middle;\n",
       "    }\n",
       "\n",
       "    .dataframe tbody tr th {\n",
       "        vertical-align: top;\n",
       "    }\n",
       "\n",
       "    .dataframe thead th {\n",
       "        text-align: right;\n",
       "    }\n",
       "</style>\n",
       "<table border=\"1\" class=\"dataframe\">\n",
       "  <thead>\n",
       "    <tr style=\"text-align: right;\">\n",
       "      <th>No-show</th>\n",
       "      <th>No</th>\n",
       "      <th>Yes</th>\n",
       "      <th>No-showing rate</th>\n",
       "    </tr>\n",
       "    <tr>\n",
       "      <th>WaitingDays</th>\n",
       "      <th></th>\n",
       "      <th></th>\n",
       "      <th></th>\n",
       "    </tr>\n",
       "  </thead>\n",
       "  <tbody>\n",
       "    <tr>\n",
       "      <th>Same day: 0</th>\n",
       "      <td>36770.0</td>\n",
       "      <td>1792.0</td>\n",
       "      <td>4.873538</td>\n",
       "    </tr>\n",
       "    <tr>\n",
       "      <th>Short: 1-3</th>\n",
       "      <td>11316.0</td>\n",
       "      <td>3359.0</td>\n",
       "      <td>29.683634</td>\n",
       "    </tr>\n",
       "    <tr>\n",
       "      <th>Week: 4-7</th>\n",
       "      <td>13097.0</td>\n",
       "      <td>4413.0</td>\n",
       "      <td>33.694739</td>\n",
       "    </tr>\n",
       "    <tr>\n",
       "      <th>Fortnight: 8-15</th>\n",
       "      <td>9362.0</td>\n",
       "      <td>4166.0</td>\n",
       "      <td>44.499039</td>\n",
       "    </tr>\n",
       "    <tr>\n",
       "      <th>Month: 16-30</th>\n",
       "      <td>10709.0</td>\n",
       "      <td>5159.0</td>\n",
       "      <td>48.174433</td>\n",
       "    </tr>\n",
       "    <tr>\n",
       "      <th>Quarter: 31-90</th>\n",
       "      <td>6792.0</td>\n",
       "      <td>3369.0</td>\n",
       "      <td>49.602473</td>\n",
       "    </tr>\n",
       "    <tr>\n",
       "      <th>Semester: 91-180</th>\n",
       "      <td>161.0</td>\n",
       "      <td>56.0</td>\n",
       "      <td>34.782609</td>\n",
       "    </tr>\n",
       "    <tr>\n",
       "      <th>Very long: &gt;180</th>\n",
       "      <td>0.0</td>\n",
       "      <td>0.0</td>\n",
       "      <td>NaN</td>\n",
       "    </tr>\n",
       "  </tbody>\n",
       "</table>\n",
       "</div>"
      ],
      "text/plain": [
       "No-show                No     Yes  No-showing rate\n",
       "WaitingDays                                       \n",
       "Same day: 0       36770.0  1792.0         4.873538\n",
       "Short: 1-3        11316.0  3359.0        29.683634\n",
       "Week: 4-7         13097.0  4413.0        33.694739\n",
       "Fortnight: 8-15    9362.0  4166.0        44.499039\n",
       "Month: 16-30      10709.0  5159.0        48.174433\n",
       "Quarter: 31-90     6792.0  3369.0        49.602473\n",
       "Semester: 91-180    161.0    56.0        34.782609\n",
       "Very long: >180       0.0     0.0              NaN"
      ]
     },
     "execution_count": 31,
     "metadata": {},
     "output_type": "execute_result"
    }
   ],
   "source": [
    "## Viewing the resulting dataset:\n",
    "waitingdays"
   ]
  },
  {
   "cell_type": "markdown",
   "metadata": {},
   "source": [
    "<a id='sec2.3.4'></a>\n",
    "#### 2.3.4. *Neighborhood* names\n",
    "Accordingly to the dataset description, this attributes refers to the neighborhoods the health units are located in the city of *Vitória*, in the State of *Espírito Santo*, Brazil."
   ]
  },
  {
   "cell_type": "code",
   "execution_count": 32,
   "metadata": {
    "collapsed": false
   },
   "outputs": [
    {
     "data": {
      "text/plain": [
       "array(['AEROPORTO', 'ANDORINHAS', 'ANTÔNIO HONÓRIO', 'ARIOVALDO FAVALESSA',\n",
       "       'BARRO VERMELHO', 'BELA VISTA', 'BENTO FERREIRA', 'BOA VISTA',\n",
       "       'BONFIM', 'CARATOÍRA', 'CENTRO', 'COMDUSA', 'CONQUISTA',\n",
       "       'CONSOLAÇÃO', 'CRUZAMENTO', 'DA PENHA', 'DE LOURDES', 'DO CABRAL',\n",
       "       'DO MOSCOSO', 'DO QUADRO', 'ENSEADA DO SUÁ', 'ESTRELINHA',\n",
       "       'FONTE GRANDE', 'FORTE SÃO JOÃO', 'FRADINHOS', 'GOIABEIRAS',\n",
       "       'GRANDE VITÓRIA', 'GURIGICA', 'HORTO', 'ILHA DAS CAIEIRAS',\n",
       "       'ILHA DE SANTA MARIA', 'ILHA DO BOI', 'ILHA DO FRADE',\n",
       "       'ILHA DO PRÍNCIPE', 'ILHAS OCEÂNICAS DE TRINDADE', 'INHANGUETÁ',\n",
       "       'ITARARÉ', 'JABOUR', 'JARDIM CAMBURI', 'JARDIM DA PENHA',\n",
       "       'JESUS DE NAZARETH', 'JOANA D´ARC', 'JUCUTUQUARA', 'MARIA ORTIZ',\n",
       "       'MARUÍPE', 'MATA DA PRAIA', 'MONTE BELO', 'MORADA DE CAMBURI',\n",
       "       'MÁRIO CYPRESTE', 'NAZARETH', 'NOVA PALESTINA', 'PARQUE INDUSTRIAL',\n",
       "       'PARQUE MOSCOSO', 'PIEDADE', 'PONTAL DE CAMBURI', 'PRAIA DO CANTO',\n",
       "       'PRAIA DO SUÁ', 'REDENÇÃO', 'REPÚBLICA', 'RESISTÊNCIA', 'ROMÃO',\n",
       "       'SANTA CECÍLIA', 'SANTA CLARA', 'SANTA HELENA', 'SANTA LUÍZA',\n",
       "       'SANTA LÚCIA', 'SANTA MARTHA', 'SANTA TEREZA', 'SANTO ANDRÉ',\n",
       "       'SANTO ANTÔNIO', 'SANTOS DUMONT', 'SANTOS REIS', 'SEGURANÇA DO LAR',\n",
       "       'SOLON BORGES', 'SÃO BENEDITO', 'SÃO CRISTÓVÃO', 'SÃO JOSÉ',\n",
       "       'SÃO PEDRO', 'TABUAZEIRO', 'UNIVERSITÁRIO', 'VILA RUBIM'], dtype=object)"
      ]
     },
     "execution_count": 32,
     "metadata": {},
     "output_type": "execute_result"
    }
   ],
   "source": [
    "## Checking the unique neighborhood names:\n",
    "neighborhood = dataset.Neighbourhood.unique()\n",
    "neighborhood.sort()  #Sorting the names in alphabetical order\n",
    "neighborhood  #Showing the results"
   ]
  },
  {
   "cell_type": "markdown",
   "metadata": {},
   "source": [
    "Considering \"ILHAS OCEÂNICAS DE TRINDADE\" is not an official neighborhood of *Vitória* <a href=\"#[8]\">[8]</a>, the two instances related to them will be dropped off. "
   ]
  },
  {
   "cell_type": "code",
   "execution_count": 33,
   "metadata": {
    "collapsed": false
   },
   "outputs": [],
   "source": [
    "dataset.drop(dataset[dataset['Neighbourhood'] == 'ILHAS OCEÂNICAS DE TRINDADE'].index, inplace=True)"
   ]
  },
  {
   "cell_type": "code",
   "execution_count": 34,
   "metadata": {
    "collapsed": true
   },
   "outputs": [],
   "source": [
    "## Counting again the neighborhood number:\n",
    "neighborhood = dataset.Neighbourhood.unique()\n",
    "neighborhood.sort()"
   ]
  },
  {
   "cell_type": "code",
   "execution_count": 35,
   "metadata": {
    "collapsed": false
   },
   "outputs": [
    {
     "data": {
      "text/plain": [
       "80"
      ]
     },
     "execution_count": 35,
     "metadata": {},
     "output_type": "execute_result"
    }
   ],
   "source": [
    "## Counting neighborhood:\n",
    "len(neighborhood)"
   ]
  },
  {
   "cell_type": "code",
   "execution_count": 36,
   "metadata": {
    "collapsed": false,
    "scrolled": false
   },
   "outputs": [
    {
     "name": "stderr",
     "output_type": "stream",
     "text": [
      "/home/tbnsilveira/anaconda3/envs/analytics3/lib/python3.6/site-packages/seaborn/categorical.py:1428: FutureWarning: remove_na is deprecated and is a private function. Do not use.\n",
      "  stat_data = remove_na(group_data)\n"
     ]
    },
    {
     "data": {
      "image/png": "[encoded data removed]",
      "text/plain": [
       "<matplotlib.figure.Figure at 0x7f4b2e497860>"
      ]
     },
     "metadata": {},
     "output_type": "display_data"
    }
   ],
   "source": [
    "## Plotting an histogram with the neighborhoods sorted alphabetically. \n",
    "plt.figure(figsize=(16,6))\n",
    "ax = sns.countplot(x='Neighbourhood', data=dataset, order=neighborhood)\n",
    "ax.set_xticklabels(ax.get_xticklabels(), rotation=40, ha=\"right\", fontsize=7)\n",
    "plt.show()"
   ]
  },
  {
   "cell_type": "markdown",
   "metadata": {},
   "source": [
    "From the graph above, it can be noticed there are 81 different neighborhood being considered, where 8 of them register more than 3k appointments. However, in the data description (see <a href=\"#intro\">Section 1</a></li>) it is said there are 45 health units, which leads us to consider the neighborhood as where the patient lives.  \n",
    "\n",
    "Due to this, EDA involving the neighborhood must be carried out in a careful manner."
   ]
  },
  {
   "cell_type": "markdown",
   "metadata": {},
   "source": [
    "<a id='sec2.3.5'></a>\n",
    "####  2.3.5. *No-show* class:\n",
    "We want to check wheter the class values are consistent with the expected values for this database (true or false)."
   ]
  },
  {
   "cell_type": "code",
   "execution_count": 37,
   "metadata": {
    "collapsed": false
   },
   "outputs": [
    {
     "data": {
      "text/plain": [
       "No     88207\n",
       "Yes    22312\n",
       "Name: No-show, dtype: int64"
      ]
     },
     "execution_count": 37,
     "metadata": {},
     "output_type": "execute_result"
    }
   ],
   "source": [
    "## Counting gender classes\n",
    "dataset['No-show'].value_counts()"
   ]
  },
  {
   "cell_type": "markdown",
   "metadata": {},
   "source": [
    "The total sum is consistent with the dataset length. However, as it was also noticed for the *Gender* attribute, this data are unbalanced, i.e. there are more instances pertaining to one class than other. Since this attribute represents our dataset categorization, this fact becomes more relevant for the further analysis. In other words, although we can get some useful insights from this data, we must be careful when applying this dataset to training machine learning algorithms and so on. "
   ]
  },
  {
   "cell_type": "markdown",
   "metadata": {},
   "source": [
    "<a id='sec2.4'></a>\n",
    "### 2.4. Data wrangling overview"
   ]
  },
  {
   "cell_type": "markdown",
   "metadata": {},
   "source": [
    "Just in order to help its reading, the dataset attributes will be rearranged to put all the date and time information together, as well as correcting the typos in the attribute names:"
   ]
  },
  {
   "cell_type": "code",
   "execution_count": 38,
   "metadata": {
    "collapsed": false,
    "scrolled": true
   },
   "outputs": [
    {
     "data": {
      "text/plain": [
       "Index(['PatientId', 'Gender', 'ScheduledDay', 'AppointmentDay', 'Age',\n",
       "       'Neighbourhood', 'Scholarship', 'Hipertension', 'Diabetes',\n",
       "       'Alcoholism', 'Handcap', 'SMS_received', 'No-show', 'ScheduleTime',\n",
       "       'WaitingDays', 'WaitingCategories'],\n",
       "      dtype='object')"
      ]
     },
     "execution_count": 38,
     "metadata": {},
     "output_type": "execute_result"
    }
   ],
   "source": [
    "## Reading the dataset attributes (columns):\n",
    "dataset.columns"
   ]
  },
  {
   "cell_type": "code",
   "execution_count": 39,
   "metadata": {
    "collapsed": false
   },
   "outputs": [],
   "source": [
    "dataset = dataset.reindex(columns=['PatientId', 'Gender', 'Age', 'Scholarship', 'Hipertension', 'Diabetes',\n",
    "       'Alcoholism', 'Handcap', 'ScheduledDay', 'ScheduleTime', 'AppointmentDay', 'WaitingDays', 'WaitingCategories', 'SMS_received', \n",
    "       'Neighbourhood', 'No-show'])"
   ]
  },
  {
   "cell_type": "code",
   "execution_count": 40,
   "metadata": {
    "collapsed": false,
    "scrolled": true
   },
   "outputs": [
    {
     "data": {
      "text/plain": [
       "Index(['PatientId', 'Gender', 'Age', 'Scholarship', 'Hipertension', 'Diabetes',\n",
       "       'Alcoholism', 'Handcap', 'ScheduledDay', 'ScheduleTime',\n",
       "       'AppointmentDay', 'WaitingDays', 'WaitingCategories', 'SMS_received',\n",
       "       'Neighbourhood', 'No-show'],\n",
       "      dtype='object')"
      ]
     },
     "execution_count": 40,
     "metadata": {},
     "output_type": "execute_result"
    }
   ],
   "source": [
    "## Reading again the current attribute labels:\n",
    "dataset.columns"
   ]
  },
  {
   "cell_type": "code",
   "execution_count": 41,
   "metadata": {
    "collapsed": false
   },
   "outputs": [],
   "source": [
    "## Renaming \"No-show\"to \"No_show\"; \"Handcap\" to \"Handicap\"; and \"ScheduleTime\" to \"ScheduledTime\":\n",
    "dataset.columns = ['PatientId', 'Gender', 'Age', 'Scholarship', 'Hipertension', 'Diabetes',\n",
    "       'Alcoholism', 'Handicap', 'ScheduledDay', 'ScheduledTime', 'AppointmentDay', 'WaitingDays', \n",
    "       'WaitingCategories', 'SMS_received', 'Neighbourhood', 'No_show']"
   ]
  },
  {
   "cell_type": "markdown",
   "metadata": {},
   "source": [
    "We then conclude this data wrangling step by showing an overview of the pre-processed data, i.e. the data after the wrangling and cleansing process. "
   ]
  },
  {
   "cell_type": "code",
   "execution_count": 42,
   "metadata": {
    "collapsed": false
   },
   "outputs": [
    {
     "name": "stdout",
     "output_type": "stream",
     "text": [
      "<class 'pandas.core.frame.DataFrame'>\n",
      "Index: 110519 entries, 5642903 to 5629448\n",
      "Data columns (total 16 columns):\n",
      "PatientId            110519 non-null object\n",
      "Gender               110519 non-null object\n",
      "Age                  110519 non-null int64\n",
      "Scholarship          110519 non-null int64\n",
      "Hipertension         110519 non-null int64\n",
      "Diabetes             110519 non-null int64\n",
      "Alcoholism           110519 non-null int64\n",
      "Handicap             110519 non-null int64\n",
      "ScheduledDay         110519 non-null datetime64[ns]\n",
      "ScheduledTime        110519 non-null object\n",
      "AppointmentDay       110519 non-null datetime64[ns]\n",
      "WaitingDays          110519 non-null int64\n",
      "WaitingCategories    110519 non-null category\n",
      "SMS_received         110519 non-null int64\n",
      "Neighbourhood        110519 non-null object\n",
      "No_show              110519 non-null object\n",
      "dtypes: category(1), datetime64[ns](2), int64(8), object(5)\n",
      "memory usage: 18.6+ MB\n",
      "None\n"
     ]
    },
    {
     "data": {
      "text/html": [
       "<div>\n",
       "<style scoped>\n",
       "    .dataframe tbody tr th:only-of-type {\n",
       "        vertical-align: middle;\n",
       "    }\n",
       "\n",
       "    .dataframe tbody tr th {\n",
       "        vertical-align: top;\n",
       "    }\n",
       "\n",
       "    .dataframe thead th {\n",
       "        text-align: right;\n",
       "    }\n",
       "</style>\n",
       "<table border=\"1\" class=\"dataframe\">\n",
       "  <thead>\n",
       "    <tr style=\"text-align: right;\">\n",
       "      <th></th>\n",
       "      <th>Age</th>\n",
       "      <th>Scholarship</th>\n",
       "      <th>Hipertension</th>\n",
       "      <th>Diabetes</th>\n",
       "      <th>Alcoholism</th>\n",
       "      <th>Handicap</th>\n",
       "      <th>WaitingDays</th>\n",
       "      <th>SMS_received</th>\n",
       "    </tr>\n",
       "  </thead>\n",
       "  <tbody>\n",
       "    <tr>\n",
       "      <th>count</th>\n",
       "      <td>110519.000000</td>\n",
       "      <td>110519.000000</td>\n",
       "      <td>110519.000000</td>\n",
       "      <td>110519.000000</td>\n",
       "      <td>110519.000000</td>\n",
       "      <td>110519.000000</td>\n",
       "      <td>110519.000000</td>\n",
       "      <td>110519.000000</td>\n",
       "    </tr>\n",
       "    <tr>\n",
       "      <th>mean</th>\n",
       "      <td>37.089071</td>\n",
       "      <td>0.098273</td>\n",
       "      <td>0.197260</td>\n",
       "      <td>0.071870</td>\n",
       "      <td>0.030402</td>\n",
       "      <td>0.020259</td>\n",
       "      <td>10.184005</td>\n",
       "      <td>0.321049</td>\n",
       "    </tr>\n",
       "    <tr>\n",
       "      <th>std</th>\n",
       "      <td>23.109970</td>\n",
       "      <td>0.297684</td>\n",
       "      <td>0.397932</td>\n",
       "      <td>0.258274</td>\n",
       "      <td>0.171692</td>\n",
       "      <td>0.140885</td>\n",
       "      <td>15.255082</td>\n",
       "      <td>0.466882</td>\n",
       "    </tr>\n",
       "    <tr>\n",
       "      <th>min</th>\n",
       "      <td>0.000000</td>\n",
       "      <td>0.000000</td>\n",
       "      <td>0.000000</td>\n",
       "      <td>0.000000</td>\n",
       "      <td>0.000000</td>\n",
       "      <td>0.000000</td>\n",
       "      <td>0.000000</td>\n",
       "      <td>0.000000</td>\n",
       "    </tr>\n",
       "    <tr>\n",
       "      <th>25%</th>\n",
       "      <td>18.000000</td>\n",
       "      <td>0.000000</td>\n",
       "      <td>0.000000</td>\n",
       "      <td>0.000000</td>\n",
       "      <td>0.000000</td>\n",
       "      <td>0.000000</td>\n",
       "      <td>0.000000</td>\n",
       "      <td>0.000000</td>\n",
       "    </tr>\n",
       "    <tr>\n",
       "      <th>50%</th>\n",
       "      <td>37.000000</td>\n",
       "      <td>0.000000</td>\n",
       "      <td>0.000000</td>\n",
       "      <td>0.000000</td>\n",
       "      <td>0.000000</td>\n",
       "      <td>0.000000</td>\n",
       "      <td>4.000000</td>\n",
       "      <td>0.000000</td>\n",
       "    </tr>\n",
       "    <tr>\n",
       "      <th>75%</th>\n",
       "      <td>55.000000</td>\n",
       "      <td>0.000000</td>\n",
       "      <td>0.000000</td>\n",
       "      <td>0.000000</td>\n",
       "      <td>0.000000</td>\n",
       "      <td>0.000000</td>\n",
       "      <td>15.000000</td>\n",
       "      <td>1.000000</td>\n",
       "    </tr>\n",
       "    <tr>\n",
       "      <th>max</th>\n",
       "      <td>115.000000</td>\n",
       "      <td>1.000000</td>\n",
       "      <td>1.000000</td>\n",
       "      <td>1.000000</td>\n",
       "      <td>1.000000</td>\n",
       "      <td>1.000000</td>\n",
       "      <td>179.000000</td>\n",
       "      <td>1.000000</td>\n",
       "    </tr>\n",
       "  </tbody>\n",
       "</table>\n",
       "</div>"
      ],
      "text/plain": [
       "                 Age    Scholarship   Hipertension       Diabetes  \\\n",
       "count  110519.000000  110519.000000  110519.000000  110519.000000   \n",
       "mean       37.089071       0.098273       0.197260       0.071870   \n",
       "std        23.109970       0.297684       0.397932       0.258274   \n",
       "min         0.000000       0.000000       0.000000       0.000000   \n",
       "25%        18.000000       0.000000       0.000000       0.000000   \n",
       "50%        37.000000       0.000000       0.000000       0.000000   \n",
       "75%        55.000000       0.000000       0.000000       0.000000   \n",
       "max       115.000000       1.000000       1.000000       1.000000   \n",
       "\n",
       "          Alcoholism       Handicap    WaitingDays   SMS_received  \n",
       "count  110519.000000  110519.000000  110519.000000  110519.000000  \n",
       "mean        0.030402       0.020259      10.184005       0.321049  \n",
       "std         0.171692       0.140885      15.255082       0.466882  \n",
       "min         0.000000       0.000000       0.000000       0.000000  \n",
       "25%         0.000000       0.000000       0.000000       0.000000  \n",
       "50%         0.000000       0.000000       4.000000       0.000000  \n",
       "75%         0.000000       0.000000      15.000000       1.000000  \n",
       "max         1.000000       1.000000     179.000000       1.000000  "
      ]
     },
     "execution_count": 42,
     "metadata": {},
     "output_type": "execute_result"
    }
   ],
   "source": [
    "## Checking again the dataset information (for numerical attributes) and description (for categorical ones):\n",
    "print(dataset.info())\n",
    "dataset.describe()"
   ]
  },
  {
   "cell_type": "code",
   "execution_count": 43,
   "metadata": {
    "collapsed": false
   },
   "outputs": [
    {
     "data": {
      "text/html": [
       "<div>\n",
       "<style scoped>\n",
       "    .dataframe tbody tr th:only-of-type {\n",
       "        vertical-align: middle;\n",
       "    }\n",
       "\n",
       "    .dataframe tbody tr th {\n",
       "        vertical-align: top;\n",
       "    }\n",
       "\n",
       "    .dataframe thead th {\n",
       "        text-align: right;\n",
       "    }\n",
       "</style>\n",
       "<table border=\"1\" class=\"dataframe\">\n",
       "  <thead>\n",
       "    <tr style=\"text-align: right;\">\n",
       "      <th></th>\n",
       "      <th>PatientId</th>\n",
       "      <th>Gender</th>\n",
       "      <th>Age</th>\n",
       "      <th>Scholarship</th>\n",
       "      <th>Hipertension</th>\n",
       "      <th>Diabetes</th>\n",
       "      <th>Alcoholism</th>\n",
       "      <th>Handicap</th>\n",
       "      <th>ScheduledDay</th>\n",
       "      <th>ScheduledTime</th>\n",
       "      <th>AppointmentDay</th>\n",
       "      <th>WaitingDays</th>\n",
       "      <th>WaitingCategories</th>\n",
       "      <th>SMS_received</th>\n",
       "      <th>Neighbourhood</th>\n",
       "      <th>No_show</th>\n",
       "    </tr>\n",
       "    <tr>\n",
       "      <th>AppointmentID</th>\n",
       "      <th></th>\n",
       "      <th></th>\n",
       "      <th></th>\n",
       "      <th></th>\n",
       "      <th></th>\n",
       "      <th></th>\n",
       "      <th></th>\n",
       "      <th></th>\n",
       "      <th></th>\n",
       "      <th></th>\n",
       "      <th></th>\n",
       "      <th></th>\n",
       "      <th></th>\n",
       "      <th></th>\n",
       "      <th></th>\n",
       "      <th></th>\n",
       "    </tr>\n",
       "  </thead>\n",
       "  <tbody>\n",
       "    <tr>\n",
       "      <th>5642903</th>\n",
       "      <td>29872499824296</td>\n",
       "      <td>F</td>\n",
       "      <td>62</td>\n",
       "      <td>0</td>\n",
       "      <td>1</td>\n",
       "      <td>0</td>\n",
       "      <td>0</td>\n",
       "      <td>0</td>\n",
       "      <td>2016-04-29</td>\n",
       "      <td>18:38:08</td>\n",
       "      <td>2016-04-29</td>\n",
       "      <td>0</td>\n",
       "      <td>Same day: 0</td>\n",
       "      <td>0</td>\n",
       "      <td>JARDIM DA PENHA</td>\n",
       "      <td>No</td>\n",
       "    </tr>\n",
       "    <tr>\n",
       "      <th>5642503</th>\n",
       "      <td>558997776694438</td>\n",
       "      <td>M</td>\n",
       "      <td>56</td>\n",
       "      <td>0</td>\n",
       "      <td>0</td>\n",
       "      <td>0</td>\n",
       "      <td>0</td>\n",
       "      <td>0</td>\n",
       "      <td>2016-04-29</td>\n",
       "      <td>16:08:27</td>\n",
       "      <td>2016-04-29</td>\n",
       "      <td>0</td>\n",
       "      <td>Same day: 0</td>\n",
       "      <td>0</td>\n",
       "      <td>JARDIM DA PENHA</td>\n",
       "      <td>No</td>\n",
       "    </tr>\n",
       "    <tr>\n",
       "      <th>5642549</th>\n",
       "      <td>4262962299951</td>\n",
       "      <td>F</td>\n",
       "      <td>62</td>\n",
       "      <td>0</td>\n",
       "      <td>0</td>\n",
       "      <td>0</td>\n",
       "      <td>0</td>\n",
       "      <td>0</td>\n",
       "      <td>2016-04-29</td>\n",
       "      <td>16:19:04</td>\n",
       "      <td>2016-04-29</td>\n",
       "      <td>0</td>\n",
       "      <td>Same day: 0</td>\n",
       "      <td>0</td>\n",
       "      <td>MATA DA PRAIA</td>\n",
       "      <td>No</td>\n",
       "    </tr>\n",
       "  </tbody>\n",
       "</table>\n",
       "</div>"
      ],
      "text/plain": [
       "                     PatientId Gender  Age  Scholarship  Hipertension  \\\n",
       "AppointmentID                                                           \n",
       "5642903         29872499824296      F   62            0             1   \n",
       "5642503        558997776694438      M   56            0             0   \n",
       "5642549          4262962299951      F   62            0             0   \n",
       "\n",
       "               Diabetes  Alcoholism  Handicap ScheduledDay ScheduledTime  \\\n",
       "AppointmentID                                                              \n",
       "5642903               0           0         0   2016-04-29      18:38:08   \n",
       "5642503               0           0         0   2016-04-29      16:08:27   \n",
       "5642549               0           0         0   2016-04-29      16:19:04   \n",
       "\n",
       "              AppointmentDay  WaitingDays WaitingCategories  SMS_received  \\\n",
       "AppointmentID                                                               \n",
       "5642903           2016-04-29            0       Same day: 0             0   \n",
       "5642503           2016-04-29            0       Same day: 0             0   \n",
       "5642549           2016-04-29            0       Same day: 0             0   \n",
       "\n",
       "                 Neighbourhood No_show  \n",
       "AppointmentID                           \n",
       "5642903        JARDIM DA PENHA      No  \n",
       "5642503        JARDIM DA PENHA      No  \n",
       "5642549          MATA DA PRAIA      No  "
      ]
     },
     "execution_count": 43,
     "metadata": {},
     "output_type": "execute_result"
    }
   ],
   "source": [
    "## Visualizing few instances of the data:\n",
    "dataset.head(3)"
   ]
  },
  {
   "cell_type": "markdown",
   "metadata": {},
   "source": [
    "As it can be seen, the numerical attributes are consistent with the expected values (i.e. counting 110.521 values, with a minimum of 0 and maximum value of 1 to the boolean attributes, while in a range from 0 to 115 for the age attribute). In the same way, the categorical attributes are as expected."
   ]
  },
  {
   "cell_type": "markdown",
   "metadata": {},
   "source": [
    "-------------"
   ]
  },
  {
   "cell_type": "markdown",
   "metadata": {},
   "source": [
    "<a id='eda'></a>\n",
    "## 3. Exploratory Data Analysis\n",
    "\n",
    "Once the data were trimmed and cleaned, we will move on to explore the questions posed on  <a href=\"#sec1.3\">Section 1.3</a></li>. Besides it was identified in <a href=\"#wrangling\">Section 2</a></li> that data are unbalanced, it will not be taken into account in the following analysis. Given the dataset limitations, this analysis will address the first two questions, as organized in the following topics::  \n",
    "\n",
    "* **<a href=\"#EDA_question1\">3.1. Exploring no-showing appointments</a>**\n",
    "* **<a href=\"#EDA_question2\">3.2. Exploring the patient profiles</a>**\n",
    "\n",
    "Some functions will be defined below in order to facilitate the further analyzing process."
   ]
  },
  {
   "cell_type": "code",
   "execution_count": 44,
   "metadata": {
    "collapsed": true
   },
   "outputs": [],
   "source": [
    "def get_statistics(data, bins=20):\n",
    "    '''Prints basic statistics from the input data. \n",
    "    Syntax: get_statistics(data, bins=20), where:\n",
    "        data = the input data series;\n",
    "        bins = the number of bins to the histogram.\n",
    "    '''\n",
    "    total = data.values\n",
    "    print('Mean:', np.mean(total))\n",
    "    print('Standard deviation:', np.std(total))\n",
    "    print('Minimum:', np.min(total))\n",
    "    print('Maximum:', np.max(total))\n",
    "    print('Median:', np.median(total))\n",
    "    plt.hist(data, bins=bins);"
   ]
  },
  {
   "cell_type": "code",
   "execution_count": 45,
   "metadata": {
    "collapsed": true
   },
   "outputs": [],
   "source": [
    "def get_total(dataframe):\n",
    "    '''Return the total sum of each numerical attribute of a pandas.Dataframe.'''\n",
    "    return dataframe.sum(axis=1)"
   ]
  },
  {
   "cell_type": "code",
   "execution_count": 182,
   "metadata": {
    "collapsed": true
   },
   "outputs": [],
   "source": [
    "def df_row_normalize(dataframe):\n",
    "    '''Normalizes the values of a given pandas.Dataframe by the total sum of each line.\n",
    "    Algorithm based on https://stackoverflow.com/questions/26537878/pandas-sum-across-columns-and-divide-each-cell-from-that-value'''\n",
    "    return dataframe.div(dataframe.sum(axis=1), axis=0)"
   ]
  },
  {
   "cell_type": "code",
   "execution_count": 269,
   "metadata": {
    "collapsed": true
   },
   "outputs": [],
   "source": [
    "def df_column_normalize(dataframe, percent=False):\n",
    "    '''Normalizes the values of a given pandas.Dataframe by the total sum of each column.\n",
    "    If percent=True, multiplies the final value by 100.\n",
    "    Algorithm based on https://stackoverflow.com/questions/26537878/pandas-sum-across-columns-and-divide-each-cell-from-that-value'''\n",
    "    if percent:\n",
    "        return dataframe.div(dataframe.sum(axis=0), axis=1)*100\n",
    "    else:\n",
    "        return dataframe.div(dataframe.sum(axis=0), axis=1)"
   ]
  },
  {
   "cell_type": "markdown",
   "metadata": {},
   "source": [
    "<a id='EDA_question1'></a>\n",
    "### 3.1. Exploring the *no-showing appointments*\n",
    "In this section we will seek to answer the following questions based on the available data:  \n",
    "* What is the average waiting time between the scheduling date and the appointment date?\n",
    "* Is there any relation between the waiting time and the no-showing appointments?\n",
    "* How the *no-showing appointments* are distributed among the health units (neighborhood)?"
   ]
  },
  {
   "cell_type": "markdown",
   "metadata": {},
   "source": [
    "In orther to find the answers, we will now focus on those attributes related specifically to appointments: *patient ID; scheduled date; appointment date; and health unit neighborhood*, as well as those attributes resulting from these."
   ]
  },
  {
   "cell_type": "markdown",
   "metadata": {},
   "source": [
    "<a id='sec3.1.1'></a>\n",
    "#### 3.1.1. Waiting time between the scheduling and the appointment date\n",
    "To get an overall idea of the no-showing appointments, we will start analyzing the basic statistics of the waiting days:"
   ]
  },
  {
   "cell_type": "code",
   "execution_count": 47,
   "metadata": {
    "collapsed": false
   },
   "outputs": [
    {
     "name": "stdout",
     "output_type": "stream",
     "text": [
      "Mean: 10.1840045603\n",
      "Standard deviation: 15.2550125255\n",
      "Minimum: 0\n",
      "Maximum: 179\n",
      "Median: 4.0\n"
     ]
    },
    {
     "data": {
      "image/png": "[encoded data removed]",
      "text/plain": [
       "<matplotlib.figure.Figure at 0x7f4b2e455b38>"
      ]
     },
     "metadata": {},
     "output_type": "display_data"
    }
   ],
   "source": [
    "get_statistics(dataset.WaitingDays)"
   ]
  },
  {
   "cell_type": "markdown",
   "metadata": {},
   "source": [
    "The **average waiting is about 10 days**, with a standard deviation of approximately 15 days. These values suggest that this distribution is not normal, since the mean is not in the center, as confirmed by its histogram. "
   ]
  },
  {
   "cell_type": "markdown",
   "metadata": {},
   "source": [
    "Looking back at the *waitingdays* dataframe created in <a href=\"#sec2.3.3\">Section 2.3.3</a>, we can compare the no-showing rate (i.e. the number of patients that missed the appointment against those who attended) in relation to each of *WaitingDays* categories."
   ]
  },
  {
   "cell_type": "code",
   "execution_count": 48,
   "metadata": {
    "collapsed": false,
    "scrolled": true
   },
   "outputs": [
    {
     "data": {
      "text/html": [
       "<div>\n",
       "<style scoped>\n",
       "    .dataframe tbody tr th:only-of-type {\n",
       "        vertical-align: middle;\n",
       "    }\n",
       "\n",
       "    .dataframe tbody tr th {\n",
       "        vertical-align: top;\n",
       "    }\n",
       "\n",
       "    .dataframe thead th {\n",
       "        text-align: right;\n",
       "    }\n",
       "</style>\n",
       "<table border=\"1\" class=\"dataframe\">\n",
       "  <thead>\n",
       "    <tr style=\"text-align: right;\">\n",
       "      <th>No-show</th>\n",
       "      <th>No</th>\n",
       "      <th>Yes</th>\n",
       "      <th>No-showing rate</th>\n",
       "    </tr>\n",
       "    <tr>\n",
       "      <th>WaitingDays</th>\n",
       "      <th></th>\n",
       "      <th></th>\n",
       "      <th></th>\n",
       "    </tr>\n",
       "  </thead>\n",
       "  <tbody>\n",
       "    <tr>\n",
       "      <th>Same day: 0</th>\n",
       "      <td>36770.0</td>\n",
       "      <td>1792.0</td>\n",
       "      <td>4.873538</td>\n",
       "    </tr>\n",
       "    <tr>\n",
       "      <th>Short: 1-3</th>\n",
       "      <td>11316.0</td>\n",
       "      <td>3359.0</td>\n",
       "      <td>29.683634</td>\n",
       "    </tr>\n",
       "    <tr>\n",
       "      <th>Week: 4-7</th>\n",
       "      <td>13097.0</td>\n",
       "      <td>4413.0</td>\n",
       "      <td>33.694739</td>\n",
       "    </tr>\n",
       "    <tr>\n",
       "      <th>Fortnight: 8-15</th>\n",
       "      <td>9362.0</td>\n",
       "      <td>4166.0</td>\n",
       "      <td>44.499039</td>\n",
       "    </tr>\n",
       "    <tr>\n",
       "      <th>Month: 16-30</th>\n",
       "      <td>10709.0</td>\n",
       "      <td>5159.0</td>\n",
       "      <td>48.174433</td>\n",
       "    </tr>\n",
       "    <tr>\n",
       "      <th>Quarter: 31-90</th>\n",
       "      <td>6792.0</td>\n",
       "      <td>3369.0</td>\n",
       "      <td>49.602473</td>\n",
       "    </tr>\n",
       "    <tr>\n",
       "      <th>Semester: 91-180</th>\n",
       "      <td>161.0</td>\n",
       "      <td>56.0</td>\n",
       "      <td>34.782609</td>\n",
       "    </tr>\n",
       "    <tr>\n",
       "      <th>Very long: &gt;180</th>\n",
       "      <td>0.0</td>\n",
       "      <td>0.0</td>\n",
       "      <td>NaN</td>\n",
       "    </tr>\n",
       "  </tbody>\n",
       "</table>\n",
       "</div>"
      ],
      "text/plain": [
       "No-show                No     Yes  No-showing rate\n",
       "WaitingDays                                       \n",
       "Same day: 0       36770.0  1792.0         4.873538\n",
       "Short: 1-3        11316.0  3359.0        29.683634\n",
       "Week: 4-7         13097.0  4413.0        33.694739\n",
       "Fortnight: 8-15    9362.0  4166.0        44.499039\n",
       "Month: 16-30      10709.0  5159.0        48.174433\n",
       "Quarter: 31-90     6792.0  3369.0        49.602473\n",
       "Semester: 91-180    161.0    56.0        34.782609\n",
       "Very long: >180       0.0     0.0              NaN"
      ]
     },
     "execution_count": 48,
     "metadata": {},
     "output_type": "execute_result"
    }
   ],
   "source": [
    "## Showing the data again:\n",
    "waitingdays"
   ]
  },
  {
   "cell_type": "markdown",
   "metadata": {},
   "source": [
    "This data could be better understood graphically. To do so, we will first manipulate the *waitingdays* dataframe in\n",
    "order to get the percentual information. We will also multiply by *500* the *No-showing rate* values in order to put this attribute in the same scale of the chart. For last, we will show all these information in the same chart, based on the codes proposed in <a href=\"#[6]\">[6]</a> and <a href=\"#[7]\">[7]</a>."
   ]
  },
  {
   "cell_type": "code",
   "execution_count": 49,
   "metadata": {
    "collapsed": false,
    "scrolled": false
   },
   "outputs": [
    {
     "data": {
      "text/html": [
       "<div>\n",
       "<style scoped>\n",
       "    .dataframe tbody tr th:only-of-type {\n",
       "        vertical-align: middle;\n",
       "    }\n",
       "\n",
       "    .dataframe tbody tr th {\n",
       "        vertical-align: top;\n",
       "    }\n",
       "\n",
       "    .dataframe thead th {\n",
       "        text-align: right;\n",
       "    }\n",
       "</style>\n",
       "<table border=\"1\" class=\"dataframe\">\n",
       "  <thead>\n",
       "    <tr style=\"text-align: right;\">\n",
       "      <th>No-show</th>\n",
       "      <th>WaitingDays</th>\n",
       "      <th>No</th>\n",
       "      <th>Yes</th>\n",
       "      <th>No-showing rate</th>\n",
       "      <th>No-show percentual</th>\n",
       "      <th>No-showing rate (500x)</th>\n",
       "    </tr>\n",
       "  </thead>\n",
       "  <tbody>\n",
       "    <tr>\n",
       "      <th>0</th>\n",
       "      <td>Same day: 0</td>\n",
       "      <td>36770.0</td>\n",
       "      <td>1792.0</td>\n",
       "      <td>4.873538</td>\n",
       "      <td>4.87%</td>\n",
       "      <td>2436.769105</td>\n",
       "    </tr>\n",
       "    <tr>\n",
       "      <th>1</th>\n",
       "      <td>Short: 1-3</td>\n",
       "      <td>11316.0</td>\n",
       "      <td>3359.0</td>\n",
       "      <td>29.683634</td>\n",
       "      <td>29.68%</td>\n",
       "      <td>14841.816896</td>\n",
       "    </tr>\n",
       "    <tr>\n",
       "      <th>2</th>\n",
       "      <td>Week: 4-7</td>\n",
       "      <td>13097.0</td>\n",
       "      <td>4413.0</td>\n",
       "      <td>33.694739</td>\n",
       "      <td>33.69%</td>\n",
       "      <td>16847.369627</td>\n",
       "    </tr>\n",
       "    <tr>\n",
       "      <th>3</th>\n",
       "      <td>Fortnight: 8-15</td>\n",
       "      <td>9362.0</td>\n",
       "      <td>4166.0</td>\n",
       "      <td>44.499039</td>\n",
       "      <td>44.50%</td>\n",
       "      <td>22249.519333</td>\n",
       "    </tr>\n",
       "    <tr>\n",
       "      <th>4</th>\n",
       "      <td>Month: 16-30</td>\n",
       "      <td>10709.0</td>\n",
       "      <td>5159.0</td>\n",
       "      <td>48.174433</td>\n",
       "      <td>48.17%</td>\n",
       "      <td>24087.216360</td>\n",
       "    </tr>\n",
       "    <tr>\n",
       "      <th>5</th>\n",
       "      <td>Quarter: 31-90</td>\n",
       "      <td>6792.0</td>\n",
       "      <td>3369.0</td>\n",
       "      <td>49.602473</td>\n",
       "      <td>49.60%</td>\n",
       "      <td>24801.236749</td>\n",
       "    </tr>\n",
       "    <tr>\n",
       "      <th>6</th>\n",
       "      <td>Semester: 91-180</td>\n",
       "      <td>161.0</td>\n",
       "      <td>56.0</td>\n",
       "      <td>34.782609</td>\n",
       "      <td>34.78%</td>\n",
       "      <td>17391.304348</td>\n",
       "    </tr>\n",
       "  </tbody>\n",
       "</table>\n",
       "</div>"
      ],
      "text/plain": [
       "No-show       WaitingDays       No     Yes  No-showing rate  \\\n",
       "0             Same day: 0  36770.0  1792.0         4.873538   \n",
       "1              Short: 1-3  11316.0  3359.0        29.683634   \n",
       "2               Week: 4-7  13097.0  4413.0        33.694739   \n",
       "3         Fortnight: 8-15   9362.0  4166.0        44.499039   \n",
       "4            Month: 16-30  10709.0  5159.0        48.174433   \n",
       "5          Quarter: 31-90   6792.0  3369.0        49.602473   \n",
       "6        Semester: 91-180    161.0    56.0        34.782609   \n",
       "\n",
       "No-show No-show percentual  No-showing rate (500x)  \n",
       "0                    4.87%             2436.769105  \n",
       "1                   29.68%            14841.816896  \n",
       "2                   33.69%            16847.369627  \n",
       "3                   44.50%            22249.519333  \n",
       "4                   48.17%            24087.216360  \n",
       "5                   49.60%            24801.236749  \n",
       "6                   34.78%            17391.304348  "
      ]
     },
     "execution_count": 49,
     "metadata": {},
     "output_type": "execute_result"
    }
   ],
   "source": [
    "## Adjusting the dataframe:\n",
    "eda_waitingDays = waitingdays.copy()  #Copying the dataframe from Section 2.3.3\n",
    "eda_waitingDays.reset_index(drop=False, inplace=True)  #Making the index as a column in order to be plotted.\n",
    "eda_waitingDays.drop(index=7, inplace=True)  #Droppping the last row, since it's empty.\n",
    "\n",
    "## Adding new columns:\n",
    "#Transforming the 'No-showing rate' into strings with the percentual values:\n",
    "eda_waitingDays['No-show percentual'] = eda_waitingDays['No-showing rate'].apply(lambda x: '{0:.2f}%'.format(x))\n",
    "#Multiplying the rate values by 500 times in order to be plotted in the same scale:\n",
    "eda_waitingDays['No-showing rate (500x)'] = eda_waitingDays['No-showing rate']*500\n",
    "\n",
    "## Showing the adjusting dataframe:\n",
    "eda_waitingDays"
   ]
  },
  {
   "cell_type": "code",
   "execution_count": 285,
   "metadata": {
    "collapsed": false,
    "scrolled": false
   },
   "outputs": [
    {
     "data": {
      "image/png": "[encoded data removed]",
      "text/plain": [
       "<matplotlib.figure.Figure at 0x7f4afda9dcf8>"
      ]
     },
     "metadata": {},
     "output_type": "display_data"
    }
   ],
   "source": [
    "## Setting the graph parameters:\n",
    "fig1, ax = plt.subplots(figsize=[12,6])  #Defines the graph window size\n",
    "colors = ['tab:blue', 'tab:green', 'tab:red']  #Defines the colors to be used\n",
    "\n",
    "ax.set_ylabel('Number of occurences', color=colors[0])  #Set the y-axis color and label\n",
    "ax.tick_params(axis='y', labelcolor=colors[0])\n",
    "\n",
    "## Plotting the bar chart:\n",
    "eda_waitingDays[['WaitingDays', 'No', 'Yes']].plot(x='WaitingDays', kind='bar', ax=ax, color=colors[0:2])\n",
    "\n",
    "## Plotting the line chart:\n",
    "eda_waitingDays[['WaitingDays', 'No-showing rate (500x)']].plot(x='WaitingDays', linestyle='-', marker='o', ax=ax, color=colors[2])\n",
    "#Setting the line chart marker labels\n",
    "x = ax.get_xticks()  #Getting the x-axis ticks to plot the label\n",
    "for a,b,c in zip(x,eda_waitingDays['No-showing rate (500x)'], eda_waitingDays['No-show percentual']):\n",
    "    plt.text(a,b+1500,c, color='red', fontsize=14)\n",
    "\n",
    "plt.show()"
   ]
  },
  {
   "cell_type": "markdown",
   "metadata": {},
   "source": [
    "Through the chart above, it becomes evident that **the *no-showing rate* increases as the waiting gets longer**. It reaches the lower rates when the attendance occurs in the same day it was scheduled. We can then associate it with the emergency care or even when the patient goes to the health unit without previous scheduling.  \n",
    "\n",
    "It is curious to notice that after one quarter waiting there is a slight return to the patient assiduity, when the *no-showing rate* downs from *49.6%* to *%34.78*. This question will be explored deeply in the next section."
   ]
  },
  {
   "cell_type": "markdown",
   "metadata": {},
   "source": [
    "<a id='sec3.1.2'></a>\n",
    "#### 3.1.2. A return to assiduity\n",
    "As noted in the chart above, the *no-showing rate* increases along the waiting time, however it starts to decrease after one quarter waiting. To get insights for the next analysis (the patient profiles will be explored in <a href=\"EDA_question2\">Section 3.2</a>), we will now compare some basic statistics of the numerical attributes from the group patients attending to the appointments in the same day **(Group I)** and after one quarter **(Group II)**. "
   ]
  },
  {
   "cell_type": "code",
   "execution_count": 51,
   "metadata": {
    "collapsed": false
   },
   "outputs": [
    {
     "data": {
      "text/html": [
       "<div>\n",
       "<style scoped>\n",
       "    .dataframe tbody tr th:only-of-type {\n",
       "        vertical-align: middle;\n",
       "    }\n",
       "\n",
       "    .dataframe tbody tr th {\n",
       "        vertical-align: top;\n",
       "    }\n",
       "\n",
       "    .dataframe thead th {\n",
       "        text-align: right;\n",
       "    }\n",
       "</style>\n",
       "<table border=\"1\" class=\"dataframe\">\n",
       "  <thead>\n",
       "    <tr style=\"text-align: right;\">\n",
       "      <th></th>\n",
       "      <th>Age</th>\n",
       "      <th>Scholarship</th>\n",
       "      <th>Hipertension</th>\n",
       "      <th>Diabetes</th>\n",
       "      <th>Alcoholism</th>\n",
       "      <th>Handicap</th>\n",
       "      <th>WaitingDays</th>\n",
       "      <th>SMS_received</th>\n",
       "    </tr>\n",
       "  </thead>\n",
       "  <tbody>\n",
       "    <tr>\n",
       "      <th>count</th>\n",
       "      <td>38562.000000</td>\n",
       "      <td>38562.000000</td>\n",
       "      <td>38562.000000</td>\n",
       "      <td>38562.000000</td>\n",
       "      <td>38562.000000</td>\n",
       "      <td>38562.000000</td>\n",
       "      <td>38562.0</td>\n",
       "      <td>38562.0</td>\n",
       "    </tr>\n",
       "    <tr>\n",
       "      <th>mean</th>\n",
       "      <td>34.452311</td>\n",
       "      <td>0.108656</td>\n",
       "      <td>0.175536</td>\n",
       "      <td>0.066542</td>\n",
       "      <td>0.039884</td>\n",
       "      <td>0.024169</td>\n",
       "      <td>0.0</td>\n",
       "      <td>0.0</td>\n",
       "    </tr>\n",
       "    <tr>\n",
       "      <th>std</th>\n",
       "      <td>23.221671</td>\n",
       "      <td>0.311211</td>\n",
       "      <td>0.380429</td>\n",
       "      <td>0.249231</td>\n",
       "      <td>0.195689</td>\n",
       "      <td>0.153575</td>\n",
       "      <td>0.0</td>\n",
       "      <td>0.0</td>\n",
       "    </tr>\n",
       "    <tr>\n",
       "      <th>min</th>\n",
       "      <td>0.000000</td>\n",
       "      <td>0.000000</td>\n",
       "      <td>0.000000</td>\n",
       "      <td>0.000000</td>\n",
       "      <td>0.000000</td>\n",
       "      <td>0.000000</td>\n",
       "      <td>0.0</td>\n",
       "      <td>0.0</td>\n",
       "    </tr>\n",
       "    <tr>\n",
       "      <th>25%</th>\n",
       "      <td>15.000000</td>\n",
       "      <td>0.000000</td>\n",
       "      <td>0.000000</td>\n",
       "      <td>0.000000</td>\n",
       "      <td>0.000000</td>\n",
       "      <td>0.000000</td>\n",
       "      <td>0.0</td>\n",
       "      <td>0.0</td>\n",
       "    </tr>\n",
       "    <tr>\n",
       "      <th>50%</th>\n",
       "      <td>34.000000</td>\n",
       "      <td>0.000000</td>\n",
       "      <td>0.000000</td>\n",
       "      <td>0.000000</td>\n",
       "      <td>0.000000</td>\n",
       "      <td>0.000000</td>\n",
       "      <td>0.0</td>\n",
       "      <td>0.0</td>\n",
       "    </tr>\n",
       "    <tr>\n",
       "      <th>75%</th>\n",
       "      <td>52.000000</td>\n",
       "      <td>0.000000</td>\n",
       "      <td>0.000000</td>\n",
       "      <td>0.000000</td>\n",
       "      <td>0.000000</td>\n",
       "      <td>0.000000</td>\n",
       "      <td>0.0</td>\n",
       "      <td>0.0</td>\n",
       "    </tr>\n",
       "    <tr>\n",
       "      <th>max</th>\n",
       "      <td>115.000000</td>\n",
       "      <td>1.000000</td>\n",
       "      <td>1.000000</td>\n",
       "      <td>1.000000</td>\n",
       "      <td>1.000000</td>\n",
       "      <td>1.000000</td>\n",
       "      <td>0.0</td>\n",
       "      <td>0.0</td>\n",
       "    </tr>\n",
       "  </tbody>\n",
       "</table>\n",
       "</div>"
      ],
      "text/plain": [
       "                Age   Scholarship  Hipertension      Diabetes    Alcoholism  \\\n",
       "count  38562.000000  38562.000000  38562.000000  38562.000000  38562.000000   \n",
       "mean      34.452311      0.108656      0.175536      0.066542      0.039884   \n",
       "std       23.221671      0.311211      0.380429      0.249231      0.195689   \n",
       "min        0.000000      0.000000      0.000000      0.000000      0.000000   \n",
       "25%       15.000000      0.000000      0.000000      0.000000      0.000000   \n",
       "50%       34.000000      0.000000      0.000000      0.000000      0.000000   \n",
       "75%       52.000000      0.000000      0.000000      0.000000      0.000000   \n",
       "max      115.000000      1.000000      1.000000      1.000000      1.000000   \n",
       "\n",
       "           Handicap  WaitingDays  SMS_received  \n",
       "count  38562.000000      38562.0       38562.0  \n",
       "mean       0.024169          0.0           0.0  \n",
       "std        0.153575          0.0           0.0  \n",
       "min        0.000000          0.0           0.0  \n",
       "25%        0.000000          0.0           0.0  \n",
       "50%        0.000000          0.0           0.0  \n",
       "75%        0.000000          0.0           0.0  \n",
       "max        1.000000          0.0           0.0  "
      ]
     },
     "execution_count": 51,
     "metadata": {},
     "output_type": "execute_result"
    }
   ],
   "source": [
    "## Group I - Describing the numerical attributes for the same day appointments:\n",
    "group_I = dataset[dataset['WaitingCategories'] == 'Same day: 0'].describe()\n",
    "group_I"
   ]
  },
  {
   "cell_type": "code",
   "execution_count": 52,
   "metadata": {
    "collapsed": false
   },
   "outputs": [
    {
     "data": {
      "text/html": [
       "<div>\n",
       "<style scoped>\n",
       "    .dataframe tbody tr th:only-of-type {\n",
       "        vertical-align: middle;\n",
       "    }\n",
       "\n",
       "    .dataframe tbody tr th {\n",
       "        vertical-align: top;\n",
       "    }\n",
       "\n",
       "    .dataframe thead th {\n",
       "        text-align: right;\n",
       "    }\n",
       "</style>\n",
       "<table border=\"1\" class=\"dataframe\">\n",
       "  <thead>\n",
       "    <tr style=\"text-align: right;\">\n",
       "      <th></th>\n",
       "      <th>Age</th>\n",
       "      <th>Scholarship</th>\n",
       "      <th>Hipertension</th>\n",
       "      <th>Diabetes</th>\n",
       "      <th>Alcoholism</th>\n",
       "      <th>Handicap</th>\n",
       "      <th>WaitingDays</th>\n",
       "      <th>SMS_received</th>\n",
       "    </tr>\n",
       "  </thead>\n",
       "  <tbody>\n",
       "    <tr>\n",
       "      <th>count</th>\n",
       "      <td>217.000000</td>\n",
       "      <td>217.000000</td>\n",
       "      <td>217.000000</td>\n",
       "      <td>217.000000</td>\n",
       "      <td>217.000000</td>\n",
       "      <td>217.000000</td>\n",
       "      <td>217.000000</td>\n",
       "      <td>217.000000</td>\n",
       "    </tr>\n",
       "    <tr>\n",
       "      <th>mean</th>\n",
       "      <td>60.788018</td>\n",
       "      <td>0.064516</td>\n",
       "      <td>0.539171</td>\n",
       "      <td>0.133641</td>\n",
       "      <td>0.013825</td>\n",
       "      <td>0.069124</td>\n",
       "      <td>121.410138</td>\n",
       "      <td>0.640553</td>\n",
       "    </tr>\n",
       "    <tr>\n",
       "      <th>std</th>\n",
       "      <td>25.672460</td>\n",
       "      <td>0.246238</td>\n",
       "      <td>0.499616</td>\n",
       "      <td>0.341052</td>\n",
       "      <td>0.117034</td>\n",
       "      <td>0.254252</td>\n",
       "      <td>31.423518</td>\n",
       "      <td>0.480948</td>\n",
       "    </tr>\n",
       "    <tr>\n",
       "      <th>min</th>\n",
       "      <td>0.000000</td>\n",
       "      <td>0.000000</td>\n",
       "      <td>0.000000</td>\n",
       "      <td>0.000000</td>\n",
       "      <td>0.000000</td>\n",
       "      <td>0.000000</td>\n",
       "      <td>91.000000</td>\n",
       "      <td>0.000000</td>\n",
       "    </tr>\n",
       "    <tr>\n",
       "      <th>25%</th>\n",
       "      <td>48.000000</td>\n",
       "      <td>0.000000</td>\n",
       "      <td>0.000000</td>\n",
       "      <td>0.000000</td>\n",
       "      <td>0.000000</td>\n",
       "      <td>0.000000</td>\n",
       "      <td>91.000000</td>\n",
       "      <td>0.000000</td>\n",
       "    </tr>\n",
       "    <tr>\n",
       "      <th>50%</th>\n",
       "      <td>69.000000</td>\n",
       "      <td>0.000000</td>\n",
       "      <td>1.000000</td>\n",
       "      <td>0.000000</td>\n",
       "      <td>0.000000</td>\n",
       "      <td>0.000000</td>\n",
       "      <td>109.000000</td>\n",
       "      <td>1.000000</td>\n",
       "    </tr>\n",
       "    <tr>\n",
       "      <th>75%</th>\n",
       "      <td>80.000000</td>\n",
       "      <td>0.000000</td>\n",
       "      <td>1.000000</td>\n",
       "      <td>0.000000</td>\n",
       "      <td>0.000000</td>\n",
       "      <td>0.000000</td>\n",
       "      <td>155.000000</td>\n",
       "      <td>1.000000</td>\n",
       "    </tr>\n",
       "    <tr>\n",
       "      <th>max</th>\n",
       "      <td>95.000000</td>\n",
       "      <td>1.000000</td>\n",
       "      <td>1.000000</td>\n",
       "      <td>1.000000</td>\n",
       "      <td>1.000000</td>\n",
       "      <td>1.000000</td>\n",
       "      <td>179.000000</td>\n",
       "      <td>1.000000</td>\n",
       "    </tr>\n",
       "  </tbody>\n",
       "</table>\n",
       "</div>"
      ],
      "text/plain": [
       "              Age  Scholarship  Hipertension    Diabetes  Alcoholism  \\\n",
       "count  217.000000   217.000000    217.000000  217.000000  217.000000   \n",
       "mean    60.788018     0.064516      0.539171    0.133641    0.013825   \n",
       "std     25.672460     0.246238      0.499616    0.341052    0.117034   \n",
       "min      0.000000     0.000000      0.000000    0.000000    0.000000   \n",
       "25%     48.000000     0.000000      0.000000    0.000000    0.000000   \n",
       "50%     69.000000     0.000000      1.000000    0.000000    0.000000   \n",
       "75%     80.000000     0.000000      1.000000    0.000000    0.000000   \n",
       "max     95.000000     1.000000      1.000000    1.000000    1.000000   \n",
       "\n",
       "         Handicap  WaitingDays  SMS_received  \n",
       "count  217.000000   217.000000    217.000000  \n",
       "mean     0.069124   121.410138      0.640553  \n",
       "std      0.254252    31.423518      0.480948  \n",
       "min      0.000000    91.000000      0.000000  \n",
       "25%      0.000000    91.000000      0.000000  \n",
       "50%      0.000000   109.000000      1.000000  \n",
       "75%      0.000000   155.000000      1.000000  \n",
       "max      1.000000   179.000000      1.000000  "
      ]
     },
     "execution_count": 52,
     "metadata": {},
     "output_type": "execute_result"
    }
   ],
   "source": [
    "## Group II - Describing the numerical attributes for the semester appointments:\n",
    "group_II = dataset[dataset['WaitingDays']>90].describe()\n",
    "group_II"
   ]
  },
  {
   "cell_type": "markdown",
   "metadata": {},
   "source": [
    "Despite the number of instances are in a proportion of 1:217, the basic statistics from these two groups of patients reveals interesting characteristics we can therefore associate to the reduction of the no-showing rate. To help finding them, we will make use of the *find_differences()* function, as defined below, applied to the *mean* values of each group."
   ]
  },
  {
   "cell_type": "code",
   "execution_count": 53,
   "metadata": {
    "collapsed": true
   },
   "outputs": [],
   "source": [
    "def find_differences(serie1, serie2, pct_diff):\n",
    "    '''Given two data series [serie1, serie2], compare those attributes and return \n",
    "    those who difference among them is higher than pct_diff (e.g. 50% must be entered as 0.5).\n",
    "    The index of both series must be identical.\n",
    "    '''\n",
    "    try:\n",
    "        if (serie1.index.all() == serie2.index.all()):\n",
    "            ## Calculating the differences\n",
    "            testA = serie1 / serie2\n",
    "            testB = serie2 / serie1\n",
    "            checkA = [x for x in testA if (x > pct_diff)&(x<1)]\n",
    "            checkB = [x for x in testB if (x > pct_diff)&(x<1)]\n",
    "            \n",
    "            ## Showing which attributes in serie1 are less than \"pct_diff\" of those in serie1:\n",
    "            print('Attributes in \"Serie I\" whose values are less than {0:.1f}% of those in \"Serie II\":'.format(pct_diff*100))\n",
    "            for item in checkA:\n",
    "                print('\\t{0}: {1:.1f}%'.format(testA[testA == item].index[0], item*100))\n",
    "            \n",
    "            ## Showing which attributes of serie2 are \"pct_diff\" higher in serie1:\n",
    "            print('Attributes in \"Serie II\" whose values are less than {0:.1f}% of those in \"Serie I\":'.format(pct_diff*100))\n",
    "            for item in checkB:\n",
    "                print('\\t{0}: {1:.1f}%'.format(testB[testB == item].index[0], item*100))\n",
    "    except ValueError:\n",
    "        print('The series must have same index and length!')\n",
    "    return    "
   ]
  },
  {
   "cell_type": "code",
   "execution_count": 54,
   "metadata": {
    "collapsed": false
   },
   "outputs": [
    {
     "name": "stdout",
     "output_type": "stream",
     "text": [
      "Attributes in \"Serie I\" whose values are less than 30.0% of those in \"Serie II\":\n",
      "\tAge: 56.7%\n",
      "\tHipertension: 32.6%\n",
      "\tDiabetes: 49.8%\n",
      "\tHandicap: 35.0%\n",
      "Attributes in \"Serie II\" whose values are less than 30.0% of those in \"Serie I\":\n",
      "\tScholarship: 59.4%\n",
      "\tAlcoholism: 34.7%\n"
     ]
    }
   ],
   "source": [
    "find_differences(group_I.loc['mean'], group_II.loc['mean'], 0.30)"
   ]
  },
  {
   "cell_type": "markdown",
   "metadata": {
    "collapsed": true
   },
   "source": [
    "Based on the findings above, the both group of patients can be characterized as follow, considering those attributes with a difference in the mean values higher than 30% of the other group:\n",
    "\n",
    "* Group I - Same day scheduling appointment:\n",
    "  * Average age: 34.5 years old (young adults)\n",
    "  * Scholarship: **10% receives scholarship**\n",
    "  * Alcoholism: present in **3.9% of the group individuals**\n",
    "  * Hipertension: present in 17.5% of the group individuals\n",
    "  * Diabetes: present in 6.6% of the group individuals\n",
    "  * Handicap: present in 2.4% of the group individuals\n",
    "  \n",
    "* Group II - A semester waiting between schedulling and the appointment:\n",
    "  * Average age: **60.8 years old (senior)**\n",
    "  * Scholarship: 6.4% receives scholarship\n",
    "  * Alcoholism: present in 1.4% of the group individuals\n",
    "  * Hipertension: present in **53.9% of the group individuals**\n",
    "  * Diabetes: present in **13.4% of the group individuals**\n",
    "  * Handicap: present in **6.9% of the group individuals**  \n",
    "  \n",
    "From this analysis, one hipothesys for the *no-showing rate* reduction for waiting periods higher than a quarter can be assigned to the patient profile: **elderly people as well as those with chronic diseases who require regular medical follow-up tend to schedule long-term appointments and attend to them.**"
   ]
  },
  {
   "cell_type": "markdown",
   "metadata": {
    "collapsed": true
   },
   "source": [
    "<a id='sec3.1.3'></a>\n",
    "#### 3.1.3 Neighborhood analysis\n",
    "This last analysis seeks to find out how the *no-showing appointments* are distributed among the health units. In other words, how many appointments are registered to each health unit and if they were attended to or not. To find this out, we will carry two slightly distinct analysis based on the neighborhood attribute: \n",
    "* (i) How the absence number is distributed along the neighborhoods? \n",
    "* (ii) We have already seen that the no-showing rate increases as the waiting gets longer. Is the validity of this statement indifferent to geographical location?\n",
    "\n",
    "To find this out, we will first group the dataset by the neighborhood names, followed by some data manipulation to gather the desired information for each question."
   ]
  },
  {
   "cell_type": "markdown",
   "metadata": {},
   "source": [
    "#### (i) No-showing rate by neighborhood\n",
    "In this analysis we will show the absence number distribution into two ways: first in absolute numbers, to get not only the information of which health unit presents more absence, but to know which one has the highest number of attendments. Second, it is interesting to compare the normalized data, i.e. how much the absence of each health unit represents the total of its attendments."
   ]
  },
  {
   "cell_type": "code",
   "execution_count": 55,
   "metadata": {
    "collapsed": true
   },
   "outputs": [],
   "source": [
    "## Using the pandas.groupby() method to generate a pivot table:\n",
    "neighbors_I = dataset.groupby(by='Neighbourhood').No_show.value_counts().sort_index()"
   ]
  },
  {
   "cell_type": "code",
   "execution_count": 56,
   "metadata": {
    "collapsed": false
   },
   "outputs": [
    {
     "name": "stdout",
     "output_type": "stream",
     "text": [
      "No_show              No    Yes\n",
      "Neighbourhood                 \n",
      "AEROPORTO           7.0    1.0\n",
      "ANDORINHAS       1741.0  521.0\n",
      "ANTÔNIO HONÓRIO   221.0   50.0\n"
     ]
    }
   ],
   "source": [
    "## Manipulating the data:\n",
    "neighbors_I = neighbors_I.unstack()  #Converting the groupby object into a dataset\n",
    "neighbors_I.fillna(value=0, inplace=True)  #Replacing NaN values by zero\n",
    "print(neighbors_I.head(3))"
   ]
  },
  {
   "cell_type": "code",
   "execution_count": 57,
   "metadata": {
    "collapsed": false
   },
   "outputs": [
    {
     "name": "stdout",
     "output_type": "stream",
     "text": [
      "No_show                No       Yes\n",
      "Neighbourhood                      \n",
      "AEROPORTO        0.875000  0.125000\n",
      "ANDORINHAS       0.769673  0.230327\n",
      "ANTÔNIO HONÓRIO  0.815498  0.184502\n"
     ]
    }
   ],
   "source": [
    "## Normalizing the data using a predefined function:\n",
    "normalNeighbor = df_row_normalize(neighbors_I)\n",
    "print(normalNeighbor.head(3))"
   ]
  },
  {
   "cell_type": "code",
   "execution_count": 58,
   "metadata": {
    "collapsed": false
   },
   "outputs": [
    {
     "data": {
      "text/html": [
       "<div>\n",
       "<style scoped>\n",
       "    .dataframe tbody tr th:only-of-type {\n",
       "        vertical-align: middle;\n",
       "    }\n",
       "\n",
       "    .dataframe tbody tr th {\n",
       "        vertical-align: top;\n",
       "    }\n",
       "\n",
       "    .dataframe thead th {\n",
       "        text-align: right;\n",
       "    }\n",
       "</style>\n",
       "<table border=\"1\" class=\"dataframe\">\n",
       "  <thead>\n",
       "    <tr style=\"text-align: right;\">\n",
       "      <th>No_show</th>\n",
       "      <th>No</th>\n",
       "      <th>Yes</th>\n",
       "    </tr>\n",
       "  </thead>\n",
       "  <tbody>\n",
       "    <tr>\n",
       "      <th>count</th>\n",
       "      <td>80.000000</td>\n",
       "      <td>80.000000</td>\n",
       "    </tr>\n",
       "    <tr>\n",
       "      <th>mean</th>\n",
       "      <td>0.804525</td>\n",
       "      <td>0.195475</td>\n",
       "    </tr>\n",
       "    <tr>\n",
       "      <th>std</th>\n",
       "      <td>0.038502</td>\n",
       "      <td>0.038502</td>\n",
       "    </tr>\n",
       "    <tr>\n",
       "      <th>min</th>\n",
       "      <td>0.710815</td>\n",
       "      <td>0.000000</td>\n",
       "    </tr>\n",
       "    <tr>\n",
       "      <th>25%</th>\n",
       "      <td>0.783269</td>\n",
       "      <td>0.179868</td>\n",
       "    </tr>\n",
       "    <tr>\n",
       "      <th>50%</th>\n",
       "      <td>0.802693</td>\n",
       "      <td>0.197307</td>\n",
       "    </tr>\n",
       "    <tr>\n",
       "      <th>75%</th>\n",
       "      <td>0.820132</td>\n",
       "      <td>0.216731</td>\n",
       "    </tr>\n",
       "    <tr>\n",
       "      <th>max</th>\n",
       "      <td>1.000000</td>\n",
       "      <td>0.289185</td>\n",
       "    </tr>\n",
       "  </tbody>\n",
       "</table>\n",
       "</div>"
      ],
      "text/plain": [
       "No_show         No        Yes\n",
       "count    80.000000  80.000000\n",
       "mean      0.804525   0.195475\n",
       "std       0.038502   0.038502\n",
       "min       0.710815   0.000000\n",
       "25%       0.783269   0.179868\n",
       "50%       0.802693   0.197307\n",
       "75%       0.820132   0.216731\n",
       "max       1.000000   0.289185"
      ]
     },
     "execution_count": 58,
     "metadata": {},
     "output_type": "execute_result"
    }
   ],
   "source": [
    "## Getting the normalized data statistics:\n",
    "normalNeighbor.describe()"
   ]
  },
  {
   "cell_type": "code",
   "execution_count": 59,
   "metadata": {
    "collapsed": true
   },
   "outputs": [],
   "source": [
    "## Adding a total column:\n",
    "neighbors_I['Total'] = get_total(neighbors_I)\n",
    "normalNeighbor['Total'] = get_total(normalNeighbor)"
   ]
  },
  {
   "cell_type": "code",
   "execution_count": 60,
   "metadata": {
    "collapsed": true
   },
   "outputs": [],
   "source": [
    "#Reseting the 'neighbourhood' index and making it as a column:\n",
    "neighbors_I.reset_index(inplace=True)  \n",
    "normalNeighbor.reset_index(inplace=True)"
   ]
  },
  {
   "cell_type": "code",
   "execution_count": 286,
   "metadata": {
    "collapsed": false,
    "scrolled": false
   },
   "outputs": [
    {
     "name": "stderr",
     "output_type": "stream",
     "text": [
      "/home/tbnsilveira/anaconda3/envs/analytics3/lib/python3.6/site-packages/seaborn/categorical.py:1428: FutureWarning: remove_na is deprecated and is a private function. Do not use.\n",
      "  stat_data = remove_na(group_data)\n"
     ]
    },
    {
     "data": {
      "image/png": "[encoded data removed]",
      "text/plain": [
       "<matplotlib.figure.Figure at 0x7f4afd4c23c8>"
      ]
     },
     "metadata": {},
     "output_type": "display_data"
    }
   ],
   "source": [
    "## Initialize the matplotlib figure:\n",
    "fig2, (ax1, ax2) = plt.subplots(1,2, figsize=(12,16), sharey=True)\n",
    "fig2.tight_layout()\n",
    "\n",
    "## Plot the relative absence by neighborhood\n",
    "#Total appointments\n",
    "sns.set_color_codes(\"pastel\")\n",
    "sns.barplot(x=\"Total\", y=\"Neighbourhood\", data=normalNeighbor, label=\"Total\", color=\"b\", ax=ax1)\n",
    "#Attended appointments\n",
    "sns.set_color_codes(\"muted\")\n",
    "sns.barplot(x=\"No\", y=\"Neighbourhood\", data=normalNeighbor, label=\"Attended\", color=\"b\", ax=ax1)\n",
    "## Add a legend and informative axis label\n",
    "ax1.legend(ncol=2, loc=\"lower left\", frameon=True)\n",
    "ax1.set(xlim=(0, 1), ylabel=\"\", xlabel=\"Relative attended appointments by neighborhood\")\n",
    "sns.despine(left=True, bottom=True,ax=ax1)\n",
    "\n",
    "## Plot the absolute absence by neighborhood\n",
    "#Total appointments\n",
    "sns.set_color_codes(\"pastel\")\n",
    "sns.barplot(x=\"Total\", y=\"Neighbourhood\", data=neighbors_I, label=\"Total\", color=\"b\",ax=ax2)\n",
    "#Attended appointments\n",
    "sns.set_color_codes(\"muted\")\n",
    "sns.barplot(x=\"No\", y=\"Neighbourhood\", data=neighbors_I, label=\"Attended\", color=\"b\", ax=ax2)\n",
    "## Add a legend and informative axis label\n",
    "ax2.legend(ncol=2, loc=\"lower right\", frameon=True)\n",
    "ax2.set(xlim=(0, 7720), ylabel=\"\", xlabel=\"Absolute attended appointments by neighborhood\")  #The xlim value comes from the maximum value in the dataset.\n",
    "sns.despine(left=True, bottom=True, ax=ax2)"
   ]
  },
  {
   "cell_type": "markdown",
   "metadata": {},
   "source": [
    "From the analyzed data we found out that 80% of the appointments are attended to, with a standard deviation of 3.8%. The distribution of this numbers are easily perceived on the charts above. The chart representing the absolute values (the right one) is important to avoid biased interpretations: the neighborhood *Parque Industrial* had attended all its appointments but the same neighborhood carries the lowest number of appointments."
   ]
  },
  {
   "cell_type": "markdown",
   "metadata": {},
   "source": [
    "#### (ii) Relative absence: neighborhoods versus waiting categories\n",
    "The main purpose of this analysis is to check if the no-showing rate increases as the waiting gets longer along all the considered geographical locations. In order to get to this we will make use of a *heatmap*, which in turn is an array where the columns represent one attribute and the rows represent another. The value of each cell represents the correlation between these attributes and, for ease of viewing, is converted to a color map <a href=\"#[9]\">[9]</a>. In our case, the columns represent the *waiting time categories* while the rows represent the *neighborhoods*. The value (or color) of each cell represents the percentage of no-showing appointments."
   ]
  },
  {
   "cell_type": "code",
   "execution_count": 62,
   "metadata": {
    "collapsed": false,
    "scrolled": false
   },
   "outputs": [],
   "source": [
    "## Using the pandas.groupby() method to produce a pivot table:\n",
    "neighbors_II = dataset.groupby(by=['Neighbourhood','No_show']).WaitingCategories.value_counts().sort_index()"
   ]
  },
  {
   "cell_type": "code",
   "execution_count": 63,
   "metadata": {
    "collapsed": false
   },
   "outputs": [],
   "source": [
    "## Manipulating the data:\n",
    "neighbors_II = neighbors_II.unstack(1).unstack()  #Converting the groupby object into a dataset\n",
    "neighbors_II.fillna(value=0, inplace=True)  #Replacing NaN values by zero\n",
    "neighbors_II = df_row_normalize(neighbors_II)  #Normalizing its values by the total of each row\n",
    "neighbors_II = neighbors_II['Yes']  #Keeping only the values related to the absence\n",
    "## Converting the normalized float values to percentual int values:\n",
    "neighbors_II = (neighbors_II*100).astype('int64')\n",
    "neighbors_II = neighbors_II.reindex(columns=['Same day: 0', 'Short: 1-3', 'Week: 4-7', 'Fortnight: 8-15', 'Month: 16-30', 'Quarter: 31-90', 'Semester: 91-180'])"
   ]
  },
  {
   "cell_type": "code",
   "execution_count": 287,
   "metadata": {
    "collapsed": false,
    "scrolled": false
   },
   "outputs": [
    {
     "data": {
      "image/png": "[encoded data removed]",
      "text/plain": [
       "<matplotlib.figure.Figure at 0x7f4afd6aecf8>"
      ]
     },
     "metadata": {},
     "output_type": "display_data"
    }
   ],
   "source": [
    "# Drawing a heatmap with the numeric values in each cell\n",
    "fig3, ax = plt.subplots(figsize=(10, 25))\n",
    "cbar_kws = {'orientation':\"horizontal\", 'pad':0.03, 'aspect':50}\n",
    "sns.heatmap(neighbors_II, annot=True, fmt='d', linewidths=.3, ax=ax, cbar_kws=cbar_kws);"
   ]
  },
  {
   "cell_type": "markdown",
   "metadata": {},
   "source": [
    "It can be drawn from the heatmap above that in general the no-showing rate increases as the waiting gets longer for most of neighborhood, besides slightly different for each local. Some neighborhoods have higher no-showing rates even for short waiting times (e.g. *Ilha do Frade* and *Morada de Camburi*).  \n",
    "\n",
    "From these insights, it would be reasonable for the public administration of these localities to investigate the reasons for such occurrences by collecting more detailed data and conducting deeper analysis."
   ]
  },
  {
   "cell_type": "markdown",
   "metadata": {},
   "source": [
    "<a id='EDA_question2'></a>\n",
    "### 3.2. Exploring the patient profiles\n",
    "After understanding the characteristics of the missed appointments, as explored in the last section, we will now analyze the patient profiles driven by the following questions:\n",
    "* How the *no-shows* are distributed among the patients? \n",
    "* Is there any common characteristics among those patients that miss appointments?\n",
    "* Patients suffering from serious illnesses are more assiduous?"
   ]
  },
  {
   "cell_type": "markdown",
   "metadata": {},
   "source": [
    "Since we are now interested in the patients attribute that could characterize and differentiate those who attends to appointments from those who does not, we will first manipulate the dataset to show only the relevant information."
   ]
  },
  {
   "cell_type": "code",
   "execution_count": 303,
   "metadata": {
    "collapsed": true
   },
   "outputs": [],
   "source": [
    "## Defining a new dataframe from the attributes of interest:\n",
    "patients = dataset[['Gender','Age','Scholarship','Hipertension','Diabetes',\n",
    "                    'Alcoholism','Handicap','WaitingCategories','SMS_received','No_show']]"
   ]
  },
  {
   "cell_type": "markdown",
   "metadata": {},
   "source": [
    "By using *pandas.groupby()* method we could extract the relation among *waiting categories* and the patient attributes like *age, hipertension, diabetes* and so forth, primarily separated among the *No_show* classes. This task is easily accomplished by the *sum()* method, except for the *Age* attribute which must be calculated by the *mean()* method."
   ]
  },
  {
   "cell_type": "code",
   "execution_count": 304,
   "metadata": {
    "collapsed": false
   },
   "outputs": [
    {
     "data": {
      "text/html": [
       "<div>\n",
       "<style scoped>\n",
       "    .dataframe tbody tr th:only-of-type {\n",
       "        vertical-align: middle;\n",
       "    }\n",
       "\n",
       "    .dataframe tbody tr th {\n",
       "        vertical-align: top;\n",
       "    }\n",
       "\n",
       "    .dataframe thead tr th {\n",
       "        text-align: left;\n",
       "    }\n",
       "\n",
       "    .dataframe thead tr:last-of-type th {\n",
       "        text-align: right;\n",
       "    }\n",
       "</style>\n",
       "<table border=\"1\" class=\"dataframe\">\n",
       "  <thead>\n",
       "    <tr>\n",
       "      <th></th>\n",
       "      <th></th>\n",
       "      <th colspan=\"8\" halign=\"left\">Age</th>\n",
       "      <th colspan=\"2\" halign=\"left\">Alcoholism</th>\n",
       "      <th>...</th>\n",
       "      <th colspan=\"2\" halign=\"left\">SMS_received</th>\n",
       "      <th colspan=\"8\" halign=\"left\">Scholarship</th>\n",
       "    </tr>\n",
       "    <tr>\n",
       "      <th></th>\n",
       "      <th></th>\n",
       "      <th>count</th>\n",
       "      <th>mean</th>\n",
       "      <th>std</th>\n",
       "      <th>min</th>\n",
       "      <th>25%</th>\n",
       "      <th>50%</th>\n",
       "      <th>75%</th>\n",
       "      <th>max</th>\n",
       "      <th>count</th>\n",
       "      <th>mean</th>\n",
       "      <th>...</th>\n",
       "      <th>75%</th>\n",
       "      <th>max</th>\n",
       "      <th>count</th>\n",
       "      <th>mean</th>\n",
       "      <th>std</th>\n",
       "      <th>min</th>\n",
       "      <th>25%</th>\n",
       "      <th>50%</th>\n",
       "      <th>75%</th>\n",
       "      <th>max</th>\n",
       "    </tr>\n",
       "    <tr>\n",
       "      <th>No_show</th>\n",
       "      <th>WaitingCategories</th>\n",
       "      <th></th>\n",
       "      <th></th>\n",
       "      <th></th>\n",
       "      <th></th>\n",
       "      <th></th>\n",
       "      <th></th>\n",
       "      <th></th>\n",
       "      <th></th>\n",
       "      <th></th>\n",
       "      <th></th>\n",
       "      <th></th>\n",
       "      <th></th>\n",
       "      <th></th>\n",
       "      <th></th>\n",
       "      <th></th>\n",
       "      <th></th>\n",
       "      <th></th>\n",
       "      <th></th>\n",
       "      <th></th>\n",
       "      <th></th>\n",
       "      <th></th>\n",
       "    </tr>\n",
       "  </thead>\n",
       "  <tbody>\n",
       "    <tr>\n",
       "      <th rowspan=\"7\" valign=\"top\">No</th>\n",
       "      <th>Same day: 0</th>\n",
       "      <td>36770.0</td>\n",
       "      <td>34.747648</td>\n",
       "      <td>23.275342</td>\n",
       "      <td>0.0</td>\n",
       "      <td>15.00</td>\n",
       "      <td>34.0</td>\n",
       "      <td>53.00</td>\n",
       "      <td>115.0</td>\n",
       "      <td>36770.0</td>\n",
       "      <td>0.040305</td>\n",
       "      <td>...</td>\n",
       "      <td>0.0</td>\n",
       "      <td>0.0</td>\n",
       "      <td>36770.0</td>\n",
       "      <td>0.107289</td>\n",
       "      <td>0.309484</td>\n",
       "      <td>0.0</td>\n",
       "      <td>0.0</td>\n",
       "      <td>0.0</td>\n",
       "      <td>0.0</td>\n",
       "      <td>1.0</td>\n",
       "    </tr>\n",
       "    <tr>\n",
       "      <th>Short: 1-3</th>\n",
       "      <td>11316.0</td>\n",
       "      <td>43.441322</td>\n",
       "      <td>22.996905</td>\n",
       "      <td>0.0</td>\n",
       "      <td>25.00</td>\n",
       "      <td>47.0</td>\n",
       "      <td>61.00</td>\n",
       "      <td>102.0</td>\n",
       "      <td>11316.0</td>\n",
       "      <td>0.025893</td>\n",
       "      <td>...</td>\n",
       "      <td>0.0</td>\n",
       "      <td>1.0</td>\n",
       "      <td>11316.0</td>\n",
       "      <td>0.076264</td>\n",
       "      <td>0.265431</td>\n",
       "      <td>0.0</td>\n",
       "      <td>0.0</td>\n",
       "      <td>0.0</td>\n",
       "      <td>0.0</td>\n",
       "      <td>1.0</td>\n",
       "    </tr>\n",
       "    <tr>\n",
       "      <th>Week: 4-7</th>\n",
       "      <td>13097.0</td>\n",
       "      <td>40.951057</td>\n",
       "      <td>22.738829</td>\n",
       "      <td>0.0</td>\n",
       "      <td>22.00</td>\n",
       "      <td>43.0</td>\n",
       "      <td>59.00</td>\n",
       "      <td>97.0</td>\n",
       "      <td>13097.0</td>\n",
       "      <td>0.027564</td>\n",
       "      <td>...</td>\n",
       "      <td>1.0</td>\n",
       "      <td>1.0</td>\n",
       "      <td>13097.0</td>\n",
       "      <td>0.086585</td>\n",
       "      <td>0.281236</td>\n",
       "      <td>0.0</td>\n",
       "      <td>0.0</td>\n",
       "      <td>0.0</td>\n",
       "      <td>0.0</td>\n",
       "      <td>1.0</td>\n",
       "    </tr>\n",
       "    <tr>\n",
       "      <th>Fortnight: 8-15</th>\n",
       "      <td>9362.0</td>\n",
       "      <td>36.772805</td>\n",
       "      <td>22.674522</td>\n",
       "      <td>0.0</td>\n",
       "      <td>18.00</td>\n",
       "      <td>36.0</td>\n",
       "      <td>54.00</td>\n",
       "      <td>115.0</td>\n",
       "      <td>9362.0</td>\n",
       "      <td>0.024033</td>\n",
       "      <td>...</td>\n",
       "      <td>1.0</td>\n",
       "      <td>1.0</td>\n",
       "      <td>9362.0</td>\n",
       "      <td>0.104251</td>\n",
       "      <td>0.305602</td>\n",
       "      <td>0.0</td>\n",
       "      <td>0.0</td>\n",
       "      <td>0.0</td>\n",
       "      <td>0.0</td>\n",
       "      <td>1.0</td>\n",
       "    </tr>\n",
       "    <tr>\n",
       "      <th>Month: 16-30</th>\n",
       "      <td>10709.0</td>\n",
       "      <td>37.680456</td>\n",
       "      <td>23.145006</td>\n",
       "      <td>0.0</td>\n",
       "      <td>18.00</td>\n",
       "      <td>38.0</td>\n",
       "      <td>56.00</td>\n",
       "      <td>100.0</td>\n",
       "      <td>10709.0</td>\n",
       "      <td>0.021010</td>\n",
       "      <td>...</td>\n",
       "      <td>1.0</td>\n",
       "      <td>1.0</td>\n",
       "      <td>10709.0</td>\n",
       "      <td>0.090018</td>\n",
       "      <td>0.286221</td>\n",
       "      <td>0.0</td>\n",
       "      <td>0.0</td>\n",
       "      <td>0.0</td>\n",
       "      <td>0.0</td>\n",
       "      <td>1.0</td>\n",
       "    </tr>\n",
       "    <tr>\n",
       "      <th>Quarter: 31-90</th>\n",
       "      <td>6792.0</td>\n",
       "      <td>39.727326</td>\n",
       "      <td>23.501633</td>\n",
       "      <td>0.0</td>\n",
       "      <td>20.00</td>\n",
       "      <td>42.0</td>\n",
       "      <td>58.00</td>\n",
       "      <td>98.0</td>\n",
       "      <td>6792.0</td>\n",
       "      <td>0.014134</td>\n",
       "      <td>...</td>\n",
       "      <td>1.0</td>\n",
       "      <td>1.0</td>\n",
       "      <td>6792.0</td>\n",
       "      <td>0.057715</td>\n",
       "      <td>0.233221</td>\n",
       "      <td>0.0</td>\n",
       "      <td>0.0</td>\n",
       "      <td>0.0</td>\n",
       "      <td>0.0</td>\n",
       "      <td>1.0</td>\n",
       "    </tr>\n",
       "    <tr>\n",
       "      <th>Semester: 91-180</th>\n",
       "      <td>161.0</td>\n",
       "      <td>63.248447</td>\n",
       "      <td>24.794160</td>\n",
       "      <td>0.0</td>\n",
       "      <td>52.00</td>\n",
       "      <td>71.0</td>\n",
       "      <td>82.00</td>\n",
       "      <td>94.0</td>\n",
       "      <td>161.0</td>\n",
       "      <td>0.006211</td>\n",
       "      <td>...</td>\n",
       "      <td>1.0</td>\n",
       "      <td>1.0</td>\n",
       "      <td>161.0</td>\n",
       "      <td>0.055901</td>\n",
       "      <td>0.230447</td>\n",
       "      <td>0.0</td>\n",
       "      <td>0.0</td>\n",
       "      <td>0.0</td>\n",
       "      <td>0.0</td>\n",
       "      <td>1.0</td>\n",
       "    </tr>\n",
       "    <tr>\n",
       "      <th rowspan=\"7\" valign=\"top\">Yes</th>\n",
       "      <th>Same day: 0</th>\n",
       "      <td>1792.0</td>\n",
       "      <td>28.392299</td>\n",
       "      <td>21.207981</td>\n",
       "      <td>0.0</td>\n",
       "      <td>12.00</td>\n",
       "      <td>21.0</td>\n",
       "      <td>44.00</td>\n",
       "      <td>97.0</td>\n",
       "      <td>1792.0</td>\n",
       "      <td>0.031250</td>\n",
       "      <td>...</td>\n",
       "      <td>0.0</td>\n",
       "      <td>0.0</td>\n",
       "      <td>1792.0</td>\n",
       "      <td>0.136719</td>\n",
       "      <td>0.343646</td>\n",
       "      <td>0.0</td>\n",
       "      <td>0.0</td>\n",
       "      <td>0.0</td>\n",
       "      <td>0.0</td>\n",
       "      <td>1.0</td>\n",
       "    </tr>\n",
       "    <tr>\n",
       "      <th>Short: 1-3</th>\n",
       "      <td>3359.0</td>\n",
       "      <td>39.450729</td>\n",
       "      <td>22.604173</td>\n",
       "      <td>0.0</td>\n",
       "      <td>20.00</td>\n",
       "      <td>40.0</td>\n",
       "      <td>57.00</td>\n",
       "      <td>115.0</td>\n",
       "      <td>3359.0</td>\n",
       "      <td>0.035725</td>\n",
       "      <td>...</td>\n",
       "      <td>0.0</td>\n",
       "      <td>1.0</td>\n",
       "      <td>3359.0</td>\n",
       "      <td>0.095862</td>\n",
       "      <td>0.294446</td>\n",
       "      <td>0.0</td>\n",
       "      <td>0.0</td>\n",
       "      <td>0.0</td>\n",
       "      <td>0.0</td>\n",
       "      <td>1.0</td>\n",
       "    </tr>\n",
       "    <tr>\n",
       "      <th>Week: 4-7</th>\n",
       "      <td>4413.0</td>\n",
       "      <td>36.433265</td>\n",
       "      <td>21.641937</td>\n",
       "      <td>0.0</td>\n",
       "      <td>20.00</td>\n",
       "      <td>35.0</td>\n",
       "      <td>53.00</td>\n",
       "      <td>95.0</td>\n",
       "      <td>4413.0</td>\n",
       "      <td>0.039882</td>\n",
       "      <td>...</td>\n",
       "      <td>1.0</td>\n",
       "      <td>1.0</td>\n",
       "      <td>4413.0</td>\n",
       "      <td>0.119420</td>\n",
       "      <td>0.324319</td>\n",
       "      <td>0.0</td>\n",
       "      <td>0.0</td>\n",
       "      <td>0.0</td>\n",
       "      <td>0.0</td>\n",
       "      <td>1.0</td>\n",
       "    </tr>\n",
       "    <tr>\n",
       "      <th>Fortnight: 8-15</th>\n",
       "      <td>4166.0</td>\n",
       "      <td>32.448392</td>\n",
       "      <td>21.414294</td>\n",
       "      <td>0.0</td>\n",
       "      <td>16.00</td>\n",
       "      <td>30.0</td>\n",
       "      <td>48.00</td>\n",
       "      <td>98.0</td>\n",
       "      <td>4166.0</td>\n",
       "      <td>0.029045</td>\n",
       "      <td>...</td>\n",
       "      <td>1.0</td>\n",
       "      <td>1.0</td>\n",
       "      <td>4166.0</td>\n",
       "      <td>0.140663</td>\n",
       "      <td>0.347715</td>\n",
       "      <td>0.0</td>\n",
       "      <td>0.0</td>\n",
       "      <td>0.0</td>\n",
       "      <td>0.0</td>\n",
       "      <td>1.0</td>\n",
       "    </tr>\n",
       "    <tr>\n",
       "      <th>Month: 16-30</th>\n",
       "      <td>5157.0</td>\n",
       "      <td>33.036843</td>\n",
       "      <td>21.210556</td>\n",
       "      <td>0.0</td>\n",
       "      <td>16.00</td>\n",
       "      <td>31.0</td>\n",
       "      <td>48.00</td>\n",
       "      <td>95.0</td>\n",
       "      <td>5157.0</td>\n",
       "      <td>0.024627</td>\n",
       "      <td>...</td>\n",
       "      <td>1.0</td>\n",
       "      <td>1.0</td>\n",
       "      <td>5157.0</td>\n",
       "      <td>0.115765</td>\n",
       "      <td>0.319974</td>\n",
       "      <td>0.0</td>\n",
       "      <td>0.0</td>\n",
       "      <td>0.0</td>\n",
       "      <td>0.0</td>\n",
       "      <td>1.0</td>\n",
       "    </tr>\n",
       "    <tr>\n",
       "      <th>Quarter: 31-90</th>\n",
       "      <td>3369.0</td>\n",
       "      <td>33.519442</td>\n",
       "      <td>22.396125</td>\n",
       "      <td>0.0</td>\n",
       "      <td>14.00</td>\n",
       "      <td>32.0</td>\n",
       "      <td>51.00</td>\n",
       "      <td>115.0</td>\n",
       "      <td>3369.0</td>\n",
       "      <td>0.022262</td>\n",
       "      <td>...</td>\n",
       "      <td>1.0</td>\n",
       "      <td>1.0</td>\n",
       "      <td>3369.0</td>\n",
       "      <td>0.087860</td>\n",
       "      <td>0.283133</td>\n",
       "      <td>0.0</td>\n",
       "      <td>0.0</td>\n",
       "      <td>0.0</td>\n",
       "      <td>0.0</td>\n",
       "      <td>1.0</td>\n",
       "    </tr>\n",
       "    <tr>\n",
       "      <th>Semester: 91-180</th>\n",
       "      <td>56.0</td>\n",
       "      <td>53.714286</td>\n",
       "      <td>27.043207</td>\n",
       "      <td>0.0</td>\n",
       "      <td>41.75</td>\n",
       "      <td>59.5</td>\n",
       "      <td>76.25</td>\n",
       "      <td>95.0</td>\n",
       "      <td>56.0</td>\n",
       "      <td>0.035714</td>\n",
       "      <td>...</td>\n",
       "      <td>1.0</td>\n",
       "      <td>1.0</td>\n",
       "      <td>56.0</td>\n",
       "      <td>0.089286</td>\n",
       "      <td>0.287736</td>\n",
       "      <td>0.0</td>\n",
       "      <td>0.0</td>\n",
       "      <td>0.0</td>\n",
       "      <td>0.0</td>\n",
       "      <td>1.0</td>\n",
       "    </tr>\n",
       "  </tbody>\n",
       "</table>\n",
       "<p>14 rows × 56 columns</p>\n",
       "</div>"
      ],
      "text/plain": [
       "                               Age                                          \\\n",
       "                             count       mean        std  min    25%   50%   \n",
       "No_show WaitingCategories                                                    \n",
       "No      Same day: 0        36770.0  34.747648  23.275342  0.0  15.00  34.0   \n",
       "        Short: 1-3         11316.0  43.441322  22.996905  0.0  25.00  47.0   \n",
       "        Week: 4-7          13097.0  40.951057  22.738829  0.0  22.00  43.0   \n",
       "        Fortnight: 8-15     9362.0  36.772805  22.674522  0.0  18.00  36.0   \n",
       "        Month: 16-30       10709.0  37.680456  23.145006  0.0  18.00  38.0   \n",
       "        Quarter: 31-90      6792.0  39.727326  23.501633  0.0  20.00  42.0   \n",
       "        Semester: 91-180     161.0  63.248447  24.794160  0.0  52.00  71.0   \n",
       "Yes     Same day: 0         1792.0  28.392299  21.207981  0.0  12.00  21.0   \n",
       "        Short: 1-3          3359.0  39.450729  22.604173  0.0  20.00  40.0   \n",
       "        Week: 4-7           4413.0  36.433265  21.641937  0.0  20.00  35.0   \n",
       "        Fortnight: 8-15     4166.0  32.448392  21.414294  0.0  16.00  30.0   \n",
       "        Month: 16-30        5157.0  33.036843  21.210556  0.0  16.00  31.0   \n",
       "        Quarter: 31-90      3369.0  33.519442  22.396125  0.0  14.00  32.0   \n",
       "        Semester: 91-180      56.0  53.714286  27.043207  0.0  41.75  59.5   \n",
       "\n",
       "                                        Alcoholism           ...   \\\n",
       "                             75%    max      count      mean ...    \n",
       "No_show WaitingCategories                                    ...    \n",
       "No      Same day: 0        53.00  115.0    36770.0  0.040305 ...    \n",
       "        Short: 1-3         61.00  102.0    11316.0  0.025893 ...    \n",
       "        Week: 4-7          59.00   97.0    13097.0  0.027564 ...    \n",
       "        Fortnight: 8-15    54.00  115.0     9362.0  0.024033 ...    \n",
       "        Month: 16-30       56.00  100.0    10709.0  0.021010 ...    \n",
       "        Quarter: 31-90     58.00   98.0     6792.0  0.014134 ...    \n",
       "        Semester: 91-180   82.00   94.0      161.0  0.006211 ...    \n",
       "Yes     Same day: 0        44.00   97.0     1792.0  0.031250 ...    \n",
       "        Short: 1-3         57.00  115.0     3359.0  0.035725 ...    \n",
       "        Week: 4-7          53.00   95.0     4413.0  0.039882 ...    \n",
       "        Fortnight: 8-15    48.00   98.0     4166.0  0.029045 ...    \n",
       "        Month: 16-30       48.00   95.0     5157.0  0.024627 ...    \n",
       "        Quarter: 31-90     51.00  115.0     3369.0  0.022262 ...    \n",
       "        Semester: 91-180   76.25   95.0       56.0  0.035714 ...    \n",
       "\n",
       "                          SMS_received      Scholarship                      \\\n",
       "                                   75%  max       count      mean       std   \n",
       "No_show WaitingCategories                                                     \n",
       "No      Same day: 0                0.0  0.0     36770.0  0.107289  0.309484   \n",
       "        Short: 1-3                 0.0  1.0     11316.0  0.076264  0.265431   \n",
       "        Week: 4-7                  1.0  1.0     13097.0  0.086585  0.281236   \n",
       "        Fortnight: 8-15            1.0  1.0      9362.0  0.104251  0.305602   \n",
       "        Month: 16-30               1.0  1.0     10709.0  0.090018  0.286221   \n",
       "        Quarter: 31-90             1.0  1.0      6792.0  0.057715  0.233221   \n",
       "        Semester: 91-180           1.0  1.0       161.0  0.055901  0.230447   \n",
       "Yes     Same day: 0                0.0  0.0      1792.0  0.136719  0.343646   \n",
       "        Short: 1-3                 0.0  1.0      3359.0  0.095862  0.294446   \n",
       "        Week: 4-7                  1.0  1.0      4413.0  0.119420  0.324319   \n",
       "        Fortnight: 8-15            1.0  1.0      4166.0  0.140663  0.347715   \n",
       "        Month: 16-30               1.0  1.0      5157.0  0.115765  0.319974   \n",
       "        Quarter: 31-90             1.0  1.0      3369.0  0.087860  0.283133   \n",
       "        Semester: 91-180           1.0  1.0        56.0  0.089286  0.287736   \n",
       "\n",
       "                                                    \n",
       "                           min  25%  50%  75%  max  \n",
       "No_show WaitingCategories                           \n",
       "No      Same day: 0        0.0  0.0  0.0  0.0  1.0  \n",
       "        Short: 1-3         0.0  0.0  0.0  0.0  1.0  \n",
       "        Week: 4-7          0.0  0.0  0.0  0.0  1.0  \n",
       "        Fortnight: 8-15    0.0  0.0  0.0  0.0  1.0  \n",
       "        Month: 16-30       0.0  0.0  0.0  0.0  1.0  \n",
       "        Quarter: 31-90     0.0  0.0  0.0  0.0  1.0  \n",
       "        Semester: 91-180   0.0  0.0  0.0  0.0  1.0  \n",
       "Yes     Same day: 0        0.0  0.0  0.0  0.0  1.0  \n",
       "        Short: 1-3         0.0  0.0  0.0  0.0  1.0  \n",
       "        Week: 4-7          0.0  0.0  0.0  0.0  1.0  \n",
       "        Fortnight: 8-15    0.0  0.0  0.0  0.0  1.0  \n",
       "        Month: 16-30       0.0  0.0  0.0  0.0  1.0  \n",
       "        Quarter: 31-90     0.0  0.0  0.0  0.0  1.0  \n",
       "        Semester: 91-180   0.0  0.0  0.0  0.0  1.0  \n",
       "\n",
       "[14 rows x 56 columns]"
      ]
     },
     "execution_count": 304,
     "metadata": {},
     "output_type": "execute_result"
    }
   ],
   "source": [
    "## Obtaining an statistical overview of all the attributes:\n",
    "patients.groupby(by=['No_show','WaitingCategories']).describe()"
   ]
  },
  {
   "cell_type": "code",
   "execution_count": 305,
   "metadata": {
    "collapsed": false,
    "scrolled": false
   },
   "outputs": [],
   "source": [
    "## Grouping by classes and waiting categories and calculating the instances sum:\n",
    "patients_sum = patients.groupby(by=['No_show','WaitingCategories']).sum()\n",
    "## Grouping by classes and waiting categories and calculating the instances sum:\n",
    "patients_mean = patients.groupby(by=['No_show','WaitingCategories']).mean()"
   ]
  },
  {
   "cell_type": "code",
   "execution_count": 306,
   "metadata": {
    "collapsed": false
   },
   "outputs": [],
   "source": [
    "## Adjusting the 'Age' attribute to have the mean instead of sum values:\n",
    "patients = patients_sum.copy()\n",
    "patients['Age'] = patients_mean['Age']"
   ]
  },
  {
   "cell_type": "code",
   "execution_count": 307,
   "metadata": {
    "collapsed": false
   },
   "outputs": [],
   "source": [
    "## Normalizing data using the predefined function\n",
    "patients = df_column_normalize(patients, percent=True)"
   ]
  },
  {
   "cell_type": "code",
   "execution_count": 308,
   "metadata": {
    "collapsed": false
   },
   "outputs": [
    {
     "data": {
      "image/png": "[encoded data removed]",
      "text/plain": [
       "<matplotlib.figure.Figure at 0x7f4afde0fc88>"
      ]
     },
     "metadata": {},
     "output_type": "display_data"
    }
   ],
   "source": [
    "# Drawing a heatmap with the numeric values in each cell\n",
    "fig4, ax = plt.subplots(figsize=(12, 10))\n",
    "ax.set_yticklabels(ax.get_yticklabels(), ha=\"right\", fontsize=12, weight='bold')\n",
    "ax.set_xticklabels(ax.get_xticklabels(), fontsize=12, weight='bold')\n",
    "\n",
    "cbar_kws = {'orientation':\"horizontal\", 'pad':0.05, 'aspect':50}\n",
    "sns.heatmap(patients, annot=True, fmt='.2f', linewidths=.3, ax=ax, cbar_kws=cbar_kws);"
   ]
  },
  {
   "cell_type": "markdown",
   "metadata": {},
   "source": [
    "From the heatmap and descriptive statistics above the following conclusions can be drawn:\n",
    "* The patients who attend to the appointments are in general older than those who don't.\n",
    "* Most of the patients **who attend** the appointments scheduled in the **same day** receives *scholarship* and presents *hipertension, diabetes, alcoholism*, and *handicap*. These data may indicate these group of patients (i) may not have access to scheduling systems; or (ii) may need emergency care more often.\n",
    "* Patients suffering from hypertension and diabetes are more assiduous in relation to medical appointments. \n",
    "* Most **patients who have received SMS (70%) have attended to appointments scheduled from a week to a quarter**."
   ]
  },
  {
   "cell_type": "markdown",
   "metadata": {
    "collapsed": true
   },
   "source": [
    "-----------"
   ]
  },
  {
   "cell_type": "markdown",
   "metadata": {},
   "source": [
    "<a id='conclusions'></a>\n",
    "## 4. Conclusions\n",
    "This analysis sought to explore the medical appointment no-shows dataset, available in <a href=\"#[2]\">[2]</a>, containing more than *100.000* appointments and of which approximately 30% of the patients did not attend. In this way, the data exploration presented in this notebook has the purpose to show up some insights on the possible causes of this appointments missing. It is important to note, though, that with the provided data and the used methods it is not possible to affirm any statement with statistical validity nor causal relations. On the other hand, the insights obtained through this analysis can, instead, inform and direct in-depth research on the subject, in order to validate the causes of the appointment missing and find ways to eradicate them.\n",
    "\n",
    "In the <a href=\"#intro\">Introduction</a> of this notebook we have formulated some questions that have driven this analysis. We will now present the insights gained from the data exploration for each of them."
   ]
  },
  {
   "cell_type": "markdown",
   "metadata": {},
   "source": [
    "* **Regarding the no-showing appointments**:\n",
    "  - Do the patients forget the appointment?\n",
    "  - What is the average waiting time between the scheduling date and the appointment date?"
   ]
  },
  {
   "cell_type": "markdown",
   "metadata": {},
   "source": [
    "* **Regarding the patient profile**:\n",
    "  - Is there any common characteristics among those patients that miss appointments?\n",
    "  - What is the *missing appointments per patient* relation in the dataset?  \n",
    "  - How many patients have missed an appointment at least once?\n",
    "  - Patients suffering from serious illnesses are more assiduous?"
   ]
  },
  {
   "cell_type": "markdown",
   "metadata": {},
   "source": [
    "* **Regarding the health unit**:\n",
    "  - What are the neighbourhoods with the highest no-showing rate?\n",
    "  - Considering there are common characteristics among those who do not attend the appointments, how these characteristics are geographically distributed?\n",
    "  "
   ]
  },
  {
   "cell_type": "markdown",
   "metadata": {},
   "source": [
    "* **Regarding the data**:\n",
    "  - Is the data balanced in relation to the interest class (showing/no-showing to appointments)?\n",
    "  - How is the data distributed in relation to the location (neighborhood)? I.e. all the units have an equivalent and balanced number of instances?\n",
    "  \n"
   ]
  },
  {
   "cell_type": "code",
   "execution_count": 293,
   "metadata": {
    "collapsed": false
   },
   "outputs": [
    {
     "data": {
      "image/png": "[encoded data removed]",
      "text/plain": [
       "<matplotlib.figure.Figure at 0x7f4afda9dcf8>"
      ]
     },
     "execution_count": 293,
     "metadata": {},
     "output_type": "execute_result"
    }
   ],
   "source": [
    "fig1"
   ]
  },
  {
   "cell_type": "code",
   "execution_count": 291,
   "metadata": {
    "collapsed": false
   },
   "outputs": [
    {
     "data": {
      "image/png": "[encoded data removed]",
      "text/plain": [
       "<matplotlib.figure.Figure at 0x7f4b166f8630>"
      ]
     },
     "execution_count": 291,
     "metadata": {},
     "output_type": "execute_result"
    }
   ],
   "source": [
    "fig4"
   ]
  },
  {
   "cell_type": "code",
   "execution_count": null,
   "metadata": {
    "collapsed": true
   },
   "outputs": [],
   "source": []
  },
  {
   "cell_type": "code",
   "execution_count": null,
   "metadata": {
    "collapsed": true
   },
   "outputs": [],
   "source": []
  },
  {
   "cell_type": "markdown",
   "metadata": {},
   "source": [
    "<a id='references'></a>\n",
    "## References\n",
    "\n",
    "<a id='[1]'></a>[1] Wikipedia contributors. Brazil. Wikipedia, The Free Encyclopedia. February 9, 2018, 22:06 UTC. Available at: https://en.wikipedia.org/w/index.php?title=Brazil&oldid=824851232. Accessed in February 10, 2018.\n",
    "\n",
    "<a id='[2]'></a>[2] Kaggle. *Medical Appointment No Shows*. Reviewed dataset. Available at: https://www.kaggle.com/joniarroba/noshowappointments. Accessed in February 10, 2018.\n",
    "\n",
    "<a id='[3]'></a>[3] Victora, C. G., Barreto, M. L., Leal, M. D. C., Monteiro, C. A., Schmidt, M. I., Paim, J. S., ... & Reichenheim, M. E. (2011). *Condições de saúde e inovações nas políticas de saúde no Brasil: o caminho a percorrer* (in Portuguese). Available at: https://repositorio.ufba.br/ri/handle/ri/5973. Accessed in February 12, 2018.\n",
    "\n",
    "<a id='[4]'></a>[4] Pandas 0.22.0 documentation. Available at: https://pandas.pydata.org/pandas-docs/stable/timeseries.html. Accessed in February 20, 2018.\n",
    "\n",
    "<a id='[5]'></a>[5] Twelve useful Pandas techniques in Python for data manipulation. Analytics Vhidya. Available at: https://www.analyticsvidhya.com/blog/2016/01/12-pandas-techniques-python-data-manipulation/. Accessed in February 22, 2018.\n",
    "\n",
    "<a id='[6]'></a>[6] Stack Overflow. Plot pandas DataFrame as bar and line on the same one chart. Available at https://stackoverflow.com/questions/23482201/plot-pandas-dataframe-as-bar-and-line-on-the-same-one-chart. Accessed in February 24, 2018.\n",
    "\n",
    "<a id='[7]'></a>[7] Stack Overflow. Writing numerical numerical values on the plot with Matplotlib. Available at https://stackoverflow.com/questions/6282058/writing-numerical-values-on-the-plot-with-matplotlib. Accessed in February 24, 2018.\n",
    "\n",
    "<a id='[8]'></a>[8] Wikipedia contributors. *Lista de Bairros de Vitória*. Available at: https://pt.wikipedia.org/wiki/Lista_de_bairros_de_Vit%C3%B3ria. Accessed in February 27, 2018.\n",
    "\n",
    "<a id='[9]'></a>[9] Matplotlib. Colorbar API. Version 2.1.2. Available at https://matplotlib.org/api/colorbar_api.html. Accessed in February 27, 2018."
   ]
  }
 ],
 "metadata": {
  "kernelspec": {
   "display_name": "Python [conda env:analytics3]",
   "language": "python",
   "name": "conda-env-analytics3-py"
  },
  "language_info": {
   "codemirror_mode": {
    "name": "ipython",
    "version": 3
   },
   "file_extension": ".py",
   "mimetype": "text/x-python",
   "name": "python",
   "nbconvert_exporter": "python",
   "pygments_lexer": "ipython3",
   "version": "3.6.0"
  }
 },
 "nbformat": 4,
 "nbformat_minor": 2
}
